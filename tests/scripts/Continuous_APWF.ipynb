{
 "cells": [
  {
   "cell_type": "code",
   "execution_count": 1,
   "metadata": {},
   "outputs": [],
   "source": [
    "import time\n",
    "import yaml\n",
    "import os\n",
    "from collections import deque\n",
    "\n",
    "from apwf.tools import fx_comp_helper, fx_daq_helper, executor_helper \n",
    "from apwf.flows import automate_helper\n",
    "\n",
    "from funcx.sdk.client import FuncXClient\n",
    "from globus_automate_client import create_flows_client\n",
    "\n",
    "\n",
    "configfile = f\"{os.getcwd()}/ptycho_wf_config.yml\"\n",
    "wf_config= yaml.safe_load(open(configfile))\n",
    "\n",
    "apwfLogger = executor_helper.setup_logger(wf_config)"
   ]
  },
  {
   "cell_type": "code",
   "execution_count": 2,
   "metadata": {},
   "outputs": [
    {
     "name": "stdout",
     "output_type": "stream",
     "text": [
      "b35e121c-5ed6-4980-a32e-9aee09089c36\n"
     ]
    }
   ],
   "source": [
    "# Globus Online Endpoints\n",
    "src_endpoint = wf_config['globus_endpoints']['aps_mona4_gcp']\n",
    "dest_endpoint = wf_config['globus_endpoints']['alcf_theta']\n",
    "\n",
    "# FuncX endpoint at ThetaGPU (ALCF) and Prisma (APS)\n",
    "compute_fx_endpoint = wf_config['funcx_endpoints']['alcf_polaris_gpu']\n",
    "daq_fx_endpoint = wf_config['funcx_endpoints']['aps_mona4_daq']\n",
    "\n",
    "print(compute_fx_endpoint)"
   ]
  },
  {
   "cell_type": "code",
   "execution_count": 3,
   "metadata": {},
   "outputs": [],
   "source": [
    "fxc = FuncXClient()"
   ]
  },
  {
   "cell_type": "code",
   "execution_count": 4,
   "metadata": {},
   "outputs": [
    {
     "name": "stdout",
     "output_type": "stream",
     "text": [
      "2022-04-25 17:00:33 INFO Executor folders/files are ready.\n",
      "2022-04-25 17:00:36 INFO Data acquisition machine's folders/files are ready.\n",
      "2022-04-25 17:01:21 INFO Compute machines' folders/files are ready.\n"
     ]
    },
    {
     "name": "stderr",
     "output_type": "stream",
     "text": [
      "INFO:apwf:Compute machines' folders/files are ready.\n"
     ]
    }
   ],
   "source": [
    "# Register setup functions to funcx service\n",
    "daq_wf_fxid = fxc.register_function(fx_daq_helper.daq_wf_prepare)\n",
    "comp_wf_fxid = fxc.register_function(fx_comp_helper.comp_wf_prepare)\n",
    "\n",
    "## Prepare workflow environment ##\n",
    "# Executor\n",
    "res = executor_helper.executor_wf_prepare(wf_config['executor']['activated_iids_file_path'],\n",
    "                                          wf_config['executor']['log_folder_path'],\n",
    "                                          create_activated_iid_file=True, create_log_folder=True, \n",
    "                                          cleanup_activated_iid_file=False, cleanup_log_folder=False)\n",
    "if res != 0: apwfLogger.error(f\"Unable to setup executor folders/files: {res}\")\n",
    "else: apwfLogger.info(\"Executor folders/files are ready.\")\n",
    "\n",
    "# Data acquisition\n",
    "rid = fxc.run(f\"{wf_config['flow']['source']['root_folder_path']}/{wf_config['flow']['source']['input_folder_prefix']}\",\n",
    "              f\"{wf_config['flow']['source']['root_folder_path']}/{wf_config['flow']['source']['input_position_folder_prefix']}\",\n",
    "              f\"{wf_config['flow']['source']['root_folder_path']}/{wf_config['flow']['source']['output_folder_prefix']}\",\n",
    "              probe_file_path=None, create_output_folder=True, cleanup_output_folder=False,\n",
    "              endpoint_id=daq_fx_endpoint, function_id=daq_wf_fxid)\n",
    "res = automate_helper.fx_get_result(rid, fxc)\n",
    "if res != 0: apwfLogger.error(f\"Unable to setup data acquisition machine folders/files: {res}\")\n",
    "else: apwfLogger.info(\"Data acquisition machine's folders/files are ready.\")\n",
    "\n",
    "# Compute machine\n",
    "rid = fxc.run(f\"{wf_config['flow']['destination']['root_folder_path']}/{wf_config['flow']['destination']['input_folder_prefix']}\",\n",
    "              f\"{wf_config['flow']['destination']['root_folder_path']}/{wf_config['flow']['destination']['output_folder_prefix']}\",\n",
    "              f\"{wf_config['flow']['task']['executable']['params']['log_folder_path']}\",\n",
    "              create_input_folder=True, create_output_folder=True, create_log_folder=True, \n",
    "              cleanup_input_folder=False, cleanup_output_folder=False, cleanup_log_folder=False,\n",
    "              endpoint_id=compute_fx_endpoint, function_id=comp_wf_fxid)\n",
    "res = automate_helper.fx_get_result(rid, fxc)\n",
    "if res != 0: apwfLogger.error(f\"Unable to setup compute machine folders/files: {res}\")\n",
    "else: apwfLogger.info(\"Compute machines' folders/files are ready.\")\n"
   ]
  },
  {
   "cell_type": "code",
   "execution_count": 5,
   "metadata": {},
   "outputs": [
    {
     "name": "stdout",
     "output_type": "stream",
     "text": [
      "fc41dd8a-d056-44aa-944f-db28a2def75b\n"
     ]
    }
   ],
   "source": [
    "# FuncX function definition for remote Polaris GPU reconstruction call\n",
    "func_ptycho_uuid = fxc.register_function(fx_comp_helper.ptycho_func)\n",
    "print(func_ptycho_uuid)"
   ]
  },
  {
   "cell_type": "code",
   "execution_count": 6,
   "metadata": {},
   "outputs": [
    {
     "name": "stdout",
     "output_type": "stream",
     "text": [
      "6b1c87c5-4193-44f9-ad99-dc27e768a010\n",
      "e125ff39-9da5-4404-9103-1d5768221f3e\n"
     ]
    }
   ],
   "source": [
    "# FuncX function definition for remote DAQ machine directory calls\n",
    "fx_func_get_file_paths_uuid = fxc.register_function(fx_daq_helper.get_file_paths)\n",
    "fx_func_get_folder_paths_uuid = fxc.register_function(fx_daq_helper.get_folder_paths)\n",
    "print(fx_func_get_file_paths_uuid)\n",
    "print(fx_func_get_folder_paths_uuid)"
   ]
  },
  {
   "cell_type": "code",
   "execution_count": 7,
   "metadata": {},
   "outputs": [],
   "source": [
    "# Globus Automate flow definition\n",
    "flow_definition = automate_helper.ptycho_flow_definition\n",
    "\n",
    "# Create a flow with the above flow definition\n",
    "flows_client = create_flows_client()\n",
    "flow = flows_client.deploy_flow(flow_definition, input_schema={}, title=wf_config['flow']['title'], keywords=wf_config['flow']['keywords'])\n",
    "flow_id = flow['id']\n",
    "flow_scope = flow['globus_auth_scope']"
   ]
  },
  {
   "cell_type": "code",
   "execution_count": 8,
   "metadata": {
    "scrolled": true
   },
   "outputs": [
    {
     "name": "stdout",
     "output_type": "stream",
     "text": [
      "Please log into Globus here:\n",
      "----------------------------\n",
      "https://auth.globus.org/v2/oauth2/authorize?client_id=e6c75d97-532a-4c88-b031-8584a319fa3e&redirect_uri=https%3A%2F%2Fauth.globus.org%2Fv2%2Fweb%2Fauth-code&scope=https%3A%2F%2Fauth.globus.org%2Fscopes%2F300f9098-a3ae-4f29-a7e9-e5bfa13b5b67%2Fflow_300f9098_a3ae_4f29_a7e9_e5bfa13b5b67_user&state=_default&response_type=code&code_challenge=4bmS2Vp--XqlL1CrKfT27-ZeEqaUobA8xY3fAZmp5Cc&code_challenge_method=S256&access_type=offline&prefill_named_grant=Globus+Automate+Command+Line+Interface+on+hostel.xray.aps.anl.gov\n",
      "----------------------------\n",
      "\u001b[0m\n",
      "Enter the resulting Authorization Code here: 2022-04-25 17:52:51 INFO 0: Flow 1460 initiated and added to q1: b29391a9-56da-4520-aac7-d89e02277a33\n"
     ]
    },
    {
     "name": "stderr",
     "output_type": "stream",
     "text": [
      "INFO:apwf:0: Flow 1460 initiated and added to q1: b29391a9-56da-4520-aac7-d89e02277a33\n"
     ]
    },
    {
     "name": "stdout",
     "output_type": "stream",
     "text": [
      "2022-04-25 17:52:57 INFO 0: Flow 1464 initiated and added to q1: 18fdd1eb-25a1-4a3a-b16c-d2f1d0ada821\n"
     ]
    },
    {
     "name": "stderr",
     "output_type": "stream",
     "text": [
      "INFO:apwf:0: Flow 1464 initiated and added to q1: 18fdd1eb-25a1-4a3a-b16c-d2f1d0ada821\n"
     ]
    },
    {
     "name": "stdout",
     "output_type": "stream",
     "text": [
      "2022-04-25 17:52:57 INFO 1: Flow 1463 initiated and added to q1: e1eddce2-eb21-409d-8335-20f374aaa473\n"
     ]
    },
    {
     "name": "stderr",
     "output_type": "stream",
     "text": [
      "INFO:apwf:1: Flow 1463 initiated and added to q1: e1eddce2-eb21-409d-8335-20f374aaa473\n"
     ]
    },
    {
     "name": "stdout",
     "output_type": "stream",
     "text": [
      "2022-04-25 17:52:58 INFO 2: Flow 1462 initiated and added to q1: 64032a27-0f0a-46d4-aed7-69f4c4885644\n"
     ]
    },
    {
     "name": "stderr",
     "output_type": "stream",
     "text": [
      "INFO:apwf:2: Flow 1462 initiated and added to q1: 64032a27-0f0a-46d4-aed7-69f4c4885644\n"
     ]
    },
    {
     "name": "stdout",
     "output_type": "stream",
     "text": [
      "2022-04-25 17:52:59 INFO 3: Flow 1461 initiated and added to q1: aed0d88c-63d3-4c74-86f5-cd7f37c9693e\n"
     ]
    },
    {
     "name": "stderr",
     "output_type": "stream",
     "text": [
      "INFO:apwf:3: Flow 1461 initiated and added to q1: aed0d88c-63d3-4c74-86f5-cd7f37c9693e\n"
     ]
    },
    {
     "name": "stdout",
     "output_type": "stream",
     "text": [
      "2022-04-25 17:53:05 INFO 0: Flow 1465 initiated and added to q1: a40f44da-6f74-4b69-ae08-0cccee01929f\n"
     ]
    },
    {
     "name": "stderr",
     "output_type": "stream",
     "text": [
      "INFO:apwf:0: Flow 1465 initiated and added to q1: a40f44da-6f74-4b69-ae08-0cccee01929f\n"
     ]
    },
    {
     "name": "stdout",
     "output_type": "stream",
     "text": [
      "2022-04-25 17:53:21 INFO 0: Flow 1466 initiated and added to q1: 8d43380c-36df-44a0-93f6-f2b05727bc7a\n"
     ]
    },
    {
     "name": "stderr",
     "output_type": "stream",
     "text": [
      "INFO:apwf:0: Flow 1466 initiated and added to q1: 8d43380c-36df-44a0-93f6-f2b05727bc7a\n"
     ]
    },
    {
     "name": "stdout",
     "output_type": "stream",
     "text": [
      "2022-04-25 17:53:31 INFO 0: Flow 1467 initiated and added to q1: f70c3a38-84eb-481f-b6db-135e5dc3474b\n"
     ]
    },
    {
     "name": "stderr",
     "output_type": "stream",
     "text": [
      "INFO:apwf:0: Flow 1467 initiated and added to q1: f70c3a38-84eb-481f-b6db-135e5dc3474b\n"
     ]
    },
    {
     "name": "stdout",
     "output_type": "stream",
     "text": [
      "2022-04-25 17:53:41 INFO 0: Flow 1468 initiated and added to q1: b0c6ef9b-8f1c-448c-8856-d7d29c51b30e\n"
     ]
    },
    {
     "name": "stderr",
     "output_type": "stream",
     "text": [
      "INFO:apwf:0: Flow 1468 initiated and added to q1: b0c6ef9b-8f1c-448c-8856-d7d29c51b30e\n"
     ]
    },
    {
     "name": "stdout",
     "output_type": "stream",
     "text": [
      "2022-04-25 17:53:56 INFO 0: Flow 1469 initiated and added to q1: 5ab24786-2974-4783-acf4-79b37dca3dc3\n"
     ]
    },
    {
     "name": "stderr",
     "output_type": "stream",
     "text": [
      "INFO:apwf:0: Flow 1469 initiated and added to q1: 5ab24786-2974-4783-acf4-79b37dca3dc3\n"
     ]
    },
    {
     "name": "stdout",
     "output_type": "stream",
     "text": [
      "2022-04-25 17:54:06 INFO 0: Flow 1470 initiated and added to q1: 92da30b4-e607-4921-abec-c84c42d3e3d2\n"
     ]
    },
    {
     "name": "stderr",
     "output_type": "stream",
     "text": [
      "INFO:apwf:0: Flow 1470 initiated and added to q1: 92da30b4-e607-4921-abec-c84c42d3e3d2\n"
     ]
    },
    {
     "name": "stdout",
     "output_type": "stream",
     "text": [
      "2022-04-25 17:54:17 INFO 0: Flow 1471 initiated and added to q1: de935425-96c2-4498-b677-a3c6e262800a\n"
     ]
    },
    {
     "name": "stderr",
     "output_type": "stream",
     "text": [
      "INFO:apwf:0: Flow 1471 initiated and added to q1: de935425-96c2-4498-b677-a3c6e262800a\n"
     ]
    },
    {
     "name": "stdout",
     "output_type": "stream",
     "text": [
      "2022-04-25 17:54:27 INFO 0: Flow 1472 initiated and added to q1: ee8daa18-f389-4b3a-bdb5-046302436498\n"
     ]
    },
    {
     "name": "stderr",
     "output_type": "stream",
     "text": [
      "INFO:apwf:0: Flow 1472 initiated and added to q1: ee8daa18-f389-4b3a-bdb5-046302436498\n"
     ]
    },
    {
     "name": "stdout",
     "output_type": "stream",
     "text": [
      "2022-04-25 17:54:38 INFO 0: Flow 1473 initiated and added to q1: 8db1fb2b-d720-463e-8971-c88689eff125\n"
     ]
    },
    {
     "name": "stderr",
     "output_type": "stream",
     "text": [
      "INFO:apwf:0: Flow 1473 initiated and added to q1: 8db1fb2b-d720-463e-8971-c88689eff125\n"
     ]
    },
    {
     "name": "stdout",
     "output_type": "stream",
     "text": [
      "2022-04-25 17:54:53 INFO 0: Flow 1474 initiated and added to q1: 1f24b648-f68f-4f41-9e2c-ba56e942dbf7\n"
     ]
    },
    {
     "name": "stderr",
     "output_type": "stream",
     "text": [
      "INFO:apwf:0: Flow 1474 initiated and added to q1: 1f24b648-f68f-4f41-9e2c-ba56e942dbf7\n"
     ]
    },
    {
     "name": "stdout",
     "output_type": "stream",
     "text": [
      "2022-04-25 17:55:04 INFO 0: Flow 1475 initiated and added to q1: 8857b61b-6e1c-46ed-9ff8-aa4e90a41e91\n"
     ]
    },
    {
     "name": "stderr",
     "output_type": "stream",
     "text": [
      "INFO:apwf:0: Flow 1475 initiated and added to q1: 8857b61b-6e1c-46ed-9ff8-aa4e90a41e91\n"
     ]
    },
    {
     "name": "stdout",
     "output_type": "stream",
     "text": [
      "2022-04-25 17:55:19 INFO 0: Flow 1476 initiated and added to q1: 6948c88d-152a-4e98-bc77-f00690dc628a\n"
     ]
    },
    {
     "name": "stderr",
     "output_type": "stream",
     "text": [
      "INFO:apwf:0: Flow 1476 initiated and added to q1: 6948c88d-152a-4e98-bc77-f00690dc628a\n"
     ]
    },
    {
     "name": "stdout",
     "output_type": "stream",
     "text": [
      "2022-04-25 17:55:29 INFO 0: Flow 1477 initiated and added to q1: fc91e9af-0e7f-4b08-abaf-4b362cc43994\n"
     ]
    },
    {
     "name": "stderr",
     "output_type": "stream",
     "text": [
      "INFO:apwf:0: Flow 1477 initiated and added to q1: fc91e9af-0e7f-4b08-abaf-4b362cc43994\n"
     ]
    },
    {
     "name": "stdout",
     "output_type": "stream",
     "text": [
      "2022-04-25 17:55:40 INFO 0: Flow 1478 initiated and added to q1: f6c628ae-598f-4010-95bc-324a09b1097e\n"
     ]
    },
    {
     "name": "stderr",
     "output_type": "stream",
     "text": [
      "INFO:apwf:0: Flow 1478 initiated and added to q1: f6c628ae-598f-4010-95bc-324a09b1097e\n"
     ]
    },
    {
     "name": "stdout",
     "output_type": "stream",
     "text": [
      "2022-04-25 17:55:55 INFO 0: Flow 1479 initiated and added to q1: 1a799b0b-f986-40b8-9b55-f12da44823eb\n"
     ]
    },
    {
     "name": "stderr",
     "output_type": "stream",
     "text": [
      "INFO:apwf:0: Flow 1479 initiated and added to q1: 1a799b0b-f986-40b8-9b55-f12da44823eb\n"
     ]
    },
    {
     "name": "stdout",
     "output_type": "stream",
     "text": [
      "2022-04-25 17:56:05 INFO 0: Flow 1480 initiated and added to q1: 55a70b52-f2ef-4432-a426-9a9a7b564f14\n"
     ]
    },
    {
     "name": "stderr",
     "output_type": "stream",
     "text": [
      "INFO:apwf:0: Flow 1480 initiated and added to q1: 55a70b52-f2ef-4432-a426-9a9a7b564f14\n"
     ]
    },
    {
     "name": "stdout",
     "output_type": "stream",
     "text": [
      "2022-04-25 17:56:16 INFO 0: Flow 1481 initiated and added to q1: 490d47c2-fcf4-4215-807a-f69c8eeaf609\n"
     ]
    },
    {
     "name": "stderr",
     "output_type": "stream",
     "text": [
      "INFO:apwf:0: Flow 1481 initiated and added to q1: 490d47c2-fcf4-4215-807a-f69c8eeaf609\n"
     ]
    },
    {
     "name": "stdout",
     "output_type": "stream",
     "text": [
      "2022-04-25 17:56:31 INFO 0: Flow 1482 initiated and added to q1: 87cabfc2-eb61-4d26-8e31-aee9459847ee\n"
     ]
    },
    {
     "name": "stderr",
     "output_type": "stream",
     "text": [
      "INFO:apwf:0: Flow 1482 initiated and added to q1: 87cabfc2-eb61-4d26-8e31-aee9459847ee\n"
     ]
    },
    {
     "name": "stdout",
     "output_type": "stream",
     "text": [
      "2022-04-25 17:56:41 INFO 0: Flow 1483 initiated and added to q1: 92b0099c-38c5-4a25-a9cc-cf2e27c33051\n"
     ]
    },
    {
     "name": "stderr",
     "output_type": "stream",
     "text": [
      "INFO:apwf:0: Flow 1483 initiated and added to q1: 92b0099c-38c5-4a25-a9cc-cf2e27c33051\n"
     ]
    },
    {
     "name": "stdout",
     "output_type": "stream",
     "text": [
      "2022-04-25 17:56:51 INFO 0: Flow 1484 initiated and added to q1: 0102e480-7302-4a1f-805c-c3c70f125608\n"
     ]
    },
    {
     "name": "stderr",
     "output_type": "stream",
     "text": [
      "INFO:apwf:0: Flow 1484 initiated and added to q1: 0102e480-7302-4a1f-805c-c3c70f125608\n"
     ]
    },
    {
     "name": "stdout",
     "output_type": "stream",
     "text": [
      "2022-04-25 17:57:01 INFO 0: Flow 1485 initiated and added to q1: 8b64c084-f783-4a1b-bd66-3a4638120c4e\n"
     ]
    },
    {
     "name": "stderr",
     "output_type": "stream",
     "text": [
      "INFO:apwf:0: Flow 1485 initiated and added to q1: 8b64c084-f783-4a1b-bd66-3a4638120c4e\n"
     ]
    },
    {
     "name": "stdout",
     "output_type": "stream",
     "text": [
      "2022-04-25 17:57:12 INFO 0: Flow 1486 initiated and added to q1: cb4c99a2-19b9-4e12-8a7a-9e8df96c9192\n"
     ]
    },
    {
     "name": "stderr",
     "output_type": "stream",
     "text": [
      "INFO:apwf:0: Flow 1486 initiated and added to q1: cb4c99a2-19b9-4e12-8a7a-9e8df96c9192\n"
     ]
    },
    {
     "name": "stdout",
     "output_type": "stream",
     "text": [
      "2022-04-25 17:57:27 INFO 0: Flow 1487 initiated and added to q1: c2004e33-6abf-4fc2-a547-4b8a1ee52955\n"
     ]
    },
    {
     "name": "stderr",
     "output_type": "stream",
     "text": [
      "INFO:apwf:0: Flow 1487 initiated and added to q1: c2004e33-6abf-4fc2-a547-4b8a1ee52955\n"
     ]
    },
    {
     "name": "stdout",
     "output_type": "stream",
     "text": [
      "2022-04-25 17:57:37 INFO 0: Flow 1488 initiated and added to q1: 311ac9ec-3b1f-47ad-bd16-528b1e0b7287\n"
     ]
    },
    {
     "name": "stderr",
     "output_type": "stream",
     "text": [
      "INFO:apwf:0: Flow 1488 initiated and added to q1: 311ac9ec-3b1f-47ad-bd16-528b1e0b7287\n"
     ]
    },
    {
     "name": "stdout",
     "output_type": "stream",
     "text": [
      "2022-04-25 17:57:48 INFO 0: Flow 1489 initiated and added to q1: 00126f0e-15c9-4ab3-b176-5b95c60ff82b\n"
     ]
    },
    {
     "name": "stderr",
     "output_type": "stream",
     "text": [
      "INFO:apwf:0: Flow 1489 initiated and added to q1: 00126f0e-15c9-4ab3-b176-5b95c60ff82b\n"
     ]
    },
    {
     "name": "stdout",
     "output_type": "stream",
     "text": [
      "2022-04-25 17:58:03 INFO 0: Flow 1490 initiated and added to q1: 74280b88-83e3-4c64-bdbf-63276d6feb16\n"
     ]
    },
    {
     "name": "stderr",
     "output_type": "stream",
     "text": [
      "INFO:apwf:0: Flow 1490 initiated and added to q1: 74280b88-83e3-4c64-bdbf-63276d6feb16\n"
     ]
    },
    {
     "name": "stdout",
     "output_type": "stream",
     "text": [
      "2022-04-25 17:58:13 INFO 0: Flow 1491 initiated and added to q1: c7e0b90d-80a1-48ff-b59c-89ad674850be\n"
     ]
    },
    {
     "name": "stderr",
     "output_type": "stream",
     "text": [
      "INFO:apwf:0: Flow 1491 initiated and added to q1: c7e0b90d-80a1-48ff-b59c-89ad674850be\n"
     ]
    },
    {
     "name": "stdout",
     "output_type": "stream",
     "text": [
      "2022-04-25 17:58:24 INFO 0: Flow 1492 initiated and added to q1: bd6f723f-5874-467a-a3aa-c84c4d217cb4\n"
     ]
    },
    {
     "name": "stderr",
     "output_type": "stream",
     "text": [
      "INFO:apwf:0: Flow 1492 initiated and added to q1: bd6f723f-5874-467a-a3aa-c84c4d217cb4\n"
     ]
    },
    {
     "name": "stdout",
     "output_type": "stream",
     "text": [
      "2022-04-25 17:58:34 INFO 0: Flow 1493 initiated and added to q1: 05255b9c-2699-40a1-aee2-288025d911a4\n"
     ]
    },
    {
     "name": "stderr",
     "output_type": "stream",
     "text": [
      "INFO:apwf:0: Flow 1493 initiated and added to q1: 05255b9c-2699-40a1-aee2-288025d911a4\n"
     ]
    },
    {
     "name": "stdout",
     "output_type": "stream",
     "text": [
      "2022-04-25 17:58:45 INFO 0: Flow 1494 initiated and added to q1: eb067e05-c75a-4da9-865a-e9928f8617d0\n"
     ]
    },
    {
     "name": "stderr",
     "output_type": "stream",
     "text": [
      "INFO:apwf:0: Flow 1494 initiated and added to q1: eb067e05-c75a-4da9-865a-e9928f8617d0\n"
     ]
    },
    {
     "name": "stdout",
     "output_type": "stream",
     "text": [
      "2022-04-25 17:59:00 INFO 0: Flow 1495 initiated and added to q1: 7801d8ba-339e-45b7-9941-23ab268ecf2f\n"
     ]
    },
    {
     "name": "stderr",
     "output_type": "stream",
     "text": [
      "INFO:apwf:0: Flow 1495 initiated and added to q1: 7801d8ba-339e-45b7-9941-23ab268ecf2f\n"
     ]
    },
    {
     "name": "stdout",
     "output_type": "stream",
     "text": [
      "2022-04-25 17:59:10 INFO 0: Flow 1496 initiated and added to q1: 1d582235-70b0-4572-a90d-b6df59aef88c\n"
     ]
    },
    {
     "name": "stderr",
     "output_type": "stream",
     "text": [
      "INFO:apwf:0: Flow 1496 initiated and added to q1: 1d582235-70b0-4572-a90d-b6df59aef88c\n"
     ]
    },
    {
     "name": "stdout",
     "output_type": "stream",
     "text": [
      "2022-04-25 17:59:21 INFO 0: Flow 1497 initiated and added to q1: 2231d0bd-5bb2-42c2-82d7-24864dc1f846\n"
     ]
    },
    {
     "name": "stderr",
     "output_type": "stream",
     "text": [
      "INFO:apwf:0: Flow 1497 initiated and added to q1: 2231d0bd-5bb2-42c2-82d7-24864dc1f846\n"
     ]
    },
    {
     "name": "stdout",
     "output_type": "stream",
     "text": [
      "2022-04-25 17:59:31 INFO 0: Flow 1498 initiated and added to q1: e802f65a-0e99-4551-abd6-697b53a9fd60\n"
     ]
    },
    {
     "name": "stderr",
     "output_type": "stream",
     "text": [
      "INFO:apwf:0: Flow 1498 initiated and added to q1: e802f65a-0e99-4551-abd6-697b53a9fd60\n"
     ]
    },
    {
     "name": "stdout",
     "output_type": "stream",
     "text": [
      "2022-04-25 17:59:46 INFO 0: Flow 1499 initiated and added to q1: fac57bb5-cc54-421e-9212-eeb8f942c820\n"
     ]
    },
    {
     "name": "stderr",
     "output_type": "stream",
     "text": [
      "INFO:apwf:0: Flow 1499 initiated and added to q1: fac57bb5-cc54-421e-9212-eeb8f942c820\n"
     ]
    },
    {
     "name": "stdout",
     "output_type": "stream",
     "text": [
      "2022-04-28 07:51:45 INFO 0: Flow 1500 initiated and added to q1: 643180df-12a0-40e0-80a0-f33560862064\n"
     ]
    },
    {
     "name": "stderr",
     "output_type": "stream",
     "text": [
      "INFO:apwf:0: Flow 1500 initiated and added to q1: 643180df-12a0-40e0-80a0-f33560862064\n"
     ]
    },
    {
     "name": "stdout",
     "output_type": "stream",
     "text": [
      "2022-04-28 07:51:56 INFO 0: Flow 1501 initiated and added to q1: 3ffdea3f-9d33-408d-a938-1c330f6956d9\n"
     ]
    },
    {
     "name": "stderr",
     "output_type": "stream",
     "text": [
      "INFO:apwf:0: Flow 1501 initiated and added to q1: 3ffdea3f-9d33-408d-a938-1c330f6956d9\n"
     ]
    },
    {
     "name": "stdout",
     "output_type": "stream",
     "text": [
      "2022-04-28 07:52:06 INFO 0: Flow 1502 initiated and added to q1: 85b05aec-a952-4e39-8c0b-ba63e1d73737\n"
     ]
    },
    {
     "name": "stderr",
     "output_type": "stream",
     "text": [
      "INFO:apwf:0: Flow 1502 initiated and added to q1: 85b05aec-a952-4e39-8c0b-ba63e1d73737\n"
     ]
    },
    {
     "name": "stdout",
     "output_type": "stream",
     "text": [
      "2022-04-28 07:52:17 INFO 0: Flow 1503 initiated and added to q1: 91a152ff-78fd-4b4e-9ea1-287364a4f27c\n"
     ]
    },
    {
     "name": "stderr",
     "output_type": "stream",
     "text": [
      "INFO:apwf:0: Flow 1503 initiated and added to q1: 91a152ff-78fd-4b4e-9ea1-287364a4f27c\n"
     ]
    },
    {
     "name": "stdout",
     "output_type": "stream",
     "text": [
      "2022-04-28 07:52:27 INFO 0: Flow 1504 initiated and added to q1: f0cb74fe-0593-437e-99a7-7376f9c653d1\n"
     ]
    },
    {
     "name": "stderr",
     "output_type": "stream",
     "text": [
      "INFO:apwf:0: Flow 1504 initiated and added to q1: f0cb74fe-0593-437e-99a7-7376f9c653d1\n"
     ]
    },
    {
     "name": "stdout",
     "output_type": "stream",
     "text": [
      "2022-04-28 07:52:38 INFO 0: Flow 1505 initiated and added to q1: 2e48a473-0eac-4bbc-8be2-f70700f3001b\n"
     ]
    },
    {
     "name": "stderr",
     "output_type": "stream",
     "text": [
      "INFO:apwf:0: Flow 1505 initiated and added to q1: 2e48a473-0eac-4bbc-8be2-f70700f3001b\n"
     ]
    },
    {
     "name": "stdout",
     "output_type": "stream",
     "text": [
      "2022-04-28 07:52:48 INFO 0: Flow 1506 initiated and added to q1: 2a19d80a-31f8-41a0-89cc-df70cbb4b51d\n"
     ]
    },
    {
     "name": "stderr",
     "output_type": "stream",
     "text": [
      "INFO:apwf:0: Flow 1506 initiated and added to q1: 2a19d80a-31f8-41a0-89cc-df70cbb4b51d\n"
     ]
    },
    {
     "name": "stdout",
     "output_type": "stream",
     "text": [
      "2022-04-28 07:53:03 INFO 0: Flow 1507 initiated and added to q1: 73a2cf68-0446-47a1-875b-93eda8d31bcb\n"
     ]
    },
    {
     "name": "stderr",
     "output_type": "stream",
     "text": [
      "INFO:apwf:0: Flow 1507 initiated and added to q1: 73a2cf68-0446-47a1-875b-93eda8d31bcb\n"
     ]
    },
    {
     "name": "stdout",
     "output_type": "stream",
     "text": [
      "2022-04-28 07:53:13 INFO 0: Flow 1508 initiated and added to q1: 59a516c5-9589-4fd7-8407-9a126680f24e\n"
     ]
    },
    {
     "name": "stderr",
     "output_type": "stream",
     "text": [
      "INFO:apwf:0: Flow 1508 initiated and added to q1: 59a516c5-9589-4fd7-8407-9a126680f24e\n"
     ]
    },
    {
     "name": "stdout",
     "output_type": "stream",
     "text": [
      "2022-04-28 07:53:29 INFO 0: Flow 1509 initiated and added to q1: 5b6132a9-5db7-408a-bc85-a19db8eb05c4\n"
     ]
    },
    {
     "name": "stderr",
     "output_type": "stream",
     "text": [
      "INFO:apwf:0: Flow 1509 initiated and added to q1: 5b6132a9-5db7-408a-bc85-a19db8eb05c4\n"
     ]
    },
    {
     "name": "stdout",
     "output_type": "stream",
     "text": [
      "2022-04-28 07:53:39 INFO 0: Flow 1510 initiated and added to q1: 32f1d493-cd98-4741-ac55-50c9253cea14\n"
     ]
    },
    {
     "name": "stderr",
     "output_type": "stream",
     "text": [
      "INFO:apwf:0: Flow 1510 initiated and added to q1: 32f1d493-cd98-4741-ac55-50c9253cea14\n"
     ]
    },
    {
     "name": "stdout",
     "output_type": "stream",
     "text": [
      "2022-04-28 07:53:50 INFO 0: Flow 1511 initiated and added to q1: 2714a2f4-fcae-4b98-94e7-66f20b6f66f5\n"
     ]
    },
    {
     "name": "stderr",
     "output_type": "stream",
     "text": [
      "INFO:apwf:0: Flow 1511 initiated and added to q1: 2714a2f4-fcae-4b98-94e7-66f20b6f66f5\n"
     ]
    },
    {
     "name": "stdout",
     "output_type": "stream",
     "text": [
      "2022-04-28 07:54:00 INFO 0: Flow 1512 initiated and added to q1: 995ab0f0-6696-4f08-aa0e-a6102ae9af5d\n"
     ]
    },
    {
     "name": "stderr",
     "output_type": "stream",
     "text": [
      "INFO:apwf:0: Flow 1512 initiated and added to q1: 995ab0f0-6696-4f08-aa0e-a6102ae9af5d\n"
     ]
    },
    {
     "name": "stdout",
     "output_type": "stream",
     "text": [
      "2022-04-28 07:54:10 INFO 0: Flow 1513 initiated and added to q1: d11a9538-4c5a-4124-b8fd-34eb1359dcf1\n"
     ]
    },
    {
     "name": "stderr",
     "output_type": "stream",
     "text": [
      "INFO:apwf:0: Flow 1513 initiated and added to q1: d11a9538-4c5a-4124-b8fd-34eb1359dcf1\n"
     ]
    },
    {
     "name": "stdout",
     "output_type": "stream",
     "text": [
      "2022-04-28 07:54:21 INFO 0: Flow 1514 initiated and added to q1: d34ca2ef-7901-4e95-b7fe-7b87df86dffc\n"
     ]
    },
    {
     "name": "stderr",
     "output_type": "stream",
     "text": [
      "INFO:apwf:0: Flow 1514 initiated and added to q1: d34ca2ef-7901-4e95-b7fe-7b87df86dffc\n"
     ]
    },
    {
     "name": "stdout",
     "output_type": "stream",
     "text": [
      "2022-04-28 07:54:32 INFO 0: Flow 1515 initiated and added to q1: b6c26aa0-83f0-49fc-9c25-04eda7b97fb6\n"
     ]
    },
    {
     "name": "stderr",
     "output_type": "stream",
     "text": [
      "INFO:apwf:0: Flow 1515 initiated and added to q1: b6c26aa0-83f0-49fc-9c25-04eda7b97fb6\n"
     ]
    },
    {
     "name": "stdout",
     "output_type": "stream",
     "text": [
      "2022-04-28 07:54:51 INFO 0: Flow 1516 initiated and added to q1: 404e56a2-8f8f-451c-ac87-83cd71a11842\n"
     ]
    },
    {
     "name": "stderr",
     "output_type": "stream",
     "text": [
      "INFO:apwf:0: Flow 1516 initiated and added to q1: 404e56a2-8f8f-451c-ac87-83cd71a11842\n"
     ]
    },
    {
     "name": "stdout",
     "output_type": "stream",
     "text": [
      "2022-04-28 07:55:01 INFO 0: Flow 1517 initiated and added to q1: 2c6ff95e-fffb-4737-9ea3-efb2bbe635d4\n"
     ]
    },
    {
     "name": "stderr",
     "output_type": "stream",
     "text": [
      "INFO:apwf:0: Flow 1517 initiated and added to q1: 2c6ff95e-fffb-4737-9ea3-efb2bbe635d4\n"
     ]
    },
    {
     "name": "stdout",
     "output_type": "stream",
     "text": [
      "2022-04-28 07:55:12 INFO 0: Flow 1518 initiated and added to q1: d14a85ef-2e3d-4e4c-ae63-d57e4161f2f0\n"
     ]
    },
    {
     "name": "stderr",
     "output_type": "stream",
     "text": [
      "INFO:apwf:0: Flow 1518 initiated and added to q1: d14a85ef-2e3d-4e4c-ae63-d57e4161f2f0\n"
     ]
    },
    {
     "name": "stdout",
     "output_type": "stream",
     "text": [
      "2022-04-28 07:55:23 INFO 0: Flow 1519 initiated and added to q1: de9cfd4d-2a89-44ef-a647-f526c872e398\n"
     ]
    },
    {
     "name": "stderr",
     "output_type": "stream",
     "text": [
      "INFO:apwf:0: Flow 1519 initiated and added to q1: de9cfd4d-2a89-44ef-a647-f526c872e398\n"
     ]
    },
    {
     "name": "stdout",
     "output_type": "stream",
     "text": [
      "2022-04-28 07:55:33 INFO 0: Flow 1520 initiated and added to q1: b5923050-93ac-4763-a777-6bd28e877d79\n"
     ]
    },
    {
     "name": "stderr",
     "output_type": "stream",
     "text": [
      "INFO:apwf:0: Flow 1520 initiated and added to q1: b5923050-93ac-4763-a777-6bd28e877d79\n"
     ]
    },
    {
     "name": "stdout",
     "output_type": "stream",
     "text": [
      "2022-04-28 07:55:48 INFO 0: Flow 1521 initiated and added to q1: e98007a8-0c8f-43f2-beff-d3b5bffd7e95\n"
     ]
    },
    {
     "name": "stderr",
     "output_type": "stream",
     "text": [
      "INFO:apwf:0: Flow 1521 initiated and added to q1: e98007a8-0c8f-43f2-beff-d3b5bffd7e95\n"
     ]
    },
    {
     "name": "stdout",
     "output_type": "stream",
     "text": [
      "2022-04-28 07:55:58 INFO 0: Flow 1522 initiated and added to q1: 4534baff-be68-4916-801f-6f561cd6ee9a\n"
     ]
    },
    {
     "name": "stderr",
     "output_type": "stream",
     "text": [
      "INFO:apwf:0: Flow 1522 initiated and added to q1: 4534baff-be68-4916-801f-6f561cd6ee9a\n"
     ]
    },
    {
     "name": "stdout",
     "output_type": "stream",
     "text": [
      "2022-04-28 07:56:09 INFO 0: Flow 1523 initiated and added to q1: e3ac2161-6ff8-4457-9554-8b11100208d3\n"
     ]
    },
    {
     "name": "stderr",
     "output_type": "stream",
     "text": [
      "INFO:apwf:0: Flow 1523 initiated and added to q1: e3ac2161-6ff8-4457-9554-8b11100208d3\n"
     ]
    },
    {
     "name": "stdout",
     "output_type": "stream",
     "text": [
      "2022-04-28 07:56:19 INFO 0: Flow 1524 initiated and added to q1: d11fec2b-0f9c-4a8c-9aeb-ba49f30ea689\n"
     ]
    },
    {
     "name": "stderr",
     "output_type": "stream",
     "text": [
      "INFO:apwf:0: Flow 1524 initiated and added to q1: d11fec2b-0f9c-4a8c-9aeb-ba49f30ea689\n"
     ]
    },
    {
     "name": "stdout",
     "output_type": "stream",
     "text": [
      "2022-04-28 07:56:29 INFO 0: Flow 1525 initiated and added to q1: 0488122d-f2d7-478e-b16a-91a15ae3af8b\n"
     ]
    },
    {
     "name": "stderr",
     "output_type": "stream",
     "text": [
      "INFO:apwf:0: Flow 1525 initiated and added to q1: 0488122d-f2d7-478e-b16a-91a15ae3af8b\n"
     ]
    },
    {
     "name": "stdout",
     "output_type": "stream",
     "text": [
      "2022-04-28 07:56:40 INFO 0: Flow 1526 initiated and added to q1: 0da68454-7e68-41ca-a8b6-8d229abdbe9e\n"
     ]
    },
    {
     "name": "stderr",
     "output_type": "stream",
     "text": [
      "INFO:apwf:0: Flow 1526 initiated and added to q1: 0da68454-7e68-41ca-a8b6-8d229abdbe9e\n"
     ]
    },
    {
     "name": "stdout",
     "output_type": "stream",
     "text": [
      "2022-04-28 07:56:55 INFO 0: Flow 1527 initiated and added to q1: 192ac255-650f-4499-9989-3094a7bbc0f0\n"
     ]
    },
    {
     "name": "stderr",
     "output_type": "stream",
     "text": [
      "INFO:apwf:0: Flow 1527 initiated and added to q1: 192ac255-650f-4499-9989-3094a7bbc0f0\n"
     ]
    },
    {
     "name": "stdout",
     "output_type": "stream",
     "text": [
      "2022-04-28 07:57:05 INFO 0: Flow 1528 initiated and added to q1: a2f0f90e-4cb4-4ac8-9389-a1caa392b936\n"
     ]
    },
    {
     "name": "stderr",
     "output_type": "stream",
     "text": [
      "INFO:apwf:0: Flow 1528 initiated and added to q1: a2f0f90e-4cb4-4ac8-9389-a1caa392b936\n"
     ]
    },
    {
     "name": "stdout",
     "output_type": "stream",
     "text": [
      "2022-04-28 07:57:16 INFO 0: Flow 1529 initiated and added to q1: 6e349772-83c3-46af-8af2-2c1c8b881a9e\n"
     ]
    },
    {
     "name": "stderr",
     "output_type": "stream",
     "text": [
      "INFO:apwf:0: Flow 1529 initiated and added to q1: 6e349772-83c3-46af-8af2-2c1c8b881a9e\n"
     ]
    },
    {
     "name": "stdout",
     "output_type": "stream",
     "text": [
      "2022-04-28 07:57:26 INFO 0: Flow 1530 initiated and added to q1: 8ce74795-15b6-4b0b-8fec-41f09d0b5022\n"
     ]
    },
    {
     "name": "stderr",
     "output_type": "stream",
     "text": [
      "INFO:apwf:0: Flow 1530 initiated and added to q1: 8ce74795-15b6-4b0b-8fec-41f09d0b5022\n"
     ]
    },
    {
     "name": "stdout",
     "output_type": "stream",
     "text": [
      "2022-04-28 07:57:37 INFO 0: Flow 1531 initiated and added to q1: 7c73acc8-7938-4e75-9088-50a74d74e738\n"
     ]
    },
    {
     "name": "stderr",
     "output_type": "stream",
     "text": [
      "INFO:apwf:0: Flow 1531 initiated and added to q1: 7c73acc8-7938-4e75-9088-50a74d74e738\n"
     ]
    },
    {
     "name": "stdout",
     "output_type": "stream",
     "text": [
      "2022-04-28 07:57:47 INFO 0: Flow 1532 initiated and added to q1: b8524378-033d-4501-b1ac-a8361c5375a3\n"
     ]
    },
    {
     "name": "stderr",
     "output_type": "stream",
     "text": [
      "INFO:apwf:0: Flow 1532 initiated and added to q1: b8524378-033d-4501-b1ac-a8361c5375a3\n"
     ]
    },
    {
     "name": "stdout",
     "output_type": "stream",
     "text": [
      "2022-04-28 07:58:02 INFO 0: Flow 1533 initiated and added to q1: d201e598-244d-4f29-9107-63881beef257\n"
     ]
    },
    {
     "name": "stderr",
     "output_type": "stream",
     "text": [
      "INFO:apwf:0: Flow 1533 initiated and added to q1: d201e598-244d-4f29-9107-63881beef257\n"
     ]
    },
    {
     "name": "stdout",
     "output_type": "stream",
     "text": [
      "2022-04-28 07:58:12 INFO 0: Flow 1534 initiated and added to q1: 7fe8983a-793e-41ae-943d-ca703d723707\n"
     ]
    },
    {
     "name": "stderr",
     "output_type": "stream",
     "text": [
      "INFO:apwf:0: Flow 1534 initiated and added to q1: 7fe8983a-793e-41ae-943d-ca703d723707\n"
     ]
    },
    {
     "name": "stdout",
     "output_type": "stream",
     "text": [
      "2022-04-28 07:58:23 INFO 0: Flow 1535 initiated and added to q1: b7180c1b-4597-4e1a-8be3-9aa0b3ffbabe\n"
     ]
    },
    {
     "name": "stderr",
     "output_type": "stream",
     "text": [
      "INFO:apwf:0: Flow 1535 initiated and added to q1: b7180c1b-4597-4e1a-8be3-9aa0b3ffbabe\n"
     ]
    },
    {
     "name": "stdout",
     "output_type": "stream",
     "text": [
      "2022-04-28 07:58:33 INFO 0: Flow 1536 initiated and added to q1: 088c65a1-ad4f-42e2-a800-32546d8516e8\n"
     ]
    },
    {
     "name": "stderr",
     "output_type": "stream",
     "text": [
      "INFO:apwf:0: Flow 1536 initiated and added to q1: 088c65a1-ad4f-42e2-a800-32546d8516e8\n"
     ]
    },
    {
     "name": "stdout",
     "output_type": "stream",
     "text": [
      "2022-04-28 07:58:43 INFO 0: Flow 1537 initiated and added to q1: f4a9f713-347a-4bb2-9c05-426bd3ebd787\n"
     ]
    },
    {
     "name": "stderr",
     "output_type": "stream",
     "text": [
      "INFO:apwf:0: Flow 1537 initiated and added to q1: f4a9f713-347a-4bb2-9c05-426bd3ebd787\n"
     ]
    },
    {
     "name": "stdout",
     "output_type": "stream",
     "text": [
      "2022-04-28 07:58:58 INFO 0: Flow 1538 initiated and added to q1: e54195e5-040a-4f43-888f-ce74e642631f\n"
     ]
    },
    {
     "name": "stderr",
     "output_type": "stream",
     "text": [
      "INFO:apwf:0: Flow 1538 initiated and added to q1: e54195e5-040a-4f43-888f-ce74e642631f\n"
     ]
    },
    {
     "name": "stdout",
     "output_type": "stream",
     "text": [
      "2022-04-28 07:59:08 INFO 0: Flow 1539 initiated and added to q1: 3e0d9974-f96a-4160-a035-20d11325bf29\n"
     ]
    },
    {
     "name": "stderr",
     "output_type": "stream",
     "text": [
      "INFO:apwf:0: Flow 1539 initiated and added to q1: 3e0d9974-f96a-4160-a035-20d11325bf29\n"
     ]
    },
    {
     "name": "stdout",
     "output_type": "stream",
     "text": [
      "2022-04-28 07:59:19 INFO 0: Flow 1540 initiated and added to q1: 25c927e8-9a53-4dba-ba7f-915639e13ffa\n"
     ]
    },
    {
     "name": "stderr",
     "output_type": "stream",
     "text": [
      "INFO:apwf:0: Flow 1540 initiated and added to q1: 25c927e8-9a53-4dba-ba7f-915639e13ffa\n"
     ]
    },
    {
     "name": "stdout",
     "output_type": "stream",
     "text": [
      "2022-04-28 07:59:30 INFO 0: Flow 1541 initiated and added to q1: bb6c2076-c824-48fa-8ee4-a37d82892e3d\n"
     ]
    },
    {
     "name": "stderr",
     "output_type": "stream",
     "text": [
      "INFO:apwf:0: Flow 1541 initiated and added to q1: bb6c2076-c824-48fa-8ee4-a37d82892e3d\n"
     ]
    },
    {
     "name": "stdout",
     "output_type": "stream",
     "text": [
      "2022-04-28 07:59:40 INFO 0: Flow 1542 initiated and added to q1: 8841daed-90c2-4000-b6f1-4d78c1e655c7\n"
     ]
    },
    {
     "name": "stderr",
     "output_type": "stream",
     "text": [
      "INFO:apwf:0: Flow 1542 initiated and added to q1: 8841daed-90c2-4000-b6f1-4d78c1e655c7\n"
     ]
    },
    {
     "name": "stdout",
     "output_type": "stream",
     "text": [
      "2022-04-28 07:59:59 INFO 0: Flow 1543 initiated and added to q1: be5050b0-8cdb-457b-a208-5f17cef0db3e\n"
     ]
    },
    {
     "name": "stderr",
     "output_type": "stream",
     "text": [
      "INFO:apwf:0: Flow 1543 initiated and added to q1: be5050b0-8cdb-457b-a208-5f17cef0db3e\n"
     ]
    },
    {
     "name": "stdout",
     "output_type": "stream",
     "text": [
      "2022-04-28 08:00:10 INFO 0: Flow 1544 initiated and added to q1: 6c7b2556-ff1d-4813-beae-cc664e6c1cd2\n"
     ]
    },
    {
     "name": "stderr",
     "output_type": "stream",
     "text": [
      "INFO:apwf:0: Flow 1544 initiated and added to q1: 6c7b2556-ff1d-4813-beae-cc664e6c1cd2\n"
     ]
    },
    {
     "name": "stdout",
     "output_type": "stream",
     "text": [
      "2022-04-28 08:00:26 INFO 0: Flow 1545 initiated and added to q1: 22839aaa-022c-41df-a8b7-5675034df1c0\n"
     ]
    },
    {
     "name": "stderr",
     "output_type": "stream",
     "text": [
      "INFO:apwf:0: Flow 1545 initiated and added to q1: 22839aaa-022c-41df-a8b7-5675034df1c0\n"
     ]
    },
    {
     "name": "stdout",
     "output_type": "stream",
     "text": [
      "2022-04-28 08:00:36 INFO 0: Flow 1546 initiated and added to q1: 025a88bf-1954-48f8-8907-0c27ba838427\n"
     ]
    },
    {
     "name": "stderr",
     "output_type": "stream",
     "text": [
      "INFO:apwf:0: Flow 1546 initiated and added to q1: 025a88bf-1954-48f8-8907-0c27ba838427\n"
     ]
    },
    {
     "name": "stdout",
     "output_type": "stream",
     "text": [
      "2022-04-28 08:00:46 INFO 0: Flow 1547 initiated and added to q1: d56e708f-8a3c-489b-8b66-15f42fc234fe\n"
     ]
    },
    {
     "name": "stderr",
     "output_type": "stream",
     "text": [
      "INFO:apwf:0: Flow 1547 initiated and added to q1: d56e708f-8a3c-489b-8b66-15f42fc234fe\n"
     ]
    },
    {
     "name": "stdout",
     "output_type": "stream",
     "text": [
      "2022-04-28 08:01:01 INFO 0: Flow 1548 initiated and added to q1: a1523429-e1dd-4d31-8637-86d212efa278\n"
     ]
    },
    {
     "name": "stderr",
     "output_type": "stream",
     "text": [
      "INFO:apwf:0: Flow 1548 initiated and added to q1: a1523429-e1dd-4d31-8637-86d212efa278\n"
     ]
    },
    {
     "name": "stdout",
     "output_type": "stream",
     "text": [
      "2022-04-28 08:01:12 INFO 0: Flow 1549 initiated and added to q1: aa4c15db-f4b2-4580-9c7d-4a580bf4ac36\n"
     ]
    },
    {
     "name": "stderr",
     "output_type": "stream",
     "text": [
      "INFO:apwf:0: Flow 1549 initiated and added to q1: aa4c15db-f4b2-4580-9c7d-4a580bf4ac36\n"
     ]
    },
    {
     "name": "stdout",
     "output_type": "stream",
     "text": [
      "2022-04-28 08:01:22 INFO 0: Flow 1550 initiated and added to q1: 2333f82e-4d12-40a7-8a47-36c7ba3d50ac\n"
     ]
    },
    {
     "name": "stderr",
     "output_type": "stream",
     "text": [
      "INFO:apwf:0: Flow 1550 initiated and added to q1: 2333f82e-4d12-40a7-8a47-36c7ba3d50ac\n"
     ]
    },
    {
     "name": "stdout",
     "output_type": "stream",
     "text": [
      "2022-04-28 08:01:33 INFO 0: Flow 1551 initiated and added to q1: 44aebcc6-2ca3-41e4-9f1d-9c9b911ac211\n"
     ]
    },
    {
     "name": "stderr",
     "output_type": "stream",
     "text": [
      "INFO:apwf:0: Flow 1551 initiated and added to q1: 44aebcc6-2ca3-41e4-9f1d-9c9b911ac211\n"
     ]
    },
    {
     "name": "stdout",
     "output_type": "stream",
     "text": [
      "2022-04-28 08:01:43 INFO 0: Flow 1552 initiated and added to q1: 43bc2573-a4d2-4b19-96c8-ab9bbc6d836d\n"
     ]
    },
    {
     "name": "stderr",
     "output_type": "stream",
     "text": [
      "INFO:apwf:0: Flow 1552 initiated and added to q1: 43bc2573-a4d2-4b19-96c8-ab9bbc6d836d\n"
     ]
    },
    {
     "name": "stdout",
     "output_type": "stream",
     "text": [
      "2022-04-28 08:01:53 INFO 0: Flow 1553 initiated and added to q1: 91562584-d745-4588-8ff3-731df1971100\n"
     ]
    },
    {
     "name": "stderr",
     "output_type": "stream",
     "text": [
      "INFO:apwf:0: Flow 1553 initiated and added to q1: 91562584-d745-4588-8ff3-731df1971100\n"
     ]
    },
    {
     "name": "stdout",
     "output_type": "stream",
     "text": [
      "2022-04-28 08:02:09 INFO 0: Flow 1554 initiated and added to q1: 82fac198-0674-4b3d-9c25-14b7aebbfb40\n"
     ]
    },
    {
     "name": "stderr",
     "output_type": "stream",
     "text": [
      "INFO:apwf:0: Flow 1554 initiated and added to q1: 82fac198-0674-4b3d-9c25-14b7aebbfb40\n"
     ]
    },
    {
     "name": "stdout",
     "output_type": "stream",
     "text": [
      "2022-04-28 08:02:19 INFO 0: Flow 1555 initiated and added to q1: b28f1e05-f2e2-43d5-a422-43c8f875865e\n"
     ]
    },
    {
     "name": "stderr",
     "output_type": "stream",
     "text": [
      "INFO:apwf:0: Flow 1555 initiated and added to q1: b28f1e05-f2e2-43d5-a422-43c8f875865e\n"
     ]
    },
    {
     "name": "stdout",
     "output_type": "stream",
     "text": [
      "2022-04-28 08:02:30 INFO 0: Flow 1556 initiated and added to q1: acf1e91e-984f-447f-8063-2dadf83d5881\n"
     ]
    },
    {
     "name": "stderr",
     "output_type": "stream",
     "text": [
      "INFO:apwf:0: Flow 1556 initiated and added to q1: acf1e91e-984f-447f-8063-2dadf83d5881\n"
     ]
    },
    {
     "name": "stdout",
     "output_type": "stream",
     "text": [
      "2022-04-28 08:02:41 INFO 0: Flow 1557 initiated and added to q1: 95816b1c-3e10-4213-8bd4-d17bb7781608\n"
     ]
    },
    {
     "name": "stderr",
     "output_type": "stream",
     "text": [
      "INFO:apwf:0: Flow 1557 initiated and added to q1: 95816b1c-3e10-4213-8bd4-d17bb7781608\n"
     ]
    },
    {
     "name": "stdout",
     "output_type": "stream",
     "text": [
      "2022-04-28 08:02:51 INFO 0: Flow 1558 initiated and added to q1: d4cc72bb-f189-49af-baf2-8e35a84653c0\n"
     ]
    },
    {
     "name": "stderr",
     "output_type": "stream",
     "text": [
      "INFO:apwf:0: Flow 1558 initiated and added to q1: d4cc72bb-f189-49af-baf2-8e35a84653c0\n"
     ]
    },
    {
     "name": "stdout",
     "output_type": "stream",
     "text": [
      "2022-04-28 08:03:02 INFO 0: Flow 1559 initiated and added to q1: eec045e8-affc-434f-8250-5b751ae27d8b\n"
     ]
    },
    {
     "name": "stderr",
     "output_type": "stream",
     "text": [
      "INFO:apwf:0: Flow 1559 initiated and added to q1: eec045e8-affc-434f-8250-5b751ae27d8b\n"
     ]
    },
    {
     "name": "stdout",
     "output_type": "stream",
     "text": [
      "2022-04-28 08:03:13 INFO 0: Flow 1560 initiated and added to q1: 4d61f67a-ea35-4d66-8afe-1e3066e0f239\n"
     ]
    },
    {
     "name": "stderr",
     "output_type": "stream",
     "text": [
      "INFO:apwf:0: Flow 1560 initiated and added to q1: 4d61f67a-ea35-4d66-8afe-1e3066e0f239\n"
     ]
    },
    {
     "name": "stdout",
     "output_type": "stream",
     "text": [
      "2022-04-28 08:03:29 INFO 0: Flow 1561 initiated and added to q1: 5518427e-2107-4c09-835e-04f186d9e36a\n"
     ]
    },
    {
     "name": "stderr",
     "output_type": "stream",
     "text": [
      "INFO:apwf:0: Flow 1561 initiated and added to q1: 5518427e-2107-4c09-835e-04f186d9e36a\n"
     ]
    },
    {
     "name": "stdout",
     "output_type": "stream",
     "text": [
      "2022-04-28 08:03:39 INFO 0: Flow 1562 initiated and added to q1: 109b9eea-b61a-4ba8-ba1c-888d6f838e52\n"
     ]
    },
    {
     "name": "stderr",
     "output_type": "stream",
     "text": [
      "INFO:apwf:0: Flow 1562 initiated and added to q1: 109b9eea-b61a-4ba8-ba1c-888d6f838e52\n"
     ]
    },
    {
     "name": "stdout",
     "output_type": "stream",
     "text": [
      "2022-04-28 08:03:50 INFO 0: Flow 1563 initiated and added to q1: e1699415-b986-48c7-b650-6606267bdade\n"
     ]
    },
    {
     "name": "stderr",
     "output_type": "stream",
     "text": [
      "INFO:apwf:0: Flow 1563 initiated and added to q1: e1699415-b986-48c7-b650-6606267bdade\n"
     ]
    },
    {
     "name": "stdout",
     "output_type": "stream",
     "text": [
      "2022-04-28 08:04:00 INFO 0: Flow 1564 initiated and added to q1: 2ce38336-50b9-4461-a802-5e1d09aa8dda\n"
     ]
    },
    {
     "name": "stderr",
     "output_type": "stream",
     "text": [
      "INFO:apwf:0: Flow 1564 initiated and added to q1: 2ce38336-50b9-4461-a802-5e1d09aa8dda\n"
     ]
    },
    {
     "name": "stdout",
     "output_type": "stream",
     "text": [
      "2022-04-28 08:04:11 INFO 0: Flow 1565 initiated and added to q1: 32fb094a-64ef-4039-be36-deec42c82111\n"
     ]
    },
    {
     "name": "stderr",
     "output_type": "stream",
     "text": [
      "INFO:apwf:0: Flow 1565 initiated and added to q1: 32fb094a-64ef-4039-be36-deec42c82111\n"
     ]
    },
    {
     "name": "stdout",
     "output_type": "stream",
     "text": [
      "2022-04-28 08:04:22 INFO 0: Flow 1566 initiated and added to q1: e28c60cf-2b43-46b3-9ae0-0175dd661bc1\n"
     ]
    },
    {
     "name": "stderr",
     "output_type": "stream",
     "text": [
      "INFO:apwf:0: Flow 1566 initiated and added to q1: e28c60cf-2b43-46b3-9ae0-0175dd661bc1\n"
     ]
    },
    {
     "name": "stdout",
     "output_type": "stream",
     "text": [
      "2022-04-28 08:04:32 INFO 0: Flow 1567 initiated and added to q1: 08f717ac-cca2-4e10-82ef-b04e7d239879\n"
     ]
    },
    {
     "name": "stderr",
     "output_type": "stream",
     "text": [
      "INFO:apwf:0: Flow 1567 initiated and added to q1: 08f717ac-cca2-4e10-82ef-b04e7d239879\n"
     ]
    },
    {
     "name": "stdout",
     "output_type": "stream",
     "text": [
      "2022-04-28 08:04:52 INFO 0: Flow 1568 initiated and added to q1: 7fbbd9f1-cc2a-4f91-bcbe-5e1124c3b890\n"
     ]
    },
    {
     "name": "stderr",
     "output_type": "stream",
     "text": [
      "INFO:apwf:0: Flow 1568 initiated and added to q1: 7fbbd9f1-cc2a-4f91-bcbe-5e1124c3b890\n"
     ]
    },
    {
     "name": "stdout",
     "output_type": "stream",
     "text": [
      "2022-04-28 08:05:03 INFO 0: Flow 1569 initiated and added to q1: d41a1a60-ad94-4cec-88e0-91b7cd677b80\n"
     ]
    },
    {
     "name": "stderr",
     "output_type": "stream",
     "text": [
      "INFO:apwf:0: Flow 1569 initiated and added to q1: d41a1a60-ad94-4cec-88e0-91b7cd677b80\n"
     ]
    },
    {
     "name": "stdout",
     "output_type": "stream",
     "text": [
      "2022-04-28 08:05:14 INFO 0: Flow 1570 initiated and added to q1: 84e1fd02-c8a3-432a-8e2c-c415aa017dfb\n"
     ]
    },
    {
     "name": "stderr",
     "output_type": "stream",
     "text": [
      "INFO:apwf:0: Flow 1570 initiated and added to q1: 84e1fd02-c8a3-432a-8e2c-c415aa017dfb\n"
     ]
    },
    {
     "name": "stdout",
     "output_type": "stream",
     "text": [
      "2022-04-28 08:05:24 INFO 0: Flow 1571 initiated and added to q1: c21f3871-06f7-4f55-bf33-8ad3de8b7d96\n"
     ]
    },
    {
     "name": "stderr",
     "output_type": "stream",
     "text": [
      "INFO:apwf:0: Flow 1571 initiated and added to q1: c21f3871-06f7-4f55-bf33-8ad3de8b7d96\n"
     ]
    },
    {
     "name": "stdout",
     "output_type": "stream",
     "text": [
      "2022-04-28 08:05:35 INFO 0: Flow 1572 initiated and added to q1: 0ab37570-a341-4258-8e1c-e264e913181f\n"
     ]
    },
    {
     "name": "stderr",
     "output_type": "stream",
     "text": [
      "INFO:apwf:0: Flow 1572 initiated and added to q1: 0ab37570-a341-4258-8e1c-e264e913181f\n"
     ]
    },
    {
     "name": "stdout",
     "output_type": "stream",
     "text": [
      "2022-04-28 08:05:45 INFO 0: Flow 1573 initiated and added to q1: 3096b488-6b50-42e1-82dd-7102d72199e5\n"
     ]
    },
    {
     "name": "stderr",
     "output_type": "stream",
     "text": [
      "INFO:apwf:0: Flow 1573 initiated and added to q1: 3096b488-6b50-42e1-82dd-7102d72199e5\n"
     ]
    },
    {
     "name": "stdout",
     "output_type": "stream",
     "text": [
      "2022-04-28 08:06:00 INFO 0: Flow 1574 initiated and added to q1: 2a1b037b-4d6f-4959-8365-32d7f564ea75\n"
     ]
    },
    {
     "name": "stderr",
     "output_type": "stream",
     "text": [
      "INFO:apwf:0: Flow 1574 initiated and added to q1: 2a1b037b-4d6f-4959-8365-32d7f564ea75\n"
     ]
    },
    {
     "name": "stdout",
     "output_type": "stream",
     "text": [
      "2022-04-28 08:06:11 INFO 0: Flow 1575 initiated and added to q1: f3a5a017-0cc2-4de5-8623-8be159635ba9\n"
     ]
    },
    {
     "name": "stderr",
     "output_type": "stream",
     "text": [
      "INFO:apwf:0: Flow 1575 initiated and added to q1: f3a5a017-0cc2-4de5-8623-8be159635ba9\n"
     ]
    },
    {
     "name": "stdout",
     "output_type": "stream",
     "text": [
      "2022-04-28 08:06:21 INFO 0: Flow 1576 initiated and added to q1: 0d48f8ab-204b-4a82-bad9-3013dedf65ec\n"
     ]
    },
    {
     "name": "stderr",
     "output_type": "stream",
     "text": [
      "INFO:apwf:0: Flow 1576 initiated and added to q1: 0d48f8ab-204b-4a82-bad9-3013dedf65ec\n"
     ]
    },
    {
     "name": "stdout",
     "output_type": "stream",
     "text": [
      "2022-04-28 08:06:32 INFO 0: Flow 1577 initiated and added to q1: 3536f399-4600-462d-9605-d76b542b101f\n"
     ]
    },
    {
     "name": "stderr",
     "output_type": "stream",
     "text": [
      "INFO:apwf:0: Flow 1577 initiated and added to q1: 3536f399-4600-462d-9605-d76b542b101f\n"
     ]
    },
    {
     "name": "stdout",
     "output_type": "stream",
     "text": [
      "2022-04-28 08:06:43 INFO 0: Flow 1578 initiated and added to q1: c2fed86f-cb81-4a38-afc5-dedb4c1e1b19\n"
     ]
    },
    {
     "name": "stderr",
     "output_type": "stream",
     "text": [
      "INFO:apwf:0: Flow 1578 initiated and added to q1: c2fed86f-cb81-4a38-afc5-dedb4c1e1b19\n"
     ]
    },
    {
     "name": "stdout",
     "output_type": "stream",
     "text": [
      "2022-04-28 08:06:53 INFO 0: Flow 1579 initiated and added to q1: 3de8bcc8-2280-4856-81d9-fc0073fc2417\n"
     ]
    },
    {
     "name": "stderr",
     "output_type": "stream",
     "text": [
      "INFO:apwf:0: Flow 1579 initiated and added to q1: 3de8bcc8-2280-4856-81d9-fc0073fc2417\n"
     ]
    },
    {
     "name": "stdout",
     "output_type": "stream",
     "text": [
      "2022-04-28 08:07:04 INFO 0: Flow 1580 initiated and added to q1: 96eb65ae-bdea-4be6-a7b4-0fd0b09c061e\n"
     ]
    },
    {
     "name": "stderr",
     "output_type": "stream",
     "text": [
      "INFO:apwf:0: Flow 1580 initiated and added to q1: 96eb65ae-bdea-4be6-a7b4-0fd0b09c061e\n"
     ]
    },
    {
     "name": "stdout",
     "output_type": "stream",
     "text": [
      "2022-04-28 08:07:15 INFO 0: Flow 1581 initiated and added to q1: 946fd683-4aa2-4a74-80e9-eab387b5324c\n"
     ]
    },
    {
     "name": "stderr",
     "output_type": "stream",
     "text": [
      "INFO:apwf:0: Flow 1581 initiated and added to q1: 946fd683-4aa2-4a74-80e9-eab387b5324c\n"
     ]
    },
    {
     "name": "stdout",
     "output_type": "stream",
     "text": [
      "2022-04-28 08:07:31 INFO 0: Flow 1582 initiated and added to q1: ba48947e-f729-4781-8a64-833c80768a36\n"
     ]
    },
    {
     "name": "stderr",
     "output_type": "stream",
     "text": [
      "INFO:apwf:0: Flow 1582 initiated and added to q1: ba48947e-f729-4781-8a64-833c80768a36\n"
     ]
    },
    {
     "name": "stdout",
     "output_type": "stream",
     "text": [
      "2022-04-28 08:07:41 INFO 0: Flow 1583 initiated and added to q1: 3444af43-a60d-4cdc-99eb-f98cd624b8ab\n"
     ]
    },
    {
     "name": "stderr",
     "output_type": "stream",
     "text": [
      "INFO:apwf:0: Flow 1583 initiated and added to q1: 3444af43-a60d-4cdc-99eb-f98cd624b8ab\n"
     ]
    },
    {
     "name": "stdout",
     "output_type": "stream",
     "text": [
      "2022-04-28 08:07:51 INFO 0: Flow 1584 initiated and added to q1: fa8afb52-1039-4ac2-a7af-24ae9d835b7c\n"
     ]
    },
    {
     "name": "stderr",
     "output_type": "stream",
     "text": [
      "INFO:apwf:0: Flow 1584 initiated and added to q1: fa8afb52-1039-4ac2-a7af-24ae9d835b7c\n"
     ]
    },
    {
     "name": "stdout",
     "output_type": "stream",
     "text": [
      "2022-04-28 08:08:02 INFO 0: Flow 1585 initiated and added to q1: 4d95f8fa-a415-4999-83e9-41d5d838754d\n"
     ]
    },
    {
     "name": "stderr",
     "output_type": "stream",
     "text": [
      "INFO:apwf:0: Flow 1585 initiated and added to q1: 4d95f8fa-a415-4999-83e9-41d5d838754d\n"
     ]
    },
    {
     "name": "stdout",
     "output_type": "stream",
     "text": [
      "2022-04-28 08:08:13 INFO 0: Flow 1586 initiated and added to q1: d9fbd9c8-d673-4e32-8ddb-f3a3c3b6c149\n"
     ]
    },
    {
     "name": "stderr",
     "output_type": "stream",
     "text": [
      "INFO:apwf:0: Flow 1586 initiated and added to q1: d9fbd9c8-d673-4e32-8ddb-f3a3c3b6c149\n"
     ]
    },
    {
     "name": "stdout",
     "output_type": "stream",
     "text": [
      "2022-04-28 08:08:24 INFO 0: Flow 1587 initiated and added to q1: c7428be2-c0af-4650-acbb-fe121a2c93ff\n"
     ]
    },
    {
     "name": "stderr",
     "output_type": "stream",
     "text": [
      "INFO:apwf:0: Flow 1587 initiated and added to q1: c7428be2-c0af-4650-acbb-fe121a2c93ff\n"
     ]
    },
    {
     "name": "stdout",
     "output_type": "stream",
     "text": [
      "2022-04-28 08:08:35 INFO 0: Flow 1588 initiated and added to q1: 8d217310-2a78-4b41-9ec5-d9dc2f804141\n"
     ]
    },
    {
     "name": "stderr",
     "output_type": "stream",
     "text": [
      "INFO:apwf:0: Flow 1588 initiated and added to q1: 8d217310-2a78-4b41-9ec5-d9dc2f804141\n"
     ]
    },
    {
     "name": "stdout",
     "output_type": "stream",
     "text": [
      "2022-04-28 08:08:45 INFO 0: Flow 1589 initiated and added to q1: 8a84fa62-98b1-4458-a678-fabd2afb53c8\n"
     ]
    },
    {
     "name": "stderr",
     "output_type": "stream",
     "text": [
      "INFO:apwf:0: Flow 1589 initiated and added to q1: 8a84fa62-98b1-4458-a678-fabd2afb53c8\n"
     ]
    },
    {
     "name": "stdout",
     "output_type": "stream",
     "text": [
      "2022-04-28 08:09:01 INFO 0: Flow 1590 initiated and added to q1: 546da464-0ff2-461a-a39f-7ae4ea3758a9\n"
     ]
    },
    {
     "name": "stderr",
     "output_type": "stream",
     "text": [
      "INFO:apwf:0: Flow 1590 initiated and added to q1: 546da464-0ff2-461a-a39f-7ae4ea3758a9\n"
     ]
    },
    {
     "name": "stdout",
     "output_type": "stream",
     "text": [
      "2022-04-28 08:09:12 INFO 0: Flow 1591 initiated and added to q1: 3f8f8b44-20b4-4da7-831c-e264aa4f1c81\n"
     ]
    },
    {
     "name": "stderr",
     "output_type": "stream",
     "text": [
      "INFO:apwf:0: Flow 1591 initiated and added to q1: 3f8f8b44-20b4-4da7-831c-e264aa4f1c81\n"
     ]
    },
    {
     "name": "stdout",
     "output_type": "stream",
     "text": [
      "2022-04-28 08:09:23 INFO 0: Flow 1592 initiated and added to q1: 16b97700-7c37-4eda-a178-b62670f686f3\n"
     ]
    },
    {
     "name": "stderr",
     "output_type": "stream",
     "text": [
      "INFO:apwf:0: Flow 1592 initiated and added to q1: 16b97700-7c37-4eda-a178-b62670f686f3\n"
     ]
    },
    {
     "name": "stdout",
     "output_type": "stream",
     "text": [
      "2022-04-28 08:09:34 INFO 0: Flow 1593 initiated and added to q1: ca246185-1a8c-4d4f-9896-5178c5cdc419\n"
     ]
    },
    {
     "name": "stderr",
     "output_type": "stream",
     "text": [
      "INFO:apwf:0: Flow 1593 initiated and added to q1: ca246185-1a8c-4d4f-9896-5178c5cdc419\n"
     ]
    },
    {
     "name": "stdout",
     "output_type": "stream",
     "text": [
      "2022-04-28 08:09:44 INFO 0: Flow 1594 initiated and added to q1: d715efdc-b918-4fc3-94fa-b176d91e3981\n"
     ]
    },
    {
     "name": "stderr",
     "output_type": "stream",
     "text": [
      "INFO:apwf:0: Flow 1594 initiated and added to q1: d715efdc-b918-4fc3-94fa-b176d91e3981\n"
     ]
    },
    {
     "name": "stdout",
     "output_type": "stream",
     "text": [
      "2022-04-28 08:09:59 INFO 0: Flow 1595 initiated and added to q1: cf5a1014-4953-4a60-8cde-b72a665744c9\n"
     ]
    },
    {
     "name": "stderr",
     "output_type": "stream",
     "text": [
      "INFO:apwf:0: Flow 1595 initiated and added to q1: cf5a1014-4953-4a60-8cde-b72a665744c9\n"
     ]
    },
    {
     "name": "stdout",
     "output_type": "stream",
     "text": [
      "2022-04-28 08:10:09 INFO 0: Flow 1596 initiated and added to q1: 0415fa9d-1be2-4077-a439-cff4dbb80f70\n"
     ]
    },
    {
     "name": "stderr",
     "output_type": "stream",
     "text": [
      "INFO:apwf:0: Flow 1596 initiated and added to q1: 0415fa9d-1be2-4077-a439-cff4dbb80f70\n"
     ]
    },
    {
     "name": "stdout",
     "output_type": "stream",
     "text": [
      "2022-04-28 08:10:20 INFO 0: Flow 1597 initiated and added to q1: 262f2389-b365-434b-afc1-3f6b0b55739b\n"
     ]
    },
    {
     "name": "stderr",
     "output_type": "stream",
     "text": [
      "INFO:apwf:0: Flow 1597 initiated and added to q1: 262f2389-b365-434b-afc1-3f6b0b55739b\n"
     ]
    },
    {
     "name": "stdout",
     "output_type": "stream",
     "text": [
      "2022-04-28 08:10:36 INFO 0: Flow 1598 initiated and added to q1: c20b558b-0b7e-48c7-a39f-d60be28641d6\n"
     ]
    },
    {
     "name": "stderr",
     "output_type": "stream",
     "text": [
      "INFO:apwf:0: Flow 1598 initiated and added to q1: c20b558b-0b7e-48c7-a39f-d60be28641d6\n"
     ]
    },
    {
     "name": "stdout",
     "output_type": "stream",
     "text": [
      "2022-04-28 08:10:46 INFO 0: Flow 1599 initiated and added to q1: 4ad80581-7fb6-47d3-98a3-af8942725543\n"
     ]
    },
    {
     "name": "stderr",
     "output_type": "stream",
     "text": [
      "INFO:apwf:0: Flow 1599 initiated and added to q1: 4ad80581-7fb6-47d3-98a3-af8942725543\n"
     ]
    }
   ],
   "source": [
    "src_config = wf_config['flow']['source']\n",
    "dest_config = wf_config['flow']['destination']\n",
    "task_config = wf_config['flow']['task']\n",
    "exec_params_config = task_config['executable']['params']\n",
    "\n",
    "wfc = executor_helper.EConfigs(src_config, dest_config, wf_config['flow']['only_larger_than_scanid'])\n",
    "\n",
    "while True:\n",
    "    # Get the remote folders at source input folder\n",
    "    src_input_folder_paths_regex = f\"{wfc.src_wf_root_path}/{wfc.src_input_folder_prefix}/*\"\n",
    "    rid = fxc.run(src_input_folder_paths_regex,\n",
    "                  endpoint_id=daq_fx_endpoint,\n",
    "                  function_id=fx_func_get_folder_paths_uuid)\n",
    "    src_input_folder_paths = automate_helper.fx_get_result(rid, fxc, delay=wf_config['funcx_req_delay'])\n",
    "\n",
    "    # Get the remote folders at source output folder\n",
    "    src_output_folder_paths_regex = f\"{wfc.src_wf_root_path}/{wfc.src_output_folder_prefix}/*\"\n",
    "    rid = fxc.run(src_output_folder_paths_regex,\n",
    "                  endpoint_id=daq_fx_endpoint,\n",
    "                  function_id=fx_func_get_folder_paths_uuid)\n",
    "    ex_src_output_folder_paths = automate_helper.fx_get_result(rid, fxc, delay=wf_config['funcx_req_delay'])\n",
    "\n",
    "    # Get the activated iids and find the iids that need to be processed\n",
    "    activated_iids = executor_helper.read_activated_iids(wf_config['executor']['activated_iids_file_path'])\n",
    "    diff_iids = executor_helper.get_unprocessed_iids(activated_iids, src_input_folder_paths, ex_src_output_folder_paths, wfc.add_larger_than)\n",
    "    \n",
    "    # If there is no iid/scan to be processed sleep, and then re-check \n",
    "    if(len(diff_iids)==0):\n",
    "        apwfLogger.debug(f\"There is no folder to be processed, \"\n",
    "                      f\"sleeping {wf_config['data_generation_delay']} secs.\")\n",
    "        time.sleep(wf_config['data_generation_delay'])\n",
    "        continue\n",
    "    \n",
    "    # There are scans to be processed, generate paths\n",
    "    paths = executor_helper.WFPaths(wfc, src_input_folder_paths, diff_iids).plist\n",
    "     \n",
    "    # Generate flow inputs according to the paths and other configuration info.\n",
    "    flow_inputs = executor_helper.WFFlowsInputs(src_endpoint, dest_endpoint, compute_fx_endpoint, \n",
    "                                            func_ptycho_uuid, task_config, exec_params_config, \n",
    "                                            wf_config['flow']['sample_name'], paths).filist\n",
    "\n",
    "    ### Initiate/dispatch Flows ###\n",
    "    q1 = deque()\n",
    "    for i in range(len(flow_inputs)):\n",
    "        label = str(flow_inputs[i]['iid']) + '-' + \"-\".join(wf_config['flow']['keywords'])\n",
    "        flow_action = flows_client.run_flow(flow_id, flow_scope, flow_inputs[i], label=label)\n",
    "        q1.append(flow_action)\n",
    "        executor_helper.append_activated_iids([flow_inputs[i]['iid']], wf_config['executor']['activated_iids_file_path'])\n",
    "        apwfLogger.info(f\"{i}: Flow {flow_inputs[i]['iid']} initiated and added to q1: {flow_action['action_id']}\")"
   ]
  },
  {
   "cell_type": "code",
   "execution_count": null,
   "metadata": {},
   "outputs": [],
   "source": []
  },
  {
   "cell_type": "code",
   "execution_count": null,
   "metadata": {},
   "outputs": [],
   "source": [
    "# Cancel all flows\n",
    "for flow_action in q1:\n",
    "    flows_client.flow_action_cancel(flow_id, flow_scope, flow_action['action_id'])"
   ]
  },
  {
   "cell_type": "code",
   "execution_count": null,
   "metadata": {},
   "outputs": [],
   "source": []
  }
 ],
 "metadata": {
  "kernelspec": {
   "display_name": "Python 3 (ipykernel)",
   "language": "python",
   "name": "python3"
  },
  "language_info": {
   "codemirror_mode": {
    "name": "ipython",
    "version": 3
   },
   "file_extension": ".py",
   "mimetype": "text/x-python",
   "name": "python",
   "nbconvert_exporter": "python",
   "pygments_lexer": "ipython3",
   "version": "3.9.6"
  }
 },
 "nbformat": 4,
 "nbformat_minor": 4
}
