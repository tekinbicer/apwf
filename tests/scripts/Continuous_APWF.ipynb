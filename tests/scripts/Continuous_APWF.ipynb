{
 "cells": [
  {
   "cell_type": "code",
   "execution_count": 17,
   "metadata": {},
   "outputs": [],
   "source": [
    "import time\n",
    "import yaml\n",
    "import os\n",
    "from collections import deque\n",
    "\n",
    "from apwf.tools import fx_comp_helper, fx_daq_helper, executor_helper \n",
    "from apwf.flows import automate_helper\n",
    "\n",
    "from funcx.sdk.client import FuncXClient\n",
    "from globus_automate_client import create_flows_client\n",
    "\n",
    "\n",
    "configfile = f\"{os.getcwd()}/ptycho_wf_config.yml\"\n",
    "wf_config= yaml.safe_load(open(configfile))\n",
    "\n",
    "apwfLogger = executor_helper.setup_logger(wf_config)"
   ]
  },
  {
   "cell_type": "code",
   "execution_count": 25,
   "metadata": {},
   "outputs": [
    {
     "name": "stdout",
     "output_type": "stream",
     "text": [
      "b35e121c-5ed6-4980-a32e-9aee09089c36\n"
     ]
    }
   ],
   "source": [
    "# Globus Online Endpoints\n",
    "src_endpoint = wf_config['globus_endpoints']['aps_mona4_gcp']\n",
    "dest_endpoint = wf_config['globus_endpoints']['alcf_theta']\n",
    "\n",
    "# FuncX endpoint at ThetaGPU (ALCF) and Prisma (APS)\n",
    "compute_fx_endpoint = wf_config['funcx_endpoints']['alcf_polaris_gpu']\n",
    "daq_fx_endpoint = wf_config['funcx_endpoints']['aps_mona4_daq']\n",
    "\n",
    "print(compute_fx_endpoint)"
   ]
  },
  {
   "cell_type": "code",
   "execution_count": 26,
   "metadata": {},
   "outputs": [],
   "source": [
    "fxc = FuncXClient()"
   ]
  },
  {
   "cell_type": "code",
   "execution_count": 27,
   "metadata": {},
   "outputs": [
    {
     "name": "stdout",
     "output_type": "stream",
     "text": [
      "2022-05-17 08:41:21 INFO Executor folders/files are ready.\n",
      "2022-05-17 08:41:21 INFO Executor folders/files are ready.\n",
      "2022-05-17 08:41:21 INFO Executor folders/files are ready.\n"
     ]
    },
    {
     "name": "stderr",
     "output_type": "stream",
     "text": [
      "INFO:apwf:Executor folders/files are ready.\n"
     ]
    },
    {
     "name": "stdout",
     "output_type": "stream",
     "text": [
      "2022-05-17 08:41:24 INFO Data acquisition machine's folders/files are ready.\n",
      "2022-05-17 08:41:24 INFO Data acquisition machine's folders/files are ready.\n",
      "2022-05-17 08:41:24 INFO Data acquisition machine's folders/files are ready.\n"
     ]
    },
    {
     "name": "stderr",
     "output_type": "stream",
     "text": [
      "INFO:apwf:Data acquisition machine's folders/files are ready.\n"
     ]
    },
    {
     "name": "stdout",
     "output_type": "stream",
     "text": [
      "2022-05-17 08:41:34 INFO Compute machines' folders/files are ready.\n",
      "2022-05-17 08:41:34 INFO Compute machines' folders/files are ready.\n",
      "2022-05-17 08:41:34 INFO Compute machines' folders/files are ready.\n"
     ]
    },
    {
     "name": "stderr",
     "output_type": "stream",
     "text": [
      "INFO:apwf:Compute machines' folders/files are ready.\n"
     ]
    }
   ],
   "source": [
    "# Register setup functions to funcx service\n",
    "daq_wf_fxid = fxc.register_function(fx_daq_helper.daq_wf_prepare)\n",
    "comp_wf_fxid = fxc.register_function(fx_comp_helper.comp_wf_prepare)\n",
    "\n",
    "## Prepare workflow environment ##\n",
    "# Executor\n",
    "res = executor_helper.executor_wf_prepare(wf_config['executor']['activated_iids_file_path'],\n",
    "                                          wf_config['executor']['log_folder_path'],\n",
    "                                          create_activated_iid_file=True, create_log_folder=True, \n",
    "                                          cleanup_activated_iid_file=True, cleanup_log_folder=False)\n",
    "if res != 0: apwfLogger.error(f\"Unable to setup executor folders/files: {res}\")\n",
    "else: apwfLogger.info(\"Executor folders/files are ready.\")\n",
    "\n",
    "# Data acquisition\n",
    "rid = fxc.run(f\"{wf_config['flow']['source']['root_folder_path']}/{wf_config['flow']['source']['input_folder_prefix']}\",\n",
    "              f\"{wf_config['flow']['source']['root_folder_path']}/{wf_config['flow']['source']['input_position_folder_prefix']}\",\n",
    "              f\"{wf_config['flow']['source']['root_folder_path']}/{wf_config['flow']['source']['output_folder_prefix']}\",\n",
    "              probe_file_path=None, create_output_folder=True, cleanup_output_folder=False,\n",
    "              endpoint_id=daq_fx_endpoint, function_id=daq_wf_fxid)\n",
    "res = automate_helper.fx_get_result(rid, fxc)\n",
    "if res != 0: apwfLogger.error(f\"Unable to setup data acquisition machine folders/files: {res}\")\n",
    "else: apwfLogger.info(\"Data acquisition machine's folders/files are ready.\")\n",
    "\n",
    "# Compute machine\n",
    "rid = fxc.run(f\"{wf_config['flow']['destination']['root_folder_path']}/{wf_config['flow']['destination']['input_folder_prefix']}\",\n",
    "              f\"{wf_config['flow']['destination']['root_folder_path']}/{wf_config['flow']['destination']['output_folder_prefix']}\",\n",
    "              f\"{wf_config['flow']['task']['executable']['params']['log_folder_path']}\",\n",
    "              create_input_folder=True, create_output_folder=True, create_log_folder=True, \n",
    "              cleanup_input_folder=True, cleanup_output_folder=True, cleanup_log_folder=True,\n",
    "              endpoint_id=compute_fx_endpoint, function_id=comp_wf_fxid)\n",
    "res = automate_helper.fx_get_result(rid, fxc)\n",
    "if res != 0: apwfLogger.error(f\"Unable to setup compute machine folders/files: {res}\")\n",
    "else: apwfLogger.info(\"Compute machines' folders/files are ready.\")\n"
   ]
  },
  {
   "cell_type": "code",
   "execution_count": 28,
   "metadata": {},
   "outputs": [
    {
     "name": "stdout",
     "output_type": "stream",
     "text": [
      "cdc6d5ed-7d8a-4069-8718-2184cbc0cc30\n"
     ]
    }
   ],
   "source": [
    "# FuncX function definition for remote Polaris GPU reconstruction call\n",
    "func_ptycho_uuid = fxc.register_function(fx_comp_helper.ptycho_func)\n",
    "#func_ptycho_uuid = fxc.register_function(fx_comp_helper.ptycho_funcx_gpu_pin)\n",
    "print(func_ptycho_uuid)"
   ]
  },
  {
   "cell_type": "code",
   "execution_count": 29,
   "metadata": {},
   "outputs": [
    {
     "name": "stdout",
     "output_type": "stream",
     "text": [
      "da5f14b9-891c-48a8-b9ed-2a19f04fe62c\n",
      "bec6256d-f632-48bf-b127-c18c17f0b177\n"
     ]
    }
   ],
   "source": [
    "# FuncX function definition for remote DAQ machine directory calls\n",
    "fx_func_get_file_paths_uuid = fxc.register_function(fx_daq_helper.get_file_paths)\n",
    "fx_func_get_folder_paths_uuid = fxc.register_function(fx_daq_helper.get_folder_paths)\n",
    "print(fx_func_get_file_paths_uuid)\n",
    "print(fx_func_get_folder_paths_uuid)"
   ]
  },
  {
   "cell_type": "code",
   "execution_count": 30,
   "metadata": {},
   "outputs": [],
   "source": [
    "# Globus Automate flow definition\n",
    "flow_definition = automate_helper.ptycho_flow_definition\n",
    "\n",
    "# Create a flow with the above flow definition\n",
    "flows_client = create_flows_client()\n",
    "flow = flows_client.deploy_flow(flow_definition, input_schema={}, title=wf_config['flow']['title'], keywords=wf_config['flow']['keywords'])\n",
    "flow_id = flow['id']\n",
    "flow_scope = flow['globus_auth_scope']"
   ]
  },
  {
   "cell_type": "code",
   "execution_count": 31,
   "metadata": {
    "scrolled": true
   },
   "outputs": [
    {
     "name": "stdout",
     "output_type": "stream",
     "text": [
      "Please log into Globus here:\n",
      "----------------------------\n",
      "https://auth.globus.org/v2/oauth2/authorize?client_id=e6c75d97-532a-4c88-b031-8584a319fa3e&redirect_uri=https%3A%2F%2Fauth.globus.org%2Fv2%2Fweb%2Fauth-code&scope=https%3A%2F%2Fauth.globus.org%2Fscopes%2F6f00f44e-6ef0-4c75-900c-892e20fd82ce%2Fflow_6f00f44e_6ef0_4c75_900c_892e20fd82ce_user&state=_default&response_type=code&code_challenge=ng4v_N88-anmImk26EXmFDbpoNhkr9heMrwarn5jPg0&code_challenge_method=S256&access_type=offline&prefill_named_grant=Globus+Automate+Command+Line+Interface+on+hostel.xray.aps.anl.gov\n",
      "----------------------------\n",
      "\u001b[0m\n",
      "Enter the resulting Authorization Code here:2022-05-17 08:47:00 INFO 0: Flow 1702 initiated and added to q1: bce9b06b-97f3-48fc-8a99-a7b2c4031648\n",
      "2022-05-17 08:47:00 INFO 0: Flow 1702 initiated and added to q1: bce9b06b-97f3-48fc-8a99-a7b2c4031648\n",
      "2022-05-17 08:47:00 INFO 0: Flow 1702 initiated and added to q1: bce9b06b-97f3-48fc-8a99-a7b2c4031648\n"
     ]
    },
    {
     "name": "stderr",
     "output_type": "stream",
     "text": [
      "INFO:apwf:0: Flow 1702 initiated and added to q1: bce9b06b-97f3-48fc-8a99-a7b2c4031648\n"
     ]
    },
    {
     "name": "stdout",
     "output_type": "stream",
     "text": [
      "2022-05-17 08:47:06 INFO 0: Flow 1706 initiated and added to q1: ee3952af-0118-45b1-9c18-b19266150409\n",
      "2022-05-17 08:47:06 INFO 0: Flow 1706 initiated and added to q1: ee3952af-0118-45b1-9c18-b19266150409\n",
      "2022-05-17 08:47:06 INFO 0: Flow 1706 initiated and added to q1: ee3952af-0118-45b1-9c18-b19266150409\n"
     ]
    },
    {
     "name": "stderr",
     "output_type": "stream",
     "text": [
      "INFO:apwf:0: Flow 1706 initiated and added to q1: ee3952af-0118-45b1-9c18-b19266150409\n"
     ]
    },
    {
     "name": "stdout",
     "output_type": "stream",
     "text": [
      "2022-05-17 08:47:07 INFO 1: Flow 1705 initiated and added to q1: 3bb9824e-ed86-45b3-b400-2c13de8c6ea9\n",
      "2022-05-17 08:47:07 INFO 1: Flow 1705 initiated and added to q1: 3bb9824e-ed86-45b3-b400-2c13de8c6ea9\n",
      "2022-05-17 08:47:07 INFO 1: Flow 1705 initiated and added to q1: 3bb9824e-ed86-45b3-b400-2c13de8c6ea9\n"
     ]
    },
    {
     "name": "stderr",
     "output_type": "stream",
     "text": [
      "INFO:apwf:1: Flow 1705 initiated and added to q1: 3bb9824e-ed86-45b3-b400-2c13de8c6ea9\n"
     ]
    },
    {
     "name": "stdout",
     "output_type": "stream",
     "text": [
      "2022-05-17 08:47:08 INFO 2: Flow 1704 initiated and added to q1: dc399766-fb33-4e83-99d0-9ed52c3c6d59\n",
      "2022-05-17 08:47:08 INFO 2: Flow 1704 initiated and added to q1: dc399766-fb33-4e83-99d0-9ed52c3c6d59\n",
      "2022-05-17 08:47:08 INFO 2: Flow 1704 initiated and added to q1: dc399766-fb33-4e83-99d0-9ed52c3c6d59\n"
     ]
    },
    {
     "name": "stderr",
     "output_type": "stream",
     "text": [
      "INFO:apwf:2: Flow 1704 initiated and added to q1: dc399766-fb33-4e83-99d0-9ed52c3c6d59\n"
     ]
    },
    {
     "name": "stdout",
     "output_type": "stream",
     "text": [
      "2022-05-17 08:47:10 INFO 3: Flow 1703 initiated and added to q1: 3a662348-df34-42f5-b063-a7ce50ce0286\n",
      "2022-05-17 08:47:10 INFO 3: Flow 1703 initiated and added to q1: 3a662348-df34-42f5-b063-a7ce50ce0286\n",
      "2022-05-17 08:47:10 INFO 3: Flow 1703 initiated and added to q1: 3a662348-df34-42f5-b063-a7ce50ce0286\n"
     ]
    },
    {
     "name": "stderr",
     "output_type": "stream",
     "text": [
      "INFO:apwf:3: Flow 1703 initiated and added to q1: 3a662348-df34-42f5-b063-a7ce50ce0286\n"
     ]
    },
    {
     "name": "stdout",
     "output_type": "stream",
     "text": [
      "2022-05-17 08:47:15 INFO 0: Flow 1707 initiated and added to q1: c4fb1497-3d8f-4b0e-ae7b-54fe6fdab1c1\n",
      "2022-05-17 08:47:15 INFO 0: Flow 1707 initiated and added to q1: c4fb1497-3d8f-4b0e-ae7b-54fe6fdab1c1\n",
      "2022-05-17 08:47:15 INFO 0: Flow 1707 initiated and added to q1: c4fb1497-3d8f-4b0e-ae7b-54fe6fdab1c1\n"
     ]
    },
    {
     "name": "stderr",
     "output_type": "stream",
     "text": [
      "INFO:apwf:0: Flow 1707 initiated and added to q1: c4fb1497-3d8f-4b0e-ae7b-54fe6fdab1c1\n"
     ]
    },
    {
     "name": "stdout",
     "output_type": "stream",
     "text": [
      "2022-05-17 08:47:21 INFO 0: Flow 1708 initiated and added to q1: 18e5f940-7d1c-4459-ab9d-f4e463a1cf7f\n",
      "2022-05-17 08:47:21 INFO 0: Flow 1708 initiated and added to q1: 18e5f940-7d1c-4459-ab9d-f4e463a1cf7f\n",
      "2022-05-17 08:47:21 INFO 0: Flow 1708 initiated and added to q1: 18e5f940-7d1c-4459-ab9d-f4e463a1cf7f\n"
     ]
    },
    {
     "name": "stderr",
     "output_type": "stream",
     "text": [
      "INFO:apwf:0: Flow 1708 initiated and added to q1: 18e5f940-7d1c-4459-ab9d-f4e463a1cf7f\n"
     ]
    },
    {
     "name": "stdout",
     "output_type": "stream",
     "text": [
      "2022-05-17 08:47:26 INFO 0: Flow 1709 initiated and added to q1: f0ef99f3-4851-41f5-8fcc-3cc5c392196c\n",
      "2022-05-17 08:47:26 INFO 0: Flow 1709 initiated and added to q1: f0ef99f3-4851-41f5-8fcc-3cc5c392196c\n",
      "2022-05-17 08:47:26 INFO 0: Flow 1709 initiated and added to q1: f0ef99f3-4851-41f5-8fcc-3cc5c392196c\n"
     ]
    },
    {
     "name": "stderr",
     "output_type": "stream",
     "text": [
      "INFO:apwf:0: Flow 1709 initiated and added to q1: f0ef99f3-4851-41f5-8fcc-3cc5c392196c\n"
     ]
    },
    {
     "name": "stdout",
     "output_type": "stream",
     "text": [
      "2022-05-17 08:47:31 INFO 0: Flow 1710 initiated and added to q1: 97a4fc41-90b3-41e3-808c-a1e723f17e2c\n",
      "2022-05-17 08:47:31 INFO 0: Flow 1710 initiated and added to q1: 97a4fc41-90b3-41e3-808c-a1e723f17e2c\n",
      "2022-05-17 08:47:31 INFO 0: Flow 1710 initiated and added to q1: 97a4fc41-90b3-41e3-808c-a1e723f17e2c\n"
     ]
    },
    {
     "name": "stderr",
     "output_type": "stream",
     "text": [
      "INFO:apwf:0: Flow 1710 initiated and added to q1: 97a4fc41-90b3-41e3-808c-a1e723f17e2c\n"
     ]
    },
    {
     "name": "stdout",
     "output_type": "stream",
     "text": [
      "2022-05-17 08:47:37 INFO 0: Flow 1711 initiated and added to q1: 87620d92-49f4-4815-9feb-fcd73a9bdfd9\n",
      "2022-05-17 08:47:37 INFO 0: Flow 1711 initiated and added to q1: 87620d92-49f4-4815-9feb-fcd73a9bdfd9\n",
      "2022-05-17 08:47:37 INFO 0: Flow 1711 initiated and added to q1: 87620d92-49f4-4815-9feb-fcd73a9bdfd9\n"
     ]
    },
    {
     "name": "stderr",
     "output_type": "stream",
     "text": [
      "INFO:apwf:0: Flow 1711 initiated and added to q1: 87620d92-49f4-4815-9feb-fcd73a9bdfd9\n"
     ]
    },
    {
     "name": "stdout",
     "output_type": "stream",
     "text": [
      "2022-05-17 08:47:47 INFO 0: Flow 1712 initiated and added to q1: 80b07f29-58e7-40a5-aa9b-0a3d4310debb\n",
      "2022-05-17 08:47:47 INFO 0: Flow 1712 initiated and added to q1: 80b07f29-58e7-40a5-aa9b-0a3d4310debb\n",
      "2022-05-17 08:47:47 INFO 0: Flow 1712 initiated and added to q1: 80b07f29-58e7-40a5-aa9b-0a3d4310debb\n"
     ]
    },
    {
     "name": "stderr",
     "output_type": "stream",
     "text": [
      "INFO:apwf:0: Flow 1712 initiated and added to q1: 80b07f29-58e7-40a5-aa9b-0a3d4310debb\n"
     ]
    },
    {
     "name": "stdout",
     "output_type": "stream",
     "text": [
      "2022-05-17 08:47:52 INFO 0: Flow 1713 initiated and added to q1: f83a28eb-88b9-42fd-82bc-e13bef89217b\n",
      "2022-05-17 08:47:52 INFO 0: Flow 1713 initiated and added to q1: f83a28eb-88b9-42fd-82bc-e13bef89217b\n",
      "2022-05-17 08:47:52 INFO 0: Flow 1713 initiated and added to q1: f83a28eb-88b9-42fd-82bc-e13bef89217b\n"
     ]
    },
    {
     "name": "stderr",
     "output_type": "stream",
     "text": [
      "INFO:apwf:0: Flow 1713 initiated and added to q1: f83a28eb-88b9-42fd-82bc-e13bef89217b\n"
     ]
    },
    {
     "name": "stdout",
     "output_type": "stream",
     "text": [
      "2022-05-17 08:47:58 INFO 0: Flow 1714 initiated and added to q1: 6fecb463-4154-4b31-9da9-493bb9778b76\n",
      "2022-05-17 08:47:58 INFO 0: Flow 1714 initiated and added to q1: 6fecb463-4154-4b31-9da9-493bb9778b76\n",
      "2022-05-17 08:47:58 INFO 0: Flow 1714 initiated and added to q1: 6fecb463-4154-4b31-9da9-493bb9778b76\n"
     ]
    },
    {
     "name": "stderr",
     "output_type": "stream",
     "text": [
      "INFO:apwf:0: Flow 1714 initiated and added to q1: 6fecb463-4154-4b31-9da9-493bb9778b76\n"
     ]
    },
    {
     "name": "stdout",
     "output_type": "stream",
     "text": [
      "2022-05-17 08:48:03 INFO 0: Flow 1715 initiated and added to q1: 892e6cdd-155d-4135-8ba8-46fa073baad6\n",
      "2022-05-17 08:48:03 INFO 0: Flow 1715 initiated and added to q1: 892e6cdd-155d-4135-8ba8-46fa073baad6\n",
      "2022-05-17 08:48:03 INFO 0: Flow 1715 initiated and added to q1: 892e6cdd-155d-4135-8ba8-46fa073baad6\n"
     ]
    },
    {
     "name": "stderr",
     "output_type": "stream",
     "text": [
      "INFO:apwf:0: Flow 1715 initiated and added to q1: 892e6cdd-155d-4135-8ba8-46fa073baad6\n"
     ]
    },
    {
     "name": "stdout",
     "output_type": "stream",
     "text": [
      "2022-05-17 08:48:09 INFO 0: Flow 1716 initiated and added to q1: 5f0e7b17-53d6-4219-998e-e043f48adba9\n",
      "2022-05-17 08:48:09 INFO 0: Flow 1716 initiated and added to q1: 5f0e7b17-53d6-4219-998e-e043f48adba9\n",
      "2022-05-17 08:48:09 INFO 0: Flow 1716 initiated and added to q1: 5f0e7b17-53d6-4219-998e-e043f48adba9\n"
     ]
    },
    {
     "name": "stderr",
     "output_type": "stream",
     "text": [
      "INFO:apwf:0: Flow 1716 initiated and added to q1: 5f0e7b17-53d6-4219-998e-e043f48adba9\n"
     ]
    },
    {
     "name": "stdout",
     "output_type": "stream",
     "text": [
      "2022-05-17 08:48:15 INFO 0: Flow 1717 initiated and added to q1: 44a0ddb8-4c78-4e20-8c78-f6b6fa7028f8\n",
      "2022-05-17 08:48:15 INFO 0: Flow 1717 initiated and added to q1: 44a0ddb8-4c78-4e20-8c78-f6b6fa7028f8\n",
      "2022-05-17 08:48:15 INFO 0: Flow 1717 initiated and added to q1: 44a0ddb8-4c78-4e20-8c78-f6b6fa7028f8\n"
     ]
    },
    {
     "name": "stderr",
     "output_type": "stream",
     "text": [
      "INFO:apwf:0: Flow 1717 initiated and added to q1: 44a0ddb8-4c78-4e20-8c78-f6b6fa7028f8\n"
     ]
    },
    {
     "name": "stdout",
     "output_type": "stream",
     "text": [
      "2022-05-17 08:48:21 INFO 0: Flow 1718 initiated and added to q1: 59351426-9dd9-4e61-93af-3bd5551fb043\n",
      "2022-05-17 08:48:21 INFO 0: Flow 1718 initiated and added to q1: 59351426-9dd9-4e61-93af-3bd5551fb043\n",
      "2022-05-17 08:48:21 INFO 0: Flow 1718 initiated and added to q1: 59351426-9dd9-4e61-93af-3bd5551fb043\n"
     ]
    },
    {
     "name": "stderr",
     "output_type": "stream",
     "text": [
      "INFO:apwf:0: Flow 1718 initiated and added to q1: 59351426-9dd9-4e61-93af-3bd5551fb043\n"
     ]
    },
    {
     "name": "stdout",
     "output_type": "stream",
     "text": [
      "2022-05-17 08:48:31 INFO 0: Flow 1719 initiated and added to q1: e1038f1d-4cfc-46bf-8f1b-3f65946fc694\n",
      "2022-05-17 08:48:31 INFO 0: Flow 1719 initiated and added to q1: e1038f1d-4cfc-46bf-8f1b-3f65946fc694\n",
      "2022-05-17 08:48:31 INFO 0: Flow 1719 initiated and added to q1: e1038f1d-4cfc-46bf-8f1b-3f65946fc694\n"
     ]
    },
    {
     "name": "stderr",
     "output_type": "stream",
     "text": [
      "INFO:apwf:0: Flow 1719 initiated and added to q1: e1038f1d-4cfc-46bf-8f1b-3f65946fc694\n"
     ]
    },
    {
     "name": "stdout",
     "output_type": "stream",
     "text": [
      "2022-05-17 08:48:37 INFO 0: Flow 1720 initiated and added to q1: 3e0d5952-0669-42b6-9cc3-c36835aa0929\n",
      "2022-05-17 08:48:37 INFO 0: Flow 1720 initiated and added to q1: 3e0d5952-0669-42b6-9cc3-c36835aa0929\n",
      "2022-05-17 08:48:37 INFO 0: Flow 1720 initiated and added to q1: 3e0d5952-0669-42b6-9cc3-c36835aa0929\n"
     ]
    },
    {
     "name": "stderr",
     "output_type": "stream",
     "text": [
      "INFO:apwf:0: Flow 1720 initiated and added to q1: 3e0d5952-0669-42b6-9cc3-c36835aa0929\n"
     ]
    },
    {
     "name": "stdout",
     "output_type": "stream",
     "text": [
      "2022-05-17 08:48:42 INFO 0: Flow 1721 initiated and added to q1: d417f484-2419-4c09-8df4-a227857f943f\n",
      "2022-05-17 08:48:42 INFO 0: Flow 1721 initiated and added to q1: d417f484-2419-4c09-8df4-a227857f943f\n",
      "2022-05-17 08:48:42 INFO 0: Flow 1721 initiated and added to q1: d417f484-2419-4c09-8df4-a227857f943f\n"
     ]
    },
    {
     "name": "stderr",
     "output_type": "stream",
     "text": [
      "INFO:apwf:0: Flow 1721 initiated and added to q1: d417f484-2419-4c09-8df4-a227857f943f\n"
     ]
    },
    {
     "name": "stdout",
     "output_type": "stream",
     "text": [
      "2022-05-17 08:48:47 INFO 0: Flow 1722 initiated and added to q1: 75106cd6-8de3-4722-88ef-79ade4903025\n",
      "2022-05-17 08:48:47 INFO 0: Flow 1722 initiated and added to q1: 75106cd6-8de3-4722-88ef-79ade4903025\n",
      "2022-05-17 08:48:47 INFO 0: Flow 1722 initiated and added to q1: 75106cd6-8de3-4722-88ef-79ade4903025\n"
     ]
    },
    {
     "name": "stderr",
     "output_type": "stream",
     "text": [
      "INFO:apwf:0: Flow 1722 initiated and added to q1: 75106cd6-8de3-4722-88ef-79ade4903025\n"
     ]
    },
    {
     "name": "stdout",
     "output_type": "stream",
     "text": [
      "2022-05-17 08:48:53 INFO 0: Flow 1723 initiated and added to q1: 12a57ffc-ab6d-46a1-b8a2-3ac42203a9fc\n",
      "2022-05-17 08:48:53 INFO 0: Flow 1723 initiated and added to q1: 12a57ffc-ab6d-46a1-b8a2-3ac42203a9fc\n",
      "2022-05-17 08:48:53 INFO 0: Flow 1723 initiated and added to q1: 12a57ffc-ab6d-46a1-b8a2-3ac42203a9fc\n"
     ]
    },
    {
     "name": "stderr",
     "output_type": "stream",
     "text": [
      "INFO:apwf:0: Flow 1723 initiated and added to q1: 12a57ffc-ab6d-46a1-b8a2-3ac42203a9fc\n"
     ]
    },
    {
     "name": "stdout",
     "output_type": "stream",
     "text": [
      "2022-05-17 08:48:59 INFO 0: Flow 1724 initiated and added to q1: 0673fbf2-87ca-4904-94f7-a02da75ce404\n",
      "2022-05-17 08:48:59 INFO 0: Flow 1724 initiated and added to q1: 0673fbf2-87ca-4904-94f7-a02da75ce404\n",
      "2022-05-17 08:48:59 INFO 0: Flow 1724 initiated and added to q1: 0673fbf2-87ca-4904-94f7-a02da75ce404\n"
     ]
    },
    {
     "name": "stderr",
     "output_type": "stream",
     "text": [
      "INFO:apwf:0: Flow 1724 initiated and added to q1: 0673fbf2-87ca-4904-94f7-a02da75ce404\n"
     ]
    },
    {
     "name": "stdout",
     "output_type": "stream",
     "text": [
      "2022-05-17 08:49:04 INFO 0: Flow 1725 initiated and added to q1: ab27079b-db76-41a7-ab4b-0fbf418976f8\n",
      "2022-05-17 08:49:04 INFO 0: Flow 1725 initiated and added to q1: ab27079b-db76-41a7-ab4b-0fbf418976f8\n",
      "2022-05-17 08:49:04 INFO 0: Flow 1725 initiated and added to q1: ab27079b-db76-41a7-ab4b-0fbf418976f8\n"
     ]
    },
    {
     "name": "stderr",
     "output_type": "stream",
     "text": [
      "INFO:apwf:0: Flow 1725 initiated and added to q1: ab27079b-db76-41a7-ab4b-0fbf418976f8\n"
     ]
    },
    {
     "name": "stdout",
     "output_type": "stream",
     "text": [
      "2022-05-17 08:49:15 INFO 0: Flow 1726 initiated and added to q1: 6ad1a401-1088-4375-ba70-1ea66220dcab\n",
      "2022-05-17 08:49:15 INFO 0: Flow 1726 initiated and added to q1: 6ad1a401-1088-4375-ba70-1ea66220dcab\n",
      "2022-05-17 08:49:15 INFO 0: Flow 1726 initiated and added to q1: 6ad1a401-1088-4375-ba70-1ea66220dcab\n"
     ]
    },
    {
     "name": "stderr",
     "output_type": "stream",
     "text": [
      "INFO:apwf:0: Flow 1726 initiated and added to q1: 6ad1a401-1088-4375-ba70-1ea66220dcab\n"
     ]
    },
    {
     "name": "stdout",
     "output_type": "stream",
     "text": [
      "2022-05-17 08:49:20 INFO 0: Flow 1727 initiated and added to q1: f7ed7e4c-ba39-453f-85ed-3d7feae8ddfd\n",
      "2022-05-17 08:49:20 INFO 0: Flow 1727 initiated and added to q1: f7ed7e4c-ba39-453f-85ed-3d7feae8ddfd\n",
      "2022-05-17 08:49:20 INFO 0: Flow 1727 initiated and added to q1: f7ed7e4c-ba39-453f-85ed-3d7feae8ddfd\n"
     ]
    },
    {
     "name": "stderr",
     "output_type": "stream",
     "text": [
      "INFO:apwf:0: Flow 1727 initiated and added to q1: f7ed7e4c-ba39-453f-85ed-3d7feae8ddfd\n"
     ]
    },
    {
     "name": "stdout",
     "output_type": "stream",
     "text": [
      "2022-05-17 08:49:26 INFO 0: Flow 1728 initiated and added to q1: fb3dc7f3-76fe-4a67-a8f0-0d861ab117c9\n",
      "2022-05-17 08:49:26 INFO 0: Flow 1728 initiated and added to q1: fb3dc7f3-76fe-4a67-a8f0-0d861ab117c9\n",
      "2022-05-17 08:49:26 INFO 0: Flow 1728 initiated and added to q1: fb3dc7f3-76fe-4a67-a8f0-0d861ab117c9\n"
     ]
    },
    {
     "name": "stderr",
     "output_type": "stream",
     "text": [
      "INFO:apwf:0: Flow 1728 initiated and added to q1: fb3dc7f3-76fe-4a67-a8f0-0d861ab117c9\n"
     ]
    },
    {
     "name": "stdout",
     "output_type": "stream",
     "text": [
      "2022-05-17 08:49:31 INFO 0: Flow 1729 initiated and added to q1: 17788444-0acf-47cc-b179-8f1356322096\n",
      "2022-05-17 08:49:31 INFO 0: Flow 1729 initiated and added to q1: 17788444-0acf-47cc-b179-8f1356322096\n",
      "2022-05-17 08:49:31 INFO 0: Flow 1729 initiated and added to q1: 17788444-0acf-47cc-b179-8f1356322096\n"
     ]
    },
    {
     "name": "stderr",
     "output_type": "stream",
     "text": [
      "INFO:apwf:0: Flow 1729 initiated and added to q1: 17788444-0acf-47cc-b179-8f1356322096\n"
     ]
    },
    {
     "name": "stdout",
     "output_type": "stream",
     "text": [
      "2022-05-17 08:49:37 INFO 0: Flow 1730 initiated and added to q1: d113dfd5-0664-4c65-b0e4-4442189a5c08\n",
      "2022-05-17 08:49:37 INFO 0: Flow 1730 initiated and added to q1: d113dfd5-0664-4c65-b0e4-4442189a5c08\n",
      "2022-05-17 08:49:37 INFO 0: Flow 1730 initiated and added to q1: d113dfd5-0664-4c65-b0e4-4442189a5c08\n"
     ]
    },
    {
     "name": "stderr",
     "output_type": "stream",
     "text": [
      "INFO:apwf:0: Flow 1730 initiated and added to q1: d113dfd5-0664-4c65-b0e4-4442189a5c08\n"
     ]
    },
    {
     "name": "stdout",
     "output_type": "stream",
     "text": [
      "2022-05-17 08:49:42 INFO 0: Flow 1731 initiated and added to q1: ae70cf21-75a3-4877-a934-cbf04d0f4abc\n",
      "2022-05-17 08:49:42 INFO 0: Flow 1731 initiated and added to q1: ae70cf21-75a3-4877-a934-cbf04d0f4abc\n",
      "2022-05-17 08:49:42 INFO 0: Flow 1731 initiated and added to q1: ae70cf21-75a3-4877-a934-cbf04d0f4abc\n"
     ]
    },
    {
     "name": "stderr",
     "output_type": "stream",
     "text": [
      "INFO:apwf:0: Flow 1731 initiated and added to q1: ae70cf21-75a3-4877-a934-cbf04d0f4abc\n"
     ]
    },
    {
     "name": "stdout",
     "output_type": "stream",
     "text": [
      "2022-05-17 08:49:53 INFO 0: Flow 1732 initiated and added to q1: 62b603be-4c49-4e6b-8711-976622605620\n",
      "2022-05-17 08:49:53 INFO 0: Flow 1732 initiated and added to q1: 62b603be-4c49-4e6b-8711-976622605620\n",
      "2022-05-17 08:49:53 INFO 0: Flow 1732 initiated and added to q1: 62b603be-4c49-4e6b-8711-976622605620\n"
     ]
    },
    {
     "name": "stderr",
     "output_type": "stream",
     "text": [
      "INFO:apwf:0: Flow 1732 initiated and added to q1: 62b603be-4c49-4e6b-8711-976622605620\n"
     ]
    },
    {
     "name": "stdout",
     "output_type": "stream",
     "text": [
      "2022-05-17 08:49:59 INFO 0: Flow 1733 initiated and added to q1: 75bda4b1-e049-45a4-a07c-af8d440fe4cc\n",
      "2022-05-17 08:49:59 INFO 0: Flow 1733 initiated and added to q1: 75bda4b1-e049-45a4-a07c-af8d440fe4cc\n",
      "2022-05-17 08:49:59 INFO 0: Flow 1733 initiated and added to q1: 75bda4b1-e049-45a4-a07c-af8d440fe4cc\n"
     ]
    },
    {
     "name": "stderr",
     "output_type": "stream",
     "text": [
      "INFO:apwf:0: Flow 1733 initiated and added to q1: 75bda4b1-e049-45a4-a07c-af8d440fe4cc\n"
     ]
    },
    {
     "name": "stdout",
     "output_type": "stream",
     "text": [
      "2022-05-17 08:50:05 INFO 0: Flow 1734 initiated and added to q1: 0c696260-63bd-443e-afe0-ed2331352d03\n",
      "2022-05-17 08:50:05 INFO 0: Flow 1734 initiated and added to q1: 0c696260-63bd-443e-afe0-ed2331352d03\n",
      "2022-05-17 08:50:05 INFO 0: Flow 1734 initiated and added to q1: 0c696260-63bd-443e-afe0-ed2331352d03\n"
     ]
    },
    {
     "name": "stderr",
     "output_type": "stream",
     "text": [
      "INFO:apwf:0: Flow 1734 initiated and added to q1: 0c696260-63bd-443e-afe0-ed2331352d03\n"
     ]
    },
    {
     "name": "stdout",
     "output_type": "stream",
     "text": [
      "2022-05-17 08:50:10 INFO 0: Flow 1735 initiated and added to q1: e922adc2-6b22-4914-be4a-3624a9e96679\n",
      "2022-05-17 08:50:10 INFO 0: Flow 1735 initiated and added to q1: e922adc2-6b22-4914-be4a-3624a9e96679\n",
      "2022-05-17 08:50:10 INFO 0: Flow 1735 initiated and added to q1: e922adc2-6b22-4914-be4a-3624a9e96679\n"
     ]
    },
    {
     "name": "stderr",
     "output_type": "stream",
     "text": [
      "INFO:apwf:0: Flow 1735 initiated and added to q1: e922adc2-6b22-4914-be4a-3624a9e96679\n"
     ]
    },
    {
     "name": "stdout",
     "output_type": "stream",
     "text": [
      "2022-05-17 08:50:16 INFO 0: Flow 1736 initiated and added to q1: 6b9352c3-7483-4905-94eb-dac268f10bfa\n",
      "2022-05-17 08:50:16 INFO 0: Flow 1736 initiated and added to q1: 6b9352c3-7483-4905-94eb-dac268f10bfa\n",
      "2022-05-17 08:50:16 INFO 0: Flow 1736 initiated and added to q1: 6b9352c3-7483-4905-94eb-dac268f10bfa\n"
     ]
    },
    {
     "name": "stderr",
     "output_type": "stream",
     "text": [
      "INFO:apwf:0: Flow 1736 initiated and added to q1: 6b9352c3-7483-4905-94eb-dac268f10bfa\n"
     ]
    },
    {
     "name": "stdout",
     "output_type": "stream",
     "text": [
      "2022-05-17 08:50:21 INFO 0: Flow 1737 initiated and added to q1: bd7d397a-57af-45b9-8c87-770f08c875bb\n",
      "2022-05-17 08:50:21 INFO 0: Flow 1737 initiated and added to q1: bd7d397a-57af-45b9-8c87-770f08c875bb\n",
      "2022-05-17 08:50:21 INFO 0: Flow 1737 initiated and added to q1: bd7d397a-57af-45b9-8c87-770f08c875bb\n"
     ]
    },
    {
     "name": "stderr",
     "output_type": "stream",
     "text": [
      "INFO:apwf:0: Flow 1737 initiated and added to q1: bd7d397a-57af-45b9-8c87-770f08c875bb\n"
     ]
    },
    {
     "name": "stdout",
     "output_type": "stream",
     "text": [
      "2022-05-17 08:50:31 INFO 0: Flow 1738 initiated and added to q1: 90c989ce-d554-4ad0-9c22-5dfe32fa1155\n",
      "2022-05-17 08:50:31 INFO 0: Flow 1738 initiated and added to q1: 90c989ce-d554-4ad0-9c22-5dfe32fa1155\n",
      "2022-05-17 08:50:31 INFO 0: Flow 1738 initiated and added to q1: 90c989ce-d554-4ad0-9c22-5dfe32fa1155\n"
     ]
    },
    {
     "name": "stderr",
     "output_type": "stream",
     "text": [
      "INFO:apwf:0: Flow 1738 initiated and added to q1: 90c989ce-d554-4ad0-9c22-5dfe32fa1155\n"
     ]
    },
    {
     "name": "stdout",
     "output_type": "stream",
     "text": [
      "2022-05-17 08:50:37 INFO 0: Flow 1739 initiated and added to q1: 1cc02146-ea9b-453a-9a21-7994dd559058\n",
      "2022-05-17 08:50:37 INFO 0: Flow 1739 initiated and added to q1: 1cc02146-ea9b-453a-9a21-7994dd559058\n",
      "2022-05-17 08:50:37 INFO 0: Flow 1739 initiated and added to q1: 1cc02146-ea9b-453a-9a21-7994dd559058\n"
     ]
    },
    {
     "name": "stderr",
     "output_type": "stream",
     "text": [
      "INFO:apwf:0: Flow 1739 initiated and added to q1: 1cc02146-ea9b-453a-9a21-7994dd559058\n"
     ]
    },
    {
     "name": "stdout",
     "output_type": "stream",
     "text": [
      "2022-05-17 08:50:42 INFO 0: Flow 1740 initiated and added to q1: 5cdfae6d-3148-45d1-8bd0-af15b108d623\n",
      "2022-05-17 08:50:42 INFO 0: Flow 1740 initiated and added to q1: 5cdfae6d-3148-45d1-8bd0-af15b108d623\n",
      "2022-05-17 08:50:42 INFO 0: Flow 1740 initiated and added to q1: 5cdfae6d-3148-45d1-8bd0-af15b108d623\n"
     ]
    },
    {
     "name": "stderr",
     "output_type": "stream",
     "text": [
      "INFO:apwf:0: Flow 1740 initiated and added to q1: 5cdfae6d-3148-45d1-8bd0-af15b108d623\n"
     ]
    },
    {
     "name": "stdout",
     "output_type": "stream",
     "text": [
      "2022-05-17 08:50:48 INFO 0: Flow 1741 initiated and added to q1: 9f8e8f18-d3e4-4e88-a2ca-057b3c5cf137\n",
      "2022-05-17 08:50:48 INFO 0: Flow 1741 initiated and added to q1: 9f8e8f18-d3e4-4e88-a2ca-057b3c5cf137\n",
      "2022-05-17 08:50:48 INFO 0: Flow 1741 initiated and added to q1: 9f8e8f18-d3e4-4e88-a2ca-057b3c5cf137\n"
     ]
    },
    {
     "name": "stderr",
     "output_type": "stream",
     "text": [
      "INFO:apwf:0: Flow 1741 initiated and added to q1: 9f8e8f18-d3e4-4e88-a2ca-057b3c5cf137\n"
     ]
    },
    {
     "name": "stdout",
     "output_type": "stream",
     "text": [
      "2022-05-17 08:50:58 INFO 0: Flow 1742 initiated and added to q1: 212ca589-7e2c-4bf5-b646-d1bba53c4233\n",
      "2022-05-17 08:50:58 INFO 0: Flow 1742 initiated and added to q1: 212ca589-7e2c-4bf5-b646-d1bba53c4233\n",
      "2022-05-17 08:50:58 INFO 0: Flow 1742 initiated and added to q1: 212ca589-7e2c-4bf5-b646-d1bba53c4233\n"
     ]
    },
    {
     "name": "stderr",
     "output_type": "stream",
     "text": [
      "INFO:apwf:0: Flow 1742 initiated and added to q1: 212ca589-7e2c-4bf5-b646-d1bba53c4233\n"
     ]
    },
    {
     "name": "stdout",
     "output_type": "stream",
     "text": [
      "2022-05-17 08:51:03 INFO 0: Flow 1743 initiated and added to q1: 0d0050f1-fd3f-49a9-8c57-51f1dcdf85c8\n",
      "2022-05-17 08:51:03 INFO 0: Flow 1743 initiated and added to q1: 0d0050f1-fd3f-49a9-8c57-51f1dcdf85c8\n",
      "2022-05-17 08:51:03 INFO 0: Flow 1743 initiated and added to q1: 0d0050f1-fd3f-49a9-8c57-51f1dcdf85c8\n"
     ]
    },
    {
     "name": "stderr",
     "output_type": "stream",
     "text": [
      "INFO:apwf:0: Flow 1743 initiated and added to q1: 0d0050f1-fd3f-49a9-8c57-51f1dcdf85c8\n"
     ]
    },
    {
     "name": "stdout",
     "output_type": "stream",
     "text": [
      "2022-05-17 08:51:09 INFO 0: Flow 1744 initiated and added to q1: e05b5a17-e924-43ba-a9f0-8249c8d4c812\n",
      "2022-05-17 08:51:09 INFO 0: Flow 1744 initiated and added to q1: e05b5a17-e924-43ba-a9f0-8249c8d4c812\n",
      "2022-05-17 08:51:09 INFO 0: Flow 1744 initiated and added to q1: e05b5a17-e924-43ba-a9f0-8249c8d4c812\n"
     ]
    },
    {
     "name": "stderr",
     "output_type": "stream",
     "text": [
      "INFO:apwf:0: Flow 1744 initiated and added to q1: e05b5a17-e924-43ba-a9f0-8249c8d4c812\n"
     ]
    },
    {
     "name": "stdout",
     "output_type": "stream",
     "text": [
      "2022-05-17 08:51:15 INFO 0: Flow 1745 initiated and added to q1: ec8a9e03-4d75-431f-b9b0-c51185d38302\n",
      "2022-05-17 08:51:15 INFO 0: Flow 1745 initiated and added to q1: ec8a9e03-4d75-431f-b9b0-c51185d38302\n",
      "2022-05-17 08:51:15 INFO 0: Flow 1745 initiated and added to q1: ec8a9e03-4d75-431f-b9b0-c51185d38302\n"
     ]
    },
    {
     "name": "stderr",
     "output_type": "stream",
     "text": [
      "INFO:apwf:0: Flow 1745 initiated and added to q1: ec8a9e03-4d75-431f-b9b0-c51185d38302\n"
     ]
    },
    {
     "name": "stdout",
     "output_type": "stream",
     "text": [
      "2022-05-17 08:51:21 INFO 0: Flow 1746 initiated and added to q1: fc6a650a-c0f4-41eb-97dd-12f0606ba676\n",
      "2022-05-17 08:51:21 INFO 0: Flow 1746 initiated and added to q1: fc6a650a-c0f4-41eb-97dd-12f0606ba676\n",
      "2022-05-17 08:51:21 INFO 0: Flow 1746 initiated and added to q1: fc6a650a-c0f4-41eb-97dd-12f0606ba676\n"
     ]
    },
    {
     "name": "stderr",
     "output_type": "stream",
     "text": [
      "INFO:apwf:0: Flow 1746 initiated and added to q1: fc6a650a-c0f4-41eb-97dd-12f0606ba676\n"
     ]
    },
    {
     "name": "stdout",
     "output_type": "stream",
     "text": [
      "2022-05-17 08:51:26 INFO 0: Flow 1747 initiated and added to q1: 26d72d5e-f678-4b36-820a-72d1c4a55158\n",
      "2022-05-17 08:51:26 INFO 0: Flow 1747 initiated and added to q1: 26d72d5e-f678-4b36-820a-72d1c4a55158\n",
      "2022-05-17 08:51:26 INFO 0: Flow 1747 initiated and added to q1: 26d72d5e-f678-4b36-820a-72d1c4a55158\n"
     ]
    },
    {
     "name": "stderr",
     "output_type": "stream",
     "text": [
      "INFO:apwf:0: Flow 1747 initiated and added to q1: 26d72d5e-f678-4b36-820a-72d1c4a55158\n"
     ]
    },
    {
     "name": "stdout",
     "output_type": "stream",
     "text": [
      "2022-05-17 08:51:31 INFO 0: Flow 1748 initiated and added to q1: 49c2fd80-de1f-4a79-97a9-0eb8734e3b0d\n",
      "2022-05-17 08:51:31 INFO 0: Flow 1748 initiated and added to q1: 49c2fd80-de1f-4a79-97a9-0eb8734e3b0d\n",
      "2022-05-17 08:51:31 INFO 0: Flow 1748 initiated and added to q1: 49c2fd80-de1f-4a79-97a9-0eb8734e3b0d\n"
     ]
    },
    {
     "name": "stderr",
     "output_type": "stream",
     "text": [
      "INFO:apwf:0: Flow 1748 initiated and added to q1: 49c2fd80-de1f-4a79-97a9-0eb8734e3b0d\n"
     ]
    },
    {
     "name": "stdout",
     "output_type": "stream",
     "text": [
      "2022-05-17 08:51:41 INFO 0: Flow 1749 initiated and added to q1: c97f3276-5296-496c-9ff3-a9b60de38f01\n",
      "2022-05-17 08:51:41 INFO 0: Flow 1749 initiated and added to q1: c97f3276-5296-496c-9ff3-a9b60de38f01\n",
      "2022-05-17 08:51:41 INFO 0: Flow 1749 initiated and added to q1: c97f3276-5296-496c-9ff3-a9b60de38f01\n"
     ]
    },
    {
     "name": "stderr",
     "output_type": "stream",
     "text": [
      "INFO:apwf:0: Flow 1749 initiated and added to q1: c97f3276-5296-496c-9ff3-a9b60de38f01\n"
     ]
    },
    {
     "name": "stdout",
     "output_type": "stream",
     "text": [
      "2022-05-17 08:51:47 INFO 0: Flow 1750 initiated and added to q1: c8deb390-d796-4515-addd-f9a9dd2c7c59\n",
      "2022-05-17 08:51:47 INFO 0: Flow 1750 initiated and added to q1: c8deb390-d796-4515-addd-f9a9dd2c7c59\n",
      "2022-05-17 08:51:47 INFO 0: Flow 1750 initiated and added to q1: c8deb390-d796-4515-addd-f9a9dd2c7c59\n"
     ]
    },
    {
     "name": "stderr",
     "output_type": "stream",
     "text": [
      "INFO:apwf:0: Flow 1750 initiated and added to q1: c8deb390-d796-4515-addd-f9a9dd2c7c59\n"
     ]
    },
    {
     "name": "stdout",
     "output_type": "stream",
     "text": [
      "2022-05-17 08:51:52 INFO 0: Flow 1751 initiated and added to q1: 9c025f09-d58f-415c-8bb6-f996697262ed\n",
      "2022-05-17 08:51:52 INFO 0: Flow 1751 initiated and added to q1: 9c025f09-d58f-415c-8bb6-f996697262ed\n",
      "2022-05-17 08:51:52 INFO 0: Flow 1751 initiated and added to q1: 9c025f09-d58f-415c-8bb6-f996697262ed\n"
     ]
    },
    {
     "name": "stderr",
     "output_type": "stream",
     "text": [
      "INFO:apwf:0: Flow 1751 initiated and added to q1: 9c025f09-d58f-415c-8bb6-f996697262ed\n"
     ]
    },
    {
     "name": "stdout",
     "output_type": "stream",
     "text": [
      "2022-05-17 08:51:57 INFO 0: Flow 1752 initiated and added to q1: a5b34514-f835-4ab2-9e4f-49b28a52f089\n",
      "2022-05-17 08:51:57 INFO 0: Flow 1752 initiated and added to q1: a5b34514-f835-4ab2-9e4f-49b28a52f089\n",
      "2022-05-17 08:51:57 INFO 0: Flow 1752 initiated and added to q1: a5b34514-f835-4ab2-9e4f-49b28a52f089\n"
     ]
    },
    {
     "name": "stderr",
     "output_type": "stream",
     "text": [
      "INFO:apwf:0: Flow 1752 initiated and added to q1: a5b34514-f835-4ab2-9e4f-49b28a52f089\n"
     ]
    },
    {
     "name": "stdout",
     "output_type": "stream",
     "text": [
      "2022-05-17 08:52:03 INFO 0: Flow 1753 initiated and added to q1: a7ec08f8-8b99-4eb3-9cf6-95193254e1bb\n",
      "2022-05-17 08:52:03 INFO 0: Flow 1753 initiated and added to q1: a7ec08f8-8b99-4eb3-9cf6-95193254e1bb\n",
      "2022-05-17 08:52:03 INFO 0: Flow 1753 initiated and added to q1: a7ec08f8-8b99-4eb3-9cf6-95193254e1bb\n"
     ]
    },
    {
     "name": "stderr",
     "output_type": "stream",
     "text": [
      "INFO:apwf:0: Flow 1753 initiated and added to q1: a7ec08f8-8b99-4eb3-9cf6-95193254e1bb\n"
     ]
    },
    {
     "name": "stdout",
     "output_type": "stream",
     "text": [
      "2022-05-17 08:52:13 INFO 0: Flow 1754 initiated and added to q1: 14e0e15a-a337-4004-ad9e-eef7af30e107\n",
      "2022-05-17 08:52:13 INFO 0: Flow 1754 initiated and added to q1: 14e0e15a-a337-4004-ad9e-eef7af30e107\n",
      "2022-05-17 08:52:13 INFO 0: Flow 1754 initiated and added to q1: 14e0e15a-a337-4004-ad9e-eef7af30e107\n"
     ]
    },
    {
     "name": "stderr",
     "output_type": "stream",
     "text": [
      "INFO:apwf:0: Flow 1754 initiated and added to q1: 14e0e15a-a337-4004-ad9e-eef7af30e107\n"
     ]
    },
    {
     "name": "stdout",
     "output_type": "stream",
     "text": [
      "2022-05-17 08:52:19 INFO 0: Flow 1755 initiated and added to q1: 0738261b-8c89-4b4a-b1b4-48c1ec25d196\n",
      "2022-05-17 08:52:19 INFO 0: Flow 1755 initiated and added to q1: 0738261b-8c89-4b4a-b1b4-48c1ec25d196\n",
      "2022-05-17 08:52:19 INFO 0: Flow 1755 initiated and added to q1: 0738261b-8c89-4b4a-b1b4-48c1ec25d196\n"
     ]
    },
    {
     "name": "stderr",
     "output_type": "stream",
     "text": [
      "INFO:apwf:0: Flow 1755 initiated and added to q1: 0738261b-8c89-4b4a-b1b4-48c1ec25d196\n"
     ]
    },
    {
     "name": "stdout",
     "output_type": "stream",
     "text": [
      "2022-05-17 08:52:24 INFO 0: Flow 1756 initiated and added to q1: 04a87c7f-fd98-4339-bff9-edbf55ea03fb\n",
      "2022-05-17 08:52:24 INFO 0: Flow 1756 initiated and added to q1: 04a87c7f-fd98-4339-bff9-edbf55ea03fb\n",
      "2022-05-17 08:52:24 INFO 0: Flow 1756 initiated and added to q1: 04a87c7f-fd98-4339-bff9-edbf55ea03fb\n"
     ]
    },
    {
     "name": "stderr",
     "output_type": "stream",
     "text": [
      "INFO:apwf:0: Flow 1756 initiated and added to q1: 04a87c7f-fd98-4339-bff9-edbf55ea03fb\n"
     ]
    },
    {
     "name": "stdout",
     "output_type": "stream",
     "text": [
      "2022-05-17 08:52:30 INFO 0: Flow 1757 initiated and added to q1: 5ccf5ca7-b643-4511-b955-a9f80d4bf3ff\n",
      "2022-05-17 08:52:30 INFO 0: Flow 1757 initiated and added to q1: 5ccf5ca7-b643-4511-b955-a9f80d4bf3ff\n",
      "2022-05-17 08:52:30 INFO 0: Flow 1757 initiated and added to q1: 5ccf5ca7-b643-4511-b955-a9f80d4bf3ff\n"
     ]
    },
    {
     "name": "stderr",
     "output_type": "stream",
     "text": [
      "INFO:apwf:0: Flow 1757 initiated and added to q1: 5ccf5ca7-b643-4511-b955-a9f80d4bf3ff\n"
     ]
    },
    {
     "name": "stdout",
     "output_type": "stream",
     "text": [
      "2022-05-17 08:52:35 INFO 0: Flow 1758 initiated and added to q1: f5dcfb7b-b52b-42a1-8500-276228e2518b\n",
      "2022-05-17 08:52:35 INFO 0: Flow 1758 initiated and added to q1: f5dcfb7b-b52b-42a1-8500-276228e2518b\n",
      "2022-05-17 08:52:35 INFO 0: Flow 1758 initiated and added to q1: f5dcfb7b-b52b-42a1-8500-276228e2518b\n"
     ]
    },
    {
     "name": "stderr",
     "output_type": "stream",
     "text": [
      "INFO:apwf:0: Flow 1758 initiated and added to q1: f5dcfb7b-b52b-42a1-8500-276228e2518b\n"
     ]
    },
    {
     "name": "stdout",
     "output_type": "stream",
     "text": [
      "2022-05-17 08:52:40 INFO 0: Flow 1759 initiated and added to q1: 63755a9b-dffc-4571-924b-536fbae9e4db\n",
      "2022-05-17 08:52:40 INFO 0: Flow 1759 initiated and added to q1: 63755a9b-dffc-4571-924b-536fbae9e4db\n",
      "2022-05-17 08:52:40 INFO 0: Flow 1759 initiated and added to q1: 63755a9b-dffc-4571-924b-536fbae9e4db\n"
     ]
    },
    {
     "name": "stderr",
     "output_type": "stream",
     "text": [
      "INFO:apwf:0: Flow 1759 initiated and added to q1: 63755a9b-dffc-4571-924b-536fbae9e4db\n"
     ]
    },
    {
     "name": "stdout",
     "output_type": "stream",
     "text": [
      "2022-05-17 08:52:46 INFO 0: Flow 1760 initiated and added to q1: 725392a7-0c65-4349-8e45-e8a5c7e170db\n",
      "2022-05-17 08:52:46 INFO 0: Flow 1760 initiated and added to q1: 725392a7-0c65-4349-8e45-e8a5c7e170db\n",
      "2022-05-17 08:52:46 INFO 0: Flow 1760 initiated and added to q1: 725392a7-0c65-4349-8e45-e8a5c7e170db\n"
     ]
    },
    {
     "name": "stderr",
     "output_type": "stream",
     "text": [
      "INFO:apwf:0: Flow 1760 initiated and added to q1: 725392a7-0c65-4349-8e45-e8a5c7e170db\n"
     ]
    },
    {
     "name": "stdout",
     "output_type": "stream",
     "text": [
      "2022-05-17 08:52:53 INFO 0: Flow 1761 initiated and added to q1: e82a19ca-a87c-4e5e-a47f-f30256ba7577\n",
      "2022-05-17 08:52:53 INFO 0: Flow 1761 initiated and added to q1: e82a19ca-a87c-4e5e-a47f-f30256ba7577\n",
      "2022-05-17 08:52:53 INFO 0: Flow 1761 initiated and added to q1: e82a19ca-a87c-4e5e-a47f-f30256ba7577\n"
     ]
    },
    {
     "name": "stderr",
     "output_type": "stream",
     "text": [
      "INFO:apwf:0: Flow 1761 initiated and added to q1: e82a19ca-a87c-4e5e-a47f-f30256ba7577\n"
     ]
    },
    {
     "name": "stdout",
     "output_type": "stream",
     "text": [
      "2022-05-17 08:53:09 INFO 0: Flow 1762 initiated and added to q1: 1c96154c-9b2b-4b2f-b3a7-e8c7ee5f7a97\n",
      "2022-05-17 08:53:09 INFO 0: Flow 1762 initiated and added to q1: 1c96154c-9b2b-4b2f-b3a7-e8c7ee5f7a97\n",
      "2022-05-17 08:53:09 INFO 0: Flow 1762 initiated and added to q1: 1c96154c-9b2b-4b2f-b3a7-e8c7ee5f7a97\n"
     ]
    },
    {
     "name": "stderr",
     "output_type": "stream",
     "text": [
      "INFO:apwf:0: Flow 1762 initiated and added to q1: 1c96154c-9b2b-4b2f-b3a7-e8c7ee5f7a97\n"
     ]
    },
    {
     "name": "stdout",
     "output_type": "stream",
     "text": [
      "2022-05-17 08:53:15 INFO 0: Flow 1764 initiated and added to q1: 382ea9ca-7b9f-4a8e-8de7-6ccd60487f6b\n",
      "2022-05-17 08:53:15 INFO 0: Flow 1764 initiated and added to q1: 382ea9ca-7b9f-4a8e-8de7-6ccd60487f6b\n",
      "2022-05-17 08:53:15 INFO 0: Flow 1764 initiated and added to q1: 382ea9ca-7b9f-4a8e-8de7-6ccd60487f6b\n"
     ]
    },
    {
     "name": "stderr",
     "output_type": "stream",
     "text": [
      "INFO:apwf:0: Flow 1764 initiated and added to q1: 382ea9ca-7b9f-4a8e-8de7-6ccd60487f6b\n"
     ]
    },
    {
     "name": "stdout",
     "output_type": "stream",
     "text": [
      "2022-05-17 08:53:15 INFO 1: Flow 1763 initiated and added to q1: da4b0ec4-2499-41b3-8905-889c939db931\n",
      "2022-05-17 08:53:15 INFO 1: Flow 1763 initiated and added to q1: da4b0ec4-2499-41b3-8905-889c939db931\n",
      "2022-05-17 08:53:15 INFO 1: Flow 1763 initiated and added to q1: da4b0ec4-2499-41b3-8905-889c939db931\n"
     ]
    },
    {
     "name": "stderr",
     "output_type": "stream",
     "text": [
      "INFO:apwf:1: Flow 1763 initiated and added to q1: da4b0ec4-2499-41b3-8905-889c939db931\n"
     ]
    },
    {
     "name": "stdout",
     "output_type": "stream",
     "text": [
      "2022-05-17 08:53:21 INFO 0: Flow 1765 initiated and added to q1: ac63992e-c4ff-439c-95da-f4d6ef6eedda\n",
      "2022-05-17 08:53:21 INFO 0: Flow 1765 initiated and added to q1: ac63992e-c4ff-439c-95da-f4d6ef6eedda\n",
      "2022-05-17 08:53:21 INFO 0: Flow 1765 initiated and added to q1: ac63992e-c4ff-439c-95da-f4d6ef6eedda\n"
     ]
    },
    {
     "name": "stderr",
     "output_type": "stream",
     "text": [
      "INFO:apwf:0: Flow 1765 initiated and added to q1: ac63992e-c4ff-439c-95da-f4d6ef6eedda\n"
     ]
    },
    {
     "name": "stdout",
     "output_type": "stream",
     "text": [
      "2022-05-17 08:53:27 INFO 0: Flow 1766 initiated and added to q1: 4bcd550c-2a35-40a5-97c7-7485b496d8c7\n",
      "2022-05-17 08:53:27 INFO 0: Flow 1766 initiated and added to q1: 4bcd550c-2a35-40a5-97c7-7485b496d8c7\n",
      "2022-05-17 08:53:27 INFO 0: Flow 1766 initiated and added to q1: 4bcd550c-2a35-40a5-97c7-7485b496d8c7\n"
     ]
    },
    {
     "name": "stderr",
     "output_type": "stream",
     "text": [
      "INFO:apwf:0: Flow 1766 initiated and added to q1: 4bcd550c-2a35-40a5-97c7-7485b496d8c7\n"
     ]
    },
    {
     "name": "stdout",
     "output_type": "stream",
     "text": [
      "2022-05-17 08:53:33 INFO 0: Flow 1767 initiated and added to q1: 6ee67e73-e546-41cf-8527-f1ced67dd8c1\n",
      "2022-05-17 08:53:33 INFO 0: Flow 1767 initiated and added to q1: 6ee67e73-e546-41cf-8527-f1ced67dd8c1\n",
      "2022-05-17 08:53:33 INFO 0: Flow 1767 initiated and added to q1: 6ee67e73-e546-41cf-8527-f1ced67dd8c1\n"
     ]
    },
    {
     "name": "stderr",
     "output_type": "stream",
     "text": [
      "INFO:apwf:0: Flow 1767 initiated and added to q1: 6ee67e73-e546-41cf-8527-f1ced67dd8c1\n"
     ]
    },
    {
     "name": "stdout",
     "output_type": "stream",
     "text": [
      "2022-05-17 08:53:38 INFO 0: Flow 1768 initiated and added to q1: 5b24a90f-0815-4941-b792-2eb730b5af08\n",
      "2022-05-17 08:53:38 INFO 0: Flow 1768 initiated and added to q1: 5b24a90f-0815-4941-b792-2eb730b5af08\n",
      "2022-05-17 08:53:38 INFO 0: Flow 1768 initiated and added to q1: 5b24a90f-0815-4941-b792-2eb730b5af08\n"
     ]
    },
    {
     "name": "stderr",
     "output_type": "stream",
     "text": [
      "INFO:apwf:0: Flow 1768 initiated and added to q1: 5b24a90f-0815-4941-b792-2eb730b5af08\n"
     ]
    },
    {
     "name": "stdout",
     "output_type": "stream",
     "text": [
      "2022-05-17 08:53:43 INFO 0: Flow 1769 initiated and added to q1: 79251bd0-d9bb-41cb-b87b-32c3d6a0c2e8\n",
      "2022-05-17 08:53:43 INFO 0: Flow 1769 initiated and added to q1: 79251bd0-d9bb-41cb-b87b-32c3d6a0c2e8\n",
      "2022-05-17 08:53:43 INFO 0: Flow 1769 initiated and added to q1: 79251bd0-d9bb-41cb-b87b-32c3d6a0c2e8\n"
     ]
    },
    {
     "name": "stderr",
     "output_type": "stream",
     "text": [
      "INFO:apwf:0: Flow 1769 initiated and added to q1: 79251bd0-d9bb-41cb-b87b-32c3d6a0c2e8\n"
     ]
    },
    {
     "name": "stdout",
     "output_type": "stream",
     "text": [
      "2022-05-17 08:53:53 INFO 0: Flow 1770 initiated and added to q1: fecff906-5069-4cd6-9309-bfebc61e3456\n",
      "2022-05-17 08:53:53 INFO 0: Flow 1770 initiated and added to q1: fecff906-5069-4cd6-9309-bfebc61e3456\n",
      "2022-05-17 08:53:53 INFO 0: Flow 1770 initiated and added to q1: fecff906-5069-4cd6-9309-bfebc61e3456\n"
     ]
    },
    {
     "name": "stderr",
     "output_type": "stream",
     "text": [
      "INFO:apwf:0: Flow 1770 initiated and added to q1: fecff906-5069-4cd6-9309-bfebc61e3456\n"
     ]
    },
    {
     "name": "stdout",
     "output_type": "stream",
     "text": [
      "2022-05-17 08:53:59 INFO 0: Flow 1771 initiated and added to q1: 04e46914-f522-47a2-834a-e09ebce1cf86\n",
      "2022-05-17 08:53:59 INFO 0: Flow 1771 initiated and added to q1: 04e46914-f522-47a2-834a-e09ebce1cf86\n",
      "2022-05-17 08:53:59 INFO 0: Flow 1771 initiated and added to q1: 04e46914-f522-47a2-834a-e09ebce1cf86\n"
     ]
    },
    {
     "name": "stderr",
     "output_type": "stream",
     "text": [
      "INFO:apwf:0: Flow 1771 initiated and added to q1: 04e46914-f522-47a2-834a-e09ebce1cf86\n"
     ]
    },
    {
     "name": "stdout",
     "output_type": "stream",
     "text": [
      "2022-05-17 08:54:04 INFO 0: Flow 1772 initiated and added to q1: fe62733e-5b41-47c2-b1e3-df026cd7a58a\n",
      "2022-05-17 08:54:04 INFO 0: Flow 1772 initiated and added to q1: fe62733e-5b41-47c2-b1e3-df026cd7a58a\n",
      "2022-05-17 08:54:04 INFO 0: Flow 1772 initiated and added to q1: fe62733e-5b41-47c2-b1e3-df026cd7a58a\n"
     ]
    },
    {
     "name": "stderr",
     "output_type": "stream",
     "text": [
      "INFO:apwf:0: Flow 1772 initiated and added to q1: fe62733e-5b41-47c2-b1e3-df026cd7a58a\n"
     ]
    },
    {
     "name": "stdout",
     "output_type": "stream",
     "text": [
      "2022-05-17 08:54:10 INFO 0: Flow 1773 initiated and added to q1: 68a64b97-037d-4841-8fb8-db80d1446f54\n",
      "2022-05-17 08:54:10 INFO 0: Flow 1773 initiated and added to q1: 68a64b97-037d-4841-8fb8-db80d1446f54\n",
      "2022-05-17 08:54:10 INFO 0: Flow 1773 initiated and added to q1: 68a64b97-037d-4841-8fb8-db80d1446f54\n"
     ]
    },
    {
     "name": "stderr",
     "output_type": "stream",
     "text": [
      "INFO:apwf:0: Flow 1773 initiated and added to q1: 68a64b97-037d-4841-8fb8-db80d1446f54\n"
     ]
    },
    {
     "name": "stdout",
     "output_type": "stream",
     "text": [
      "2022-05-17 08:54:21 INFO 0: Flow 1774 initiated and added to q1: 07a6566a-f0a4-4082-b761-75105caad523\n",
      "2022-05-17 08:54:21 INFO 0: Flow 1774 initiated and added to q1: 07a6566a-f0a4-4082-b761-75105caad523\n",
      "2022-05-17 08:54:21 INFO 0: Flow 1774 initiated and added to q1: 07a6566a-f0a4-4082-b761-75105caad523\n"
     ]
    },
    {
     "name": "stderr",
     "output_type": "stream",
     "text": [
      "INFO:apwf:0: Flow 1774 initiated and added to q1: 07a6566a-f0a4-4082-b761-75105caad523\n"
     ]
    },
    {
     "name": "stdout",
     "output_type": "stream",
     "text": [
      "2022-05-17 08:54:27 INFO 0: Flow 1775 initiated and added to q1: f076bb80-fa5f-4906-8df2-81279252c08b\n",
      "2022-05-17 08:54:27 INFO 0: Flow 1775 initiated and added to q1: f076bb80-fa5f-4906-8df2-81279252c08b\n",
      "2022-05-17 08:54:27 INFO 0: Flow 1775 initiated and added to q1: f076bb80-fa5f-4906-8df2-81279252c08b\n"
     ]
    },
    {
     "name": "stderr",
     "output_type": "stream",
     "text": [
      "INFO:apwf:0: Flow 1775 initiated and added to q1: f076bb80-fa5f-4906-8df2-81279252c08b\n"
     ]
    },
    {
     "name": "stdout",
     "output_type": "stream",
     "text": [
      "2022-05-17 08:54:32 INFO 0: Flow 1776 initiated and added to q1: 4be8410a-35ee-459d-95e2-cd8dd9e774e5\n",
      "2022-05-17 08:54:32 INFO 0: Flow 1776 initiated and added to q1: 4be8410a-35ee-459d-95e2-cd8dd9e774e5\n",
      "2022-05-17 08:54:32 INFO 0: Flow 1776 initiated and added to q1: 4be8410a-35ee-459d-95e2-cd8dd9e774e5\n"
     ]
    },
    {
     "name": "stderr",
     "output_type": "stream",
     "text": [
      "INFO:apwf:0: Flow 1776 initiated and added to q1: 4be8410a-35ee-459d-95e2-cd8dd9e774e5\n"
     ]
    },
    {
     "name": "stdout",
     "output_type": "stream",
     "text": [
      "2022-05-17 08:54:38 INFO 0: Flow 1777 initiated and added to q1: 1fc86b81-f8ce-4b6e-a741-7559e30bd72a\n",
      "2022-05-17 08:54:38 INFO 0: Flow 1777 initiated and added to q1: 1fc86b81-f8ce-4b6e-a741-7559e30bd72a\n",
      "2022-05-17 08:54:38 INFO 0: Flow 1777 initiated and added to q1: 1fc86b81-f8ce-4b6e-a741-7559e30bd72a\n"
     ]
    },
    {
     "name": "stderr",
     "output_type": "stream",
     "text": [
      "INFO:apwf:0: Flow 1777 initiated and added to q1: 1fc86b81-f8ce-4b6e-a741-7559e30bd72a\n"
     ]
    },
    {
     "name": "stdout",
     "output_type": "stream",
     "text": [
      "2022-05-17 08:54:43 INFO 0: Flow 1778 initiated and added to q1: 840710aa-b9d7-41ff-ac68-c12e9df23f42\n",
      "2022-05-17 08:54:43 INFO 0: Flow 1778 initiated and added to q1: 840710aa-b9d7-41ff-ac68-c12e9df23f42\n",
      "2022-05-17 08:54:43 INFO 0: Flow 1778 initiated and added to q1: 840710aa-b9d7-41ff-ac68-c12e9df23f42\n"
     ]
    },
    {
     "name": "stderr",
     "output_type": "stream",
     "text": [
      "INFO:apwf:0: Flow 1778 initiated and added to q1: 840710aa-b9d7-41ff-ac68-c12e9df23f42\n"
     ]
    },
    {
     "name": "stdout",
     "output_type": "stream",
     "text": [
      "2022-05-17 08:54:49 INFO 0: Flow 1779 initiated and added to q1: 63485022-1b4d-41b6-a49c-57dc5c50e407\n",
      "2022-05-17 08:54:49 INFO 0: Flow 1779 initiated and added to q1: 63485022-1b4d-41b6-a49c-57dc5c50e407\n",
      "2022-05-17 08:54:49 INFO 0: Flow 1779 initiated and added to q1: 63485022-1b4d-41b6-a49c-57dc5c50e407\n"
     ]
    },
    {
     "name": "stderr",
     "output_type": "stream",
     "text": [
      "INFO:apwf:0: Flow 1779 initiated and added to q1: 63485022-1b4d-41b6-a49c-57dc5c50e407\n"
     ]
    },
    {
     "ename": "TypeError",
     "evalue": "'NoneType' object is not iterable",
     "output_type": "error",
     "traceback": [
      "\u001b[0;31m---------------------------------------------------------------------------\u001b[0m",
      "\u001b[0;31mTypeError\u001b[0m                                 Traceback (most recent call last)",
      "\u001b[0;32m/tmp/ipykernel_1226448/3317258847.py\u001b[0m in \u001b[0;36m<module>\u001b[0;34m\u001b[0m\n\u001b[1;32m     23\u001b[0m     \u001b[0;31m# Get the activated iids and find the iids that need to be processed\u001b[0m\u001b[0;34m\u001b[0m\u001b[0;34m\u001b[0m\u001b[0;34m\u001b[0m\u001b[0m\n\u001b[1;32m     24\u001b[0m     \u001b[0mactivated_iids\u001b[0m \u001b[0;34m=\u001b[0m \u001b[0mexecutor_helper\u001b[0m\u001b[0;34m.\u001b[0m\u001b[0mread_activated_iids\u001b[0m\u001b[0;34m(\u001b[0m\u001b[0mwf_config\u001b[0m\u001b[0;34m[\u001b[0m\u001b[0;34m'executor'\u001b[0m\u001b[0;34m]\u001b[0m\u001b[0;34m[\u001b[0m\u001b[0;34m'activated_iids_file_path'\u001b[0m\u001b[0;34m]\u001b[0m\u001b[0;34m)\u001b[0m\u001b[0;34m\u001b[0m\u001b[0;34m\u001b[0m\u001b[0m\n\u001b[0;32m---> 25\u001b[0;31m     \u001b[0mdiff_iids\u001b[0m \u001b[0;34m=\u001b[0m \u001b[0mexecutor_helper\u001b[0m\u001b[0;34m.\u001b[0m\u001b[0mget_unprocessed_iids\u001b[0m\u001b[0;34m(\u001b[0m\u001b[0mactivated_iids\u001b[0m\u001b[0;34m,\u001b[0m \u001b[0msrc_input_folder_paths\u001b[0m\u001b[0;34m,\u001b[0m \u001b[0mex_src_output_folder_paths\u001b[0m\u001b[0;34m,\u001b[0m \u001b[0mwfc\u001b[0m\u001b[0;34m.\u001b[0m\u001b[0madd_larger_than\u001b[0m\u001b[0;34m)\u001b[0m\u001b[0;34m\u001b[0m\u001b[0;34m\u001b[0m\u001b[0m\n\u001b[0m\u001b[1;32m     26\u001b[0m \u001b[0;34m\u001b[0m\u001b[0m\n\u001b[1;32m     27\u001b[0m     \u001b[0;31m# If there is no iid/scan to be processed sleep, and then re-check\u001b[0m\u001b[0;34m\u001b[0m\u001b[0;34m\u001b[0m\u001b[0;34m\u001b[0m\u001b[0m\n",
      "\u001b[0;32m/home/beams2/TBICER/projects/apwf/src/apwf/tools/executor_helper.py\u001b[0m in \u001b[0;36mget_unprocessed_iids\u001b[0;34m(activated_iids, src_input_folder_paths, ex_src_output_folder_paths, only_larger_than)\u001b[0m\n\u001b[1;32m    190\u001b[0m \u001b[0;32mdef\u001b[0m \u001b[0mget_unprocessed_iids\u001b[0m\u001b[0;34m(\u001b[0m\u001b[0mactivated_iids\u001b[0m\u001b[0;34m,\u001b[0m \u001b[0msrc_input_folder_paths\u001b[0m\u001b[0;34m,\u001b[0m \u001b[0mex_src_output_folder_paths\u001b[0m\u001b[0;34m,\u001b[0m \u001b[0monly_larger_than\u001b[0m\u001b[0;34m=\u001b[0m\u001b[0;36m0\u001b[0m\u001b[0;34m)\u001b[0m\u001b[0;34m:\u001b[0m\u001b[0;34m\u001b[0m\u001b[0;34m\u001b[0m\u001b[0m\n\u001b[1;32m    191\u001b[0m     \u001b[0miids\u001b[0m \u001b[0;34m=\u001b[0m \u001b[0;34m[\u001b[0m\u001b[0;34m]\u001b[0m\u001b[0;34m\u001b[0m\u001b[0;34m\u001b[0m\u001b[0m\n\u001b[0;32m--> 192\u001b[0;31m     \u001b[0;32mfor\u001b[0m \u001b[0msrc_input_folder_path\u001b[0m \u001b[0;32min\u001b[0m \u001b[0msrc_input_folder_paths\u001b[0m\u001b[0;34m:\u001b[0m\u001b[0;34m\u001b[0m\u001b[0;34m\u001b[0m\u001b[0m\n\u001b[0m\u001b[1;32m    193\u001b[0m         \u001b[0miid\u001b[0m \u001b[0;34m=\u001b[0m \u001b[0mre\u001b[0m\u001b[0;34m.\u001b[0m\u001b[0mfindall\u001b[0m\u001b[0;34m(\u001b[0m\u001b[0;34mr'\\d+'\u001b[0m\u001b[0;34m,\u001b[0m \u001b[0msrc_input_folder_path\u001b[0m\u001b[0;34m)\u001b[0m\u001b[0;34m\u001b[0m\u001b[0;34m\u001b[0m\u001b[0m\n\u001b[1;32m    194\u001b[0m         \u001b[0;32mif\u001b[0m \u001b[0mint\u001b[0m\u001b[0;34m(\u001b[0m\u001b[0miid\u001b[0m\u001b[0;34m[\u001b[0m\u001b[0;34m-\u001b[0m\u001b[0;36m1\u001b[0m\u001b[0;34m]\u001b[0m\u001b[0;34m)\u001b[0m \u001b[0;34m>\u001b[0m \u001b[0monly_larger_than\u001b[0m\u001b[0;34m:\u001b[0m\u001b[0;34m\u001b[0m\u001b[0;34m\u001b[0m\u001b[0m\n",
      "\u001b[0;31mTypeError\u001b[0m: 'NoneType' object is not iterable"
     ]
    }
   ],
   "source": [
    "src_config = wf_config['flow']['source']\n",
    "dest_config = wf_config['flow']['destination']\n",
    "task_config = wf_config['flow']['task']\n",
    "exec_params_config = task_config['executable']['params']\n",
    "\n",
    "wfc = executor_helper.EConfigs(src_config, dest_config, wf_config['flow']['only_larger_than_scanid'])\n",
    "\n",
    "while True:\n",
    "    # Get the remote folders at source input folder\n",
    "    src_input_folder_paths_regex = f\"{wfc.src_wf_root_path}/{wfc.src_input_folder_prefix}/*\"\n",
    "    rid = fxc.run(src_input_folder_paths_regex,\n",
    "                  endpoint_id=daq_fx_endpoint,\n",
    "                  function_id=fx_func_get_folder_paths_uuid)\n",
    "    src_input_folder_paths = automate_helper.fx_get_result(rid, fxc, delay=wf_config['funcx_req_delay'])\n",
    "\n",
    "    # Get the remote folders at source output folder\n",
    "    src_output_folder_paths_regex = f\"{wfc.src_wf_root_path}/{wfc.src_output_folder_prefix}/*\"\n",
    "    rid = fxc.run(src_output_folder_paths_regex,\n",
    "                  endpoint_id=daq_fx_endpoint,\n",
    "                  function_id=fx_func_get_folder_paths_uuid)\n",
    "    ex_src_output_folder_paths = automate_helper.fx_get_result(rid, fxc, delay=wf_config['funcx_req_delay'])\n",
    "\n",
    "    # Get the activated iids and find the iids that need to be processed\n",
    "    activated_iids = executor_helper.read_activated_iids(wf_config['executor']['activated_iids_file_path'])\n",
    "    diff_iids = executor_helper.get_unprocessed_iids(activated_iids, src_input_folder_paths, ex_src_output_folder_paths, wfc.add_larger_than)\n",
    "    \n",
    "    # If there is no iid/scan to be processed sleep, and then re-check \n",
    "    if(len(diff_iids)==0):\n",
    "        apwfLogger.debug(f\"There is no folder to be processed, \"\n",
    "                      f\"sleeping {wf_config['data_generation_delay']} secs.\")\n",
    "        time.sleep(wf_config['data_generation_delay'])\n",
    "        continue\n",
    "    \n",
    "    # There are scans to be processed, generate paths\n",
    "    paths = executor_helper.WFPaths(wfc, src_input_folder_paths, diff_iids).plist\n",
    "     \n",
    "    # Generate flow inputs according to the paths and other configuration info.\n",
    "    flow_inputs = executor_helper.WFFlowsInputs(src_endpoint, dest_endpoint, compute_fx_endpoint, \n",
    "                                            func_ptycho_uuid, task_config, exec_params_config, \n",
    "                                            wf_config['flow']['sample_name'], paths).filist\n",
    "\n",
    "    ### Initiate/dispatch Flows ###\n",
    "    q1 = deque()\n",
    "    for i in range(len(flow_inputs)):\n",
    "        label = str(flow_inputs[i]['iid']) + '-' + \"-\".join(wf_config['flow']['keywords'])\n",
    "        flow_action = flows_client.run_flow(flow_id, flow_scope, flow_inputs[i], label=label)\n",
    "        q1.append(flow_action)\n",
    "        executor_helper.append_activated_iids([flow_inputs[i]['iid']], wf_config['executor']['activated_iids_file_path'])\n",
    "        apwfLogger.info(f\"{i}: Flow {flow_inputs[i]['iid']} initiated and added to q1: {flow_action['action_id']}\")"
   ]
  },
  {
   "cell_type": "code",
   "execution_count": null,
   "metadata": {},
   "outputs": [],
   "source": []
  },
  {
   "cell_type": "code",
   "execution_count": null,
   "metadata": {},
   "outputs": [],
   "source": [
    "# Cancel all flows\n",
    "for flow_action in q1:\n",
    "    flows_client.flow_action_cancel(flow_id, flow_scope, flow_action['action_id'])"
   ]
  },
  {
   "cell_type": "code",
   "execution_count": null,
   "metadata": {},
   "outputs": [],
   "source": []
  }
 ],
 "metadata": {
  "kernelspec": {
   "display_name": "Python 3 (ipykernel)",
   "language": "python",
   "name": "python3"
  },
  "language_info": {
   "codemirror_mode": {
    "name": "ipython",
    "version": 3
   },
   "file_extension": ".py",
   "mimetype": "text/x-python",
   "name": "python",
   "nbconvert_exporter": "python",
   "pygments_lexer": "ipython3",
   "version": "3.9.6"
  }
 },
 "nbformat": 4,
 "nbformat_minor": 4
}
