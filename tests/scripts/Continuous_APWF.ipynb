{
 "cells": [
  {
   "cell_type": "code",
   "execution_count": 1,
   "metadata": {},
   "outputs": [],
   "source": [
    "import time\n",
    "import yaml\n",
    "import os\n",
    "from collections import deque\n",
    "\n",
    "from apwf.tools import fx_comp_helper, fx_daq_helper, executor_helper \n",
    "from apwf.flows import automate_helper\n",
    "\n",
    "from funcx.sdk.client import FuncXClient\n",
    "from globus_automate_client import create_flows_client\n",
    "\n",
    "\n",
    "configfile = f\"{os.getcwd()}/ptycho_wf_config.yml\"\n",
    "wf_config= yaml.safe_load(open(configfile))\n",
    "\n",
    "apwfLogger = executor_helper.setup_logger(wf_config)"
   ]
  },
  {
   "cell_type": "code",
   "execution_count": 2,
   "metadata": {},
   "outputs": [
    {
     "name": "stdout",
     "output_type": "stream",
     "text": [
      "b35e121c-5ed6-4980-a32e-9aee09089c36\n"
     ]
    }
   ],
   "source": [
    "# Globus Online Endpoints\n",
    "src_endpoint = wf_config['globus_endpoints']['aps_mona4_gcp']\n",
    "dest_endpoint = wf_config['globus_endpoints']['alcf_theta']\n",
    "\n",
    "# FuncX endpoint at ThetaGPU (ALCF) and Prisma (APS)\n",
    "compute_fx_endpoint = wf_config['funcx_endpoints']['alcf_polaris_gpu']\n",
    "daq_fx_endpoint = wf_config['funcx_endpoints']['aps_mona4_daq']\n",
    "\n",
    "print(compute_fx_endpoint)"
   ]
  },
  {
   "cell_type": "code",
   "execution_count": 3,
   "metadata": {},
   "outputs": [],
   "source": [
    "fxc = FuncXClient()"
   ]
  },
  {
   "cell_type": "code",
   "execution_count": 4,
   "metadata": {},
   "outputs": [
    {
     "name": "stdout",
     "output_type": "stream",
     "text": [
      "2022-04-25 17:00:33 INFO Executor folders/files are ready.\n",
      "2022-04-25 17:00:36 INFO Data acquisition machine's folders/files are ready.\n",
      "2022-04-25 17:01:21 INFO Compute machines' folders/files are ready.\n"
     ]
    },
    {
     "name": "stderr",
     "output_type": "stream",
     "text": [
      "INFO:apwf:Compute machines' folders/files are ready.\n"
     ]
    }
   ],
   "source": [
    "# Register setup functions to funcx service\n",
    "daq_wf_fxid = fxc.register_function(fx_daq_helper.daq_wf_prepare)\n",
    "comp_wf_fxid = fxc.register_function(fx_comp_helper.comp_wf_prepare)\n",
    "\n",
    "## Prepare workflow environment ##\n",
    "# Executor\n",
    "res = executor_helper.executor_wf_prepare(wf_config['executor']['activated_iids_file_path'],\n",
    "                                          wf_config['executor']['log_folder_path'],\n",
    "                                          create_activated_iid_file=True, create_log_folder=True, \n",
    "                                          cleanup_activated_iid_file=False, cleanup_log_folder=False)\n",
    "if res != 0: apwfLogger.error(f\"Unable to setup executor folders/files: {res}\")\n",
    "else: apwfLogger.info(\"Executor folders/files are ready.\")\n",
    "\n",
    "# Data acquisition\n",
    "rid = fxc.run(f\"{wf_config['flow']['source']['root_folder_path']}/{wf_config['flow']['source']['input_folder_prefix']}\",\n",
    "              f\"{wf_config['flow']['source']['root_folder_path']}/{wf_config['flow']['source']['input_position_folder_prefix']}\",\n",
    "              f\"{wf_config['flow']['source']['root_folder_path']}/{wf_config['flow']['source']['output_folder_prefix']}\",\n",
    "              probe_file_path=None, create_output_folder=True, cleanup_output_folder=False,\n",
    "              endpoint_id=daq_fx_endpoint, function_id=daq_wf_fxid)\n",
    "res = automate_helper.fx_get_result(rid, fxc)\n",
    "if res != 0: apwfLogger.error(f\"Unable to setup data acquisition machine folders/files: {res}\")\n",
    "else: apwfLogger.info(\"Data acquisition machine's folders/files are ready.\")\n",
    "\n",
    "# Compute machine\n",
    "rid = fxc.run(f\"{wf_config['flow']['destination']['root_folder_path']}/{wf_config['flow']['destination']['input_folder_prefix']}\",\n",
    "              f\"{wf_config['flow']['destination']['root_folder_path']}/{wf_config['flow']['destination']['output_folder_prefix']}\",\n",
    "              f\"{wf_config['flow']['task']['executable']['params']['log_folder_path']}\",\n",
    "              create_input_folder=True, create_output_folder=True, create_log_folder=True, \n",
    "              cleanup_input_folder=False, cleanup_output_folder=False, cleanup_log_folder=False,\n",
    "              endpoint_id=compute_fx_endpoint, function_id=comp_wf_fxid)\n",
    "res = automate_helper.fx_get_result(rid, fxc)\n",
    "if res != 0: apwfLogger.error(f\"Unable to setup compute machine folders/files: {res}\")\n",
    "else: apwfLogger.info(\"Compute machines' folders/files are ready.\")\n"
   ]
  },
  {
   "cell_type": "code",
   "execution_count": 5,
   "metadata": {},
   "outputs": [
    {
     "name": "stdout",
     "output_type": "stream",
     "text": [
      "fc41dd8a-d056-44aa-944f-db28a2def75b\n"
     ]
    }
   ],
   "source": [
    "# FuncX function definition for remote Polaris GPU reconstruction call\n",
    "func_ptycho_uuid = fxc.register_function(fx_comp_helper.ptycho_func)\n",
    "print(func_ptycho_uuid)"
   ]
  },
  {
   "cell_type": "code",
   "execution_count": 6,
   "metadata": {},
   "outputs": [
    {
     "name": "stdout",
     "output_type": "stream",
     "text": [
      "6b1c87c5-4193-44f9-ad99-dc27e768a010\n",
      "e125ff39-9da5-4404-9103-1d5768221f3e\n"
     ]
    }
   ],
   "source": [
    "# FuncX function definition for remote DAQ machine directory calls\n",
    "fx_func_get_file_paths_uuid = fxc.register_function(fx_daq_helper.get_file_paths)\n",
    "fx_func_get_folder_paths_uuid = fxc.register_function(fx_daq_helper.get_folder_paths)\n",
    "print(fx_func_get_file_paths_uuid)\n",
    "print(fx_func_get_folder_paths_uuid)"
   ]
  },
  {
   "cell_type": "code",
   "execution_count": 7,
   "metadata": {},
   "outputs": [],
   "source": [
    "# Globus Automate flow definition\n",
    "flow_definition = automate_helper.ptycho_flow_definition\n",
    "\n",
    "# Create a flow with the above flow definition\n",
    "flows_client = create_flows_client()\n",
    "flow = flows_client.deploy_flow(flow_definition, input_schema={}, title=wf_config['flow']['title'], keywords=wf_config['flow']['keywords'])\n",
    "flow_id = flow['id']\n",
    "flow_scope = flow['globus_auth_scope']"
   ]
  },
  {
   "cell_type": "code",
   "execution_count": 8,
   "metadata": {
    "scrolled": true
   },
   "outputs": [
    {
     "name": "stdout",
     "output_type": "stream",
     "text": [
      "Please log into Globus here:\n",
      "----------------------------\n",
      "https://auth.globus.org/v2/oauth2/authorize?client_id=e6c75d97-532a-4c88-b031-8584a319fa3e&redirect_uri=https%3A%2F%2Fauth.globus.org%2Fv2%2Fweb%2Fauth-code&scope=https%3A%2F%2Fauth.globus.org%2Fscopes%2F300f9098-a3ae-4f29-a7e9-e5bfa13b5b67%2Fflow_300f9098_a3ae_4f29_a7e9_e5bfa13b5b67_user&state=_default&response_type=code&code_challenge=4bmS2Vp--XqlL1CrKfT27-ZeEqaUobA8xY3fAZmp5Cc&code_challenge_method=S256&access_type=offline&prefill_named_grant=Globus+Automate+Command+Line+Interface+on+hostel.xray.aps.anl.gov\n",
      "----------------------------\n",
      "\u001b[0m\n",
      "Enter the resulting Authorization Code here: 2022-04-25 17:52:51 INFO 0: Flow 1460 initiated and added to q1: b29391a9-56da-4520-aac7-d89e02277a33\n"
     ]
    },
    {
     "name": "stderr",
     "output_type": "stream",
     "text": [
      "INFO:apwf:0: Flow 1460 initiated and added to q1: b29391a9-56da-4520-aac7-d89e02277a33\n"
     ]
    },
    {
     "name": "stdout",
     "output_type": "stream",
     "text": [
      "2022-04-25 17:52:57 INFO 0: Flow 1464 initiated and added to q1: 18fdd1eb-25a1-4a3a-b16c-d2f1d0ada821\n"
     ]
    },
    {
     "name": "stderr",
     "output_type": "stream",
     "text": [
      "INFO:apwf:0: Flow 1464 initiated and added to q1: 18fdd1eb-25a1-4a3a-b16c-d2f1d0ada821\n"
     ]
    },
    {
     "name": "stdout",
     "output_type": "stream",
     "text": [
      "2022-04-25 17:52:57 INFO 1: Flow 1463 initiated and added to q1: e1eddce2-eb21-409d-8335-20f374aaa473\n"
     ]
    },
    {
     "name": "stderr",
     "output_type": "stream",
     "text": [
      "INFO:apwf:1: Flow 1463 initiated and added to q1: e1eddce2-eb21-409d-8335-20f374aaa473\n"
     ]
    },
    {
     "name": "stdout",
     "output_type": "stream",
     "text": [
      "2022-04-25 17:52:58 INFO 2: Flow 1462 initiated and added to q1: 64032a27-0f0a-46d4-aed7-69f4c4885644\n"
     ]
    },
    {
     "name": "stderr",
     "output_type": "stream",
     "text": [
      "INFO:apwf:2: Flow 1462 initiated and added to q1: 64032a27-0f0a-46d4-aed7-69f4c4885644\n"
     ]
    },
    {
     "name": "stdout",
     "output_type": "stream",
     "text": [
      "2022-04-25 17:52:59 INFO 3: Flow 1461 initiated and added to q1: aed0d88c-63d3-4c74-86f5-cd7f37c9693e\n"
     ]
    },
    {
     "name": "stderr",
     "output_type": "stream",
     "text": [
      "INFO:apwf:3: Flow 1461 initiated and added to q1: aed0d88c-63d3-4c74-86f5-cd7f37c9693e\n"
     ]
    },
    {
     "name": "stdout",
     "output_type": "stream",
     "text": [
      "2022-04-25 17:53:05 INFO 0: Flow 1465 initiated and added to q1: a40f44da-6f74-4b69-ae08-0cccee01929f\n"
     ]
    },
    {
     "name": "stderr",
     "output_type": "stream",
     "text": [
      "INFO:apwf:0: Flow 1465 initiated and added to q1: a40f44da-6f74-4b69-ae08-0cccee01929f\n"
     ]
    },
    {
     "name": "stdout",
     "output_type": "stream",
     "text": [
      "2022-04-25 17:53:21 INFO 0: Flow 1466 initiated and added to q1: 8d43380c-36df-44a0-93f6-f2b05727bc7a\n"
     ]
    },
    {
     "name": "stderr",
     "output_type": "stream",
     "text": [
      "INFO:apwf:0: Flow 1466 initiated and added to q1: 8d43380c-36df-44a0-93f6-f2b05727bc7a\n"
     ]
    },
    {
     "name": "stdout",
     "output_type": "stream",
     "text": [
      "2022-04-25 17:53:31 INFO 0: Flow 1467 initiated and added to q1: f70c3a38-84eb-481f-b6db-135e5dc3474b\n"
     ]
    },
    {
     "name": "stderr",
     "output_type": "stream",
     "text": [
      "INFO:apwf:0: Flow 1467 initiated and added to q1: f70c3a38-84eb-481f-b6db-135e5dc3474b\n"
     ]
    },
    {
     "name": "stdout",
     "output_type": "stream",
     "text": [
      "2022-04-25 17:53:41 INFO 0: Flow 1468 initiated and added to q1: b0c6ef9b-8f1c-448c-8856-d7d29c51b30e\n"
     ]
    },
    {
     "name": "stderr",
     "output_type": "stream",
     "text": [
      "INFO:apwf:0: Flow 1468 initiated and added to q1: b0c6ef9b-8f1c-448c-8856-d7d29c51b30e\n"
     ]
    },
    {
     "name": "stdout",
     "output_type": "stream",
     "text": [
      "2022-04-25 17:53:56 INFO 0: Flow 1469 initiated and added to q1: 5ab24786-2974-4783-acf4-79b37dca3dc3\n"
     ]
    },
    {
     "name": "stderr",
     "output_type": "stream",
     "text": [
      "INFO:apwf:0: Flow 1469 initiated and added to q1: 5ab24786-2974-4783-acf4-79b37dca3dc3\n"
     ]
    },
    {
     "name": "stdout",
     "output_type": "stream",
     "text": [
      "2022-04-25 17:54:06 INFO 0: Flow 1470 initiated and added to q1: 92da30b4-e607-4921-abec-c84c42d3e3d2\n"
     ]
    },
    {
     "name": "stderr",
     "output_type": "stream",
     "text": [
      "INFO:apwf:0: Flow 1470 initiated and added to q1: 92da30b4-e607-4921-abec-c84c42d3e3d2\n"
     ]
    },
    {
     "name": "stdout",
     "output_type": "stream",
     "text": [
      "2022-04-25 17:54:17 INFO 0: Flow 1471 initiated and added to q1: de935425-96c2-4498-b677-a3c6e262800a\n"
     ]
    },
    {
     "name": "stderr",
     "output_type": "stream",
     "text": [
      "INFO:apwf:0: Flow 1471 initiated and added to q1: de935425-96c2-4498-b677-a3c6e262800a\n"
     ]
    },
    {
     "name": "stdout",
     "output_type": "stream",
     "text": [
      "2022-04-25 17:54:27 INFO 0: Flow 1472 initiated and added to q1: ee8daa18-f389-4b3a-bdb5-046302436498\n"
     ]
    },
    {
     "name": "stderr",
     "output_type": "stream",
     "text": [
      "INFO:apwf:0: Flow 1472 initiated and added to q1: ee8daa18-f389-4b3a-bdb5-046302436498\n"
     ]
    },
    {
     "name": "stdout",
     "output_type": "stream",
     "text": [
      "2022-04-25 17:54:38 INFO 0: Flow 1473 initiated and added to q1: 8db1fb2b-d720-463e-8971-c88689eff125\n"
     ]
    },
    {
     "name": "stderr",
     "output_type": "stream",
     "text": [
      "INFO:apwf:0: Flow 1473 initiated and added to q1: 8db1fb2b-d720-463e-8971-c88689eff125\n"
     ]
    },
    {
     "name": "stdout",
     "output_type": "stream",
     "text": [
      "2022-04-25 17:54:53 INFO 0: Flow 1474 initiated and added to q1: 1f24b648-f68f-4f41-9e2c-ba56e942dbf7\n"
     ]
    },
    {
     "name": "stderr",
     "output_type": "stream",
     "text": [
      "INFO:apwf:0: Flow 1474 initiated and added to q1: 1f24b648-f68f-4f41-9e2c-ba56e942dbf7\n"
     ]
    },
    {
     "name": "stdout",
     "output_type": "stream",
     "text": [
      "2022-04-25 17:55:04 INFO 0: Flow 1475 initiated and added to q1: 8857b61b-6e1c-46ed-9ff8-aa4e90a41e91\n"
     ]
    },
    {
     "name": "stderr",
     "output_type": "stream",
     "text": [
      "INFO:apwf:0: Flow 1475 initiated and added to q1: 8857b61b-6e1c-46ed-9ff8-aa4e90a41e91\n"
     ]
    },
    {
     "name": "stdout",
     "output_type": "stream",
     "text": [
      "2022-04-25 17:55:19 INFO 0: Flow 1476 initiated and added to q1: 6948c88d-152a-4e98-bc77-f00690dc628a\n"
     ]
    },
    {
     "name": "stderr",
     "output_type": "stream",
     "text": [
      "INFO:apwf:0: Flow 1476 initiated and added to q1: 6948c88d-152a-4e98-bc77-f00690dc628a\n"
     ]
    },
    {
     "name": "stdout",
     "output_type": "stream",
     "text": [
      "2022-04-25 17:55:29 INFO 0: Flow 1477 initiated and added to q1: fc91e9af-0e7f-4b08-abaf-4b362cc43994\n"
     ]
    },
    {
     "name": "stderr",
     "output_type": "stream",
     "text": [
      "INFO:apwf:0: Flow 1477 initiated and added to q1: fc91e9af-0e7f-4b08-abaf-4b362cc43994\n"
     ]
    },
    {
     "name": "stdout",
     "output_type": "stream",
     "text": [
      "2022-04-25 17:55:40 INFO 0: Flow 1478 initiated and added to q1: f6c628ae-598f-4010-95bc-324a09b1097e\n"
     ]
    },
    {
     "name": "stderr",
     "output_type": "stream",
     "text": [
      "INFO:apwf:0: Flow 1478 initiated and added to q1: f6c628ae-598f-4010-95bc-324a09b1097e\n"
     ]
    },
    {
     "name": "stdout",
     "output_type": "stream",
     "text": [
      "2022-04-25 17:55:55 INFO 0: Flow 1479 initiated and added to q1: 1a799b0b-f986-40b8-9b55-f12da44823eb\n"
     ]
    },
    {
     "name": "stderr",
     "output_type": "stream",
     "text": [
      "INFO:apwf:0: Flow 1479 initiated and added to q1: 1a799b0b-f986-40b8-9b55-f12da44823eb\n"
     ]
    },
    {
     "name": "stdout",
     "output_type": "stream",
     "text": [
      "2022-04-25 17:56:05 INFO 0: Flow 1480 initiated and added to q1: 55a70b52-f2ef-4432-a426-9a9a7b564f14\n"
     ]
    },
    {
     "name": "stderr",
     "output_type": "stream",
     "text": [
      "INFO:apwf:0: Flow 1480 initiated and added to q1: 55a70b52-f2ef-4432-a426-9a9a7b564f14\n"
     ]
    },
    {
     "name": "stdout",
     "output_type": "stream",
     "text": [
      "2022-04-25 17:56:16 INFO 0: Flow 1481 initiated and added to q1: 490d47c2-fcf4-4215-807a-f69c8eeaf609\n"
     ]
    },
    {
     "name": "stderr",
     "output_type": "stream",
     "text": [
      "INFO:apwf:0: Flow 1481 initiated and added to q1: 490d47c2-fcf4-4215-807a-f69c8eeaf609\n"
     ]
    },
    {
     "name": "stdout",
     "output_type": "stream",
     "text": [
      "2022-04-25 17:56:31 INFO 0: Flow 1482 initiated and added to q1: 87cabfc2-eb61-4d26-8e31-aee9459847ee\n"
     ]
    },
    {
     "name": "stderr",
     "output_type": "stream",
     "text": [
      "INFO:apwf:0: Flow 1482 initiated and added to q1: 87cabfc2-eb61-4d26-8e31-aee9459847ee\n"
     ]
    },
    {
     "name": "stdout",
     "output_type": "stream",
     "text": [
      "2022-04-25 17:56:41 INFO 0: Flow 1483 initiated and added to q1: 92b0099c-38c5-4a25-a9cc-cf2e27c33051\n"
     ]
    },
    {
     "name": "stderr",
     "output_type": "stream",
     "text": [
      "INFO:apwf:0: Flow 1483 initiated and added to q1: 92b0099c-38c5-4a25-a9cc-cf2e27c33051\n"
     ]
    },
    {
     "name": "stdout",
     "output_type": "stream",
     "text": [
      "2022-04-25 17:56:51 INFO 0: Flow 1484 initiated and added to q1: 0102e480-7302-4a1f-805c-c3c70f125608\n"
     ]
    },
    {
     "name": "stderr",
     "output_type": "stream",
     "text": [
      "INFO:apwf:0: Flow 1484 initiated and added to q1: 0102e480-7302-4a1f-805c-c3c70f125608\n"
     ]
    },
    {
     "name": "stdout",
     "output_type": "stream",
     "text": [
      "2022-04-25 17:57:01 INFO 0: Flow 1485 initiated and added to q1: 8b64c084-f783-4a1b-bd66-3a4638120c4e\n"
     ]
    },
    {
     "name": "stderr",
     "output_type": "stream",
     "text": [
      "INFO:apwf:0: Flow 1485 initiated and added to q1: 8b64c084-f783-4a1b-bd66-3a4638120c4e\n"
     ]
    },
    {
     "name": "stdout",
     "output_type": "stream",
     "text": [
      "2022-04-25 17:57:12 INFO 0: Flow 1486 initiated and added to q1: cb4c99a2-19b9-4e12-8a7a-9e8df96c9192\n"
     ]
    },
    {
     "name": "stderr",
     "output_type": "stream",
     "text": [
      "INFO:apwf:0: Flow 1486 initiated and added to q1: cb4c99a2-19b9-4e12-8a7a-9e8df96c9192\n"
     ]
    },
    {
     "name": "stdout",
     "output_type": "stream",
     "text": [
      "2022-04-25 17:57:27 INFO 0: Flow 1487 initiated and added to q1: c2004e33-6abf-4fc2-a547-4b8a1ee52955\n"
     ]
    },
    {
     "name": "stderr",
     "output_type": "stream",
     "text": [
      "INFO:apwf:0: Flow 1487 initiated and added to q1: c2004e33-6abf-4fc2-a547-4b8a1ee52955\n"
     ]
    },
    {
     "name": "stdout",
     "output_type": "stream",
     "text": [
      "2022-04-25 17:57:37 INFO 0: Flow 1488 initiated and added to q1: 311ac9ec-3b1f-47ad-bd16-528b1e0b7287\n"
     ]
    },
    {
     "name": "stderr",
     "output_type": "stream",
     "text": [
      "INFO:apwf:0: Flow 1488 initiated and added to q1: 311ac9ec-3b1f-47ad-bd16-528b1e0b7287\n"
     ]
    },
    {
     "name": "stdout",
     "output_type": "stream",
     "text": [
      "2022-04-25 17:57:48 INFO 0: Flow 1489 initiated and added to q1: 00126f0e-15c9-4ab3-b176-5b95c60ff82b\n"
     ]
    },
    {
     "name": "stderr",
     "output_type": "stream",
     "text": [
      "INFO:apwf:0: Flow 1489 initiated and added to q1: 00126f0e-15c9-4ab3-b176-5b95c60ff82b\n"
     ]
    },
    {
     "name": "stdout",
     "output_type": "stream",
     "text": [
      "2022-04-25 17:58:03 INFO 0: Flow 1490 initiated and added to q1: 74280b88-83e3-4c64-bdbf-63276d6feb16\n"
     ]
    },
    {
     "name": "stderr",
     "output_type": "stream",
     "text": [
      "INFO:apwf:0: Flow 1490 initiated and added to q1: 74280b88-83e3-4c64-bdbf-63276d6feb16\n"
     ]
    },
    {
     "name": "stdout",
     "output_type": "stream",
     "text": [
      "2022-04-25 17:58:13 INFO 0: Flow 1491 initiated and added to q1: c7e0b90d-80a1-48ff-b59c-89ad674850be\n"
     ]
    },
    {
     "name": "stderr",
     "output_type": "stream",
     "text": [
      "INFO:apwf:0: Flow 1491 initiated and added to q1: c7e0b90d-80a1-48ff-b59c-89ad674850be\n"
     ]
    },
    {
     "name": "stdout",
     "output_type": "stream",
     "text": [
      "2022-04-25 17:58:24 INFO 0: Flow 1492 initiated and added to q1: bd6f723f-5874-467a-a3aa-c84c4d217cb4\n"
     ]
    },
    {
     "name": "stderr",
     "output_type": "stream",
     "text": [
      "INFO:apwf:0: Flow 1492 initiated and added to q1: bd6f723f-5874-467a-a3aa-c84c4d217cb4\n"
     ]
    },
    {
     "name": "stdout",
     "output_type": "stream",
     "text": [
      "2022-04-25 17:58:34 INFO 0: Flow 1493 initiated and added to q1: 05255b9c-2699-40a1-aee2-288025d911a4\n"
     ]
    },
    {
     "name": "stderr",
     "output_type": "stream",
     "text": [
      "INFO:apwf:0: Flow 1493 initiated and added to q1: 05255b9c-2699-40a1-aee2-288025d911a4\n"
     ]
    },
    {
     "name": "stdout",
     "output_type": "stream",
     "text": [
      "2022-04-25 17:58:45 INFO 0: Flow 1494 initiated and added to q1: eb067e05-c75a-4da9-865a-e9928f8617d0\n"
     ]
    },
    {
     "name": "stderr",
     "output_type": "stream",
     "text": [
      "INFO:apwf:0: Flow 1494 initiated and added to q1: eb067e05-c75a-4da9-865a-e9928f8617d0\n"
     ]
    },
    {
     "name": "stdout",
     "output_type": "stream",
     "text": [
      "2022-04-25 17:59:00 INFO 0: Flow 1495 initiated and added to q1: 7801d8ba-339e-45b7-9941-23ab268ecf2f\n"
     ]
    },
    {
     "name": "stderr",
     "output_type": "stream",
     "text": [
      "INFO:apwf:0: Flow 1495 initiated and added to q1: 7801d8ba-339e-45b7-9941-23ab268ecf2f\n"
     ]
    },
    {
     "name": "stdout",
     "output_type": "stream",
     "text": [
      "2022-04-25 17:59:10 INFO 0: Flow 1496 initiated and added to q1: 1d582235-70b0-4572-a90d-b6df59aef88c\n"
     ]
    },
    {
     "name": "stderr",
     "output_type": "stream",
     "text": [
      "INFO:apwf:0: Flow 1496 initiated and added to q1: 1d582235-70b0-4572-a90d-b6df59aef88c\n"
     ]
    },
    {
     "name": "stdout",
     "output_type": "stream",
     "text": [
      "2022-04-25 17:59:21 INFO 0: Flow 1497 initiated and added to q1: 2231d0bd-5bb2-42c2-82d7-24864dc1f846\n"
     ]
    },
    {
     "name": "stderr",
     "output_type": "stream",
     "text": [
      "INFO:apwf:0: Flow 1497 initiated and added to q1: 2231d0bd-5bb2-42c2-82d7-24864dc1f846\n"
     ]
    },
    {
     "name": "stdout",
     "output_type": "stream",
     "text": [
      "2022-04-25 17:59:31 INFO 0: Flow 1498 initiated and added to q1: e802f65a-0e99-4551-abd6-697b53a9fd60\n"
     ]
    },
    {
     "name": "stderr",
     "output_type": "stream",
     "text": [
      "INFO:apwf:0: Flow 1498 initiated and added to q1: e802f65a-0e99-4551-abd6-697b53a9fd60\n"
     ]
    },
    {
     "name": "stdout",
     "output_type": "stream",
     "text": [
      "2022-04-25 17:59:46 INFO 0: Flow 1499 initiated and added to q1: fac57bb5-cc54-421e-9212-eeb8f942c820\n"
     ]
    },
    {
     "name": "stderr",
     "output_type": "stream",
     "text": [
      "INFO:apwf:0: Flow 1499 initiated and added to q1: fac57bb5-cc54-421e-9212-eeb8f942c820\n"
     ]
    },
    {
     "name": "stdout",
     "output_type": "stream",
     "text": [
      "2022-04-28 07:51:45 INFO 0: Flow 1500 initiated and added to q1: 643180df-12a0-40e0-80a0-f33560862064\n"
     ]
    },
    {
     "name": "stderr",
     "output_type": "stream",
     "text": [
      "INFO:apwf:0: Flow 1500 initiated and added to q1: 643180df-12a0-40e0-80a0-f33560862064\n"
     ]
    },
    {
     "name": "stdout",
     "output_type": "stream",
     "text": [
      "2022-04-28 07:51:56 INFO 0: Flow 1501 initiated and added to q1: 3ffdea3f-9d33-408d-a938-1c330f6956d9\n"
     ]
    },
    {
     "name": "stderr",
     "output_type": "stream",
     "text": [
      "INFO:apwf:0: Flow 1501 initiated and added to q1: 3ffdea3f-9d33-408d-a938-1c330f6956d9\n"
     ]
    },
    {
     "name": "stdout",
     "output_type": "stream",
     "text": [
      "2022-04-28 07:52:06 INFO 0: Flow 1502 initiated and added to q1: 85b05aec-a952-4e39-8c0b-ba63e1d73737\n"
     ]
    },
    {
     "name": "stderr",
     "output_type": "stream",
     "text": [
      "INFO:apwf:0: Flow 1502 initiated and added to q1: 85b05aec-a952-4e39-8c0b-ba63e1d73737\n"
     ]
    },
    {
     "name": "stdout",
     "output_type": "stream",
     "text": [
      "2022-04-28 07:52:17 INFO 0: Flow 1503 initiated and added to q1: 91a152ff-78fd-4b4e-9ea1-287364a4f27c\n"
     ]
    },
    {
     "name": "stderr",
     "output_type": "stream",
     "text": [
      "INFO:apwf:0: Flow 1503 initiated and added to q1: 91a152ff-78fd-4b4e-9ea1-287364a4f27c\n"
     ]
    },
    {
     "name": "stdout",
     "output_type": "stream",
     "text": [
      "2022-04-28 07:52:27 INFO 0: Flow 1504 initiated and added to q1: f0cb74fe-0593-437e-99a7-7376f9c653d1\n"
     ]
    },
    {
     "name": "stderr",
     "output_type": "stream",
     "text": [
      "INFO:apwf:0: Flow 1504 initiated and added to q1: f0cb74fe-0593-437e-99a7-7376f9c653d1\n"
     ]
    }
   ],
   "source": [
    "src_config = wf_config['flow']['source']\n",
    "dest_config = wf_config['flow']['destination']\n",
    "task_config = wf_config['flow']['task']\n",
    "exec_params_config = task_config['executable']['params']\n",
    "\n",
    "wfc = executor_helper.EConfigs(src_config, dest_config, wf_config['flow']['only_larger_than_scanid'])\n",
    "\n",
    "while True:\n",
    "    # Get the remote folders at source input folder\n",
    "    src_input_folder_paths_regex = f\"{wfc.src_wf_root_path}/{wfc.src_input_folder_prefix}/*\"\n",
    "    rid = fxc.run(src_input_folder_paths_regex,\n",
    "                  endpoint_id=daq_fx_endpoint,\n",
    "                  function_id=fx_func_get_folder_paths_uuid)\n",
    "    src_input_folder_paths = automate_helper.fx_get_result(rid, fxc, delay=wf_config['funcx_req_delay'])\n",
    "\n",
    "    # Get the remote folders at source output folder\n",
    "    src_output_folder_paths_regex = f\"{wfc.src_wf_root_path}/{wfc.src_output_folder_prefix}/*\"\n",
    "    rid = fxc.run(src_output_folder_paths_regex,\n",
    "                  endpoint_id=daq_fx_endpoint,\n",
    "                  function_id=fx_func_get_folder_paths_uuid)\n",
    "    ex_src_output_folder_paths = automate_helper.fx_get_result(rid, fxc, delay=wf_config['funcx_req_delay'])\n",
    "\n",
    "    # Get the activated iids and find the iids that need to be processed\n",
    "    activated_iids = executor_helper.read_activated_iids(wf_config['executor']['activated_iids_file_path'])\n",
    "    diff_iids = executor_helper.get_unprocessed_iids(activated_iids, src_input_folder_paths, ex_src_output_folder_paths, wfc.add_larger_than)\n",
    "    \n",
    "    # If there is no iid/scan to be processed sleep, and then re-check \n",
    "    if(len(diff_iids)==0):\n",
    "        apwfLogger.debug(f\"There is no folder to be processed, \"\n",
    "                      f\"sleeping {wf_config['data_generation_delay']} secs.\")\n",
    "        time.sleep(wf_config['data_generation_delay'])\n",
    "        continue\n",
    "    \n",
    "    # There are scans to be processed, generate paths\n",
    "    paths = executor_helper.WFPaths(wfc, src_input_folder_paths, diff_iids).plist\n",
    "     \n",
    "    # Generate flow inputs according to the paths and other configuration info.\n",
    "    flow_inputs = executor_helper.WFFlowsInputs(src_endpoint, dest_endpoint, compute_fx_endpoint, \n",
    "                                            func_ptycho_uuid, task_config, exec_params_config, \n",
    "                                            wf_config['flow']['sample_name'], paths).filist\n",
    "\n",
    "    ### Initiate/dispatch Flows ###\n",
    "    q1 = deque()\n",
    "    for i in range(len(flow_inputs)):\n",
    "        label = str(flow_inputs[i]['iid']) + '-' + \"-\".join(wf_config['flow']['keywords'])\n",
    "        flow_action = flows_client.run_flow(flow_id, flow_scope, flow_inputs[i], label=label)\n",
    "        q1.append(flow_action)\n",
    "        executor_helper.append_activated_iids([flow_inputs[i]['iid']], wf_config['executor']['activated_iids_file_path'])\n",
    "        apwfLogger.info(f\"{i}: Flow {flow_inputs[i]['iid']} initiated and added to q1: {flow_action['action_id']}\")"
   ]
  },
  {
   "cell_type": "code",
   "execution_count": null,
   "metadata": {},
   "outputs": [],
   "source": []
  },
  {
   "cell_type": "code",
   "execution_count": null,
   "metadata": {},
   "outputs": [],
   "source": [
    "# Cancel all flows\n",
    "for flow_action in q1:\n",
    "    flows_client.flow_action_cancel(flow_id, flow_scope, flow_action['action_id'])"
   ]
  },
  {
   "cell_type": "code",
   "execution_count": null,
   "metadata": {},
   "outputs": [],
   "source": []
  }
 ],
 "metadata": {
  "kernelspec": {
   "display_name": "Python 3 (ipykernel)",
   "language": "python",
   "name": "python3"
  },
  "language_info": {
   "codemirror_mode": {
    "name": "ipython",
    "version": 3
   },
   "file_extension": ".py",
   "mimetype": "text/x-python",
   "name": "python",
   "nbconvert_exporter": "python",
   "pygments_lexer": "ipython3",
   "version": "3.9.6"
  }
 },
 "nbformat": 4,
 "nbformat_minor": 4
}
