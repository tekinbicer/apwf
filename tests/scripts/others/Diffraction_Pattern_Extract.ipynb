{
 "cells": [
  {
   "cell_type": "code",
   "execution_count": null,
   "metadata": {},
   "outputs": [],
   "source": [
    "import h5py as h5\n",
    "import matplotlib.pyplot as plt\n",
    "from skimage import ioimport h5py as h5"
   ]
  },
  {
   "cell_type": "code",
   "execution_count": null,
   "metadata": {},
   "outputs": [],
   "source": [
    "file_path = '/data2/ptycho/aps-alcf-clips/fly1250/fly1250_master.h5'\n",
    "data_path = 'entry/data/data_000001'"
   ]
  },
  {
   "cell_type": "code",
   "execution_count": null,
   "metadata": {},
   "outputs": [],
   "source": [
    "original_measurement_h5 = h5.File(file_path, 'r')\n",
    "dset = original_measurement_h5[data_path]"
   ]
  },
  {
   "cell_type": "code",
   "execution_count": null,
   "metadata": {},
   "outputs": [],
   "source": [
    "xc = int(original_measurement_h5['/entry/instrument/detector/beam_center_x'][()])\n",
    "yc = int(original_measurement_h5['/entry/instrument/detector/beam_center_y'][()])\n",
    "dimg = dset[:2970, yc-128:yc+128, xc-128:xc+128] # diffraction patterns are only valid betwenn 0:2970 "
   ]
  },
  {
   "cell_type": "code",
   "execution_count": null,
   "metadata": {},
   "outputs": [],
   "source": [
    "plt.imshow(dimg[0,:,:], vmin=0, vmax=256)dset.shape"
   ]
  },
  {
   "cell_type": "code",
   "execution_count": null,
   "metadata": {},
   "outputs": [],
   "source": [
    "io.imsave(\"./diff_sample.tiff\",dimg)dims = dset[2400,:,:]"
   ]
  },
  {
   "cell_type": "code",
   "execution_count": null,
   "metadata": {},
   "outputs": [],
   "source": []
  }
 ],
 "metadata": {
  "interpreter": {
   "hash": "7efeec6673c774a2a626f2eb672a580f4df8c4e9a2106edeabd014e144a74aed"
  },
  "kernelspec": {
   "display_name": "Python 3.9.6 ('workflow')",
   "language": "python",
   "name": "python3"
  },
  "language_info": {
   "codemirror_mode": {
    "name": "ipython",
    "version": 3
   },
   "file_extension": ".py",
   "mimetype": "text/x-python",
   "name": "python",
   "nbconvert_exporter": "python",
   "pygments_lexer": "ipython3",
   "version": "3.9.6"
  },
  "orig_nbformat": 4
 },
 "nbformat": 4,
 "nbformat_minor": 2
}
