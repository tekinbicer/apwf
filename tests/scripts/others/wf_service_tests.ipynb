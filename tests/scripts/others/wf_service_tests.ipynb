{
 "cells": [
  {
   "cell_type": "code",
   "execution_count": 10,
   "metadata": {},
   "outputs": [],
   "source": [
    "# coding: utf-8\n",
    "from funcx.sdk.client import FuncXClient\n",
    "import sys\n",
    "import time\n",
    "import yaml"
   ]
  },
  {
   "cell_type": "code",
   "execution_count": 11,
   "metadata": {},
   "outputs": [],
   "source": [
    "fxc = FuncXClient()\n",
    "fxc.version_check()"
   ]
  },
  {
   "cell_type": "code",
   "execution_count": 18,
   "metadata": {},
   "outputs": [
    {
     "name": "stdout",
     "output_type": "stream",
     "text": [
      "{'funcx_endpoints': {'daq_fx_ep': '190dfdbd-4d4f-40fa-a0b1-63237042f989', 'compute_fx_ep': 'ef62df54-6d3c-43ff-8f84-c334f3ab3000'}}\n"
     ]
    }
   ],
   "source": [
    "config = yaml.safe_load(open(\"../pwf/config.yml\"))\n",
    "print(config)"
   ]
  },
  {
   "cell_type": "code",
   "execution_count": 19,
   "metadata": {},
   "outputs": [],
   "source": [
    "aps_alcf_endpoints = config['funcx_endpoints']"
   ]
  },
  {
   "cell_type": "markdown",
   "metadata": {},
   "source": [
    "### Receive the endpoints' status information.\n",
    "\n",
    "We can retrieve the endpoint status information using `fxc.get_endpoint()` function. Given the end-point uuid, it returns `logs` and `status` information. `logs` holds the last 30-secs-time-seperated 11 status information (last 5.5 mins) of the endpoint.\n",
    "\n",
    "`ef_info = fxc.get_endpoint_status(aps_alcf_endpoints['daq_fx_ep'])`\n",
    "\n",
    "`ef_info['status] # If endpoint is online, then this value is set to online.`\n",
    "\n",
    "`ef_info['logs'][0]['info'] # Check the status of the endpoint within last 30.`"
   ]
  },
  {
   "cell_type": "code",
   "execution_count": 20,
   "metadata": {},
   "outputs": [
    {
     "name": "stdout",
     "output_type": "stream",
     "text": [
      "All endpoints are online.\n"
     ]
    }
   ],
   "source": [
    "for ep_key in aps_alcf_endpoints:\n",
    "    ep_uuid = aps_alcf_endpoints[ep_key]\n",
    "    ep_info = fxc.get_endpoint_status(ep_uuid)\n",
    "    if ep_info['status'] != 'online':\n",
    "        raise RuntimeError(f\"The endpoint is not online. Endpoint name:{ep_key}; Status:{ep_info['status']}.\")\n",
    "print(f\"All endpoints are online.\")"
   ]
  },
  {
   "cell_type": "markdown",
   "metadata": {},
   "source": [
    "### Check if resources can be allocated.\n",
    "\n",
    "We try to register and run some funcX functions, `pi` and `hworld`, to test the resources allocation. This can take some time to finish since the jobs need to be submitted and resources need to be allocated before the functions start executing.\n",
    "\n",
    "`pi(num_points)` # calculates the pi according to the given precision. 10**8 is a reasonable input to run.\n",
    "\n",
    "`hworld()` # returns hostname with \"hello world\" string."
   ]
  },
  {
   "cell_type": "code",
   "execution_count": 5,
   "metadata": {},
   "outputs": [],
   "source": [
    "def pi(num_points=10**8):\n",
    "    from random import random\n",
    "\n",
    "    inside = 0\n",
    "    for i in range(num_points):\n",
    "        x, y = random(), random()  # Drop a random point in the box.\n",
    "        if x**2 + y**2 < 1:        # Count points within the circle.\n",
    "            inside += 1\n",
    "    return (inside*4 / num_points)\n",
    "\n",
    "def hworld():\n",
    "    import socket\n",
    "\n",
    "    hello_host= f\"{socket.gethostname()}: hello world\"\n",
    "    return hello_host\n",
    "\n",
    "test_funcs_desc_uuid = str(uuid.uuid4()) # random uuid for test functions\n",
    "test_funcs = {\n",
    "    'pi' : fxc.register_function(pi, description=f\"Test function to calculate pi. UUID={test_funcs_desc_uuid}\"),\n",
    "    'hworld' : fxc.register_function(hworld, description=f\"Test function to get hostname of the worker. UUID={test_funcs_desc_uuid}\")\n",
    "}"
   ]
  },
  {
   "cell_type": "code",
   "execution_count": 7,
   "metadata": {},
   "outputs": [
    {
     "name": "stdout",
     "output_type": "stream",
     "text": [
      "All test functions are registered successfully.\n"
     ]
    }
   ],
   "source": [
    "search_results = fxc.search_function(f\"{test_funcs_desc_uuid}\", offset=0, limit=5)\n",
    "if len(search_results) != 2: \n",
    "    raise RuntimeError(f\"There should be exactly two functions. The number of registered functions is: {len(search_results)}\")\n",
    "for res in search_results:\n",
    "    if test_funcs[res['function_name']] != res['function_uuid']:\n",
    "        raise RuntimeError(f\"Function uuid did not match for {res['function_name']}!\") \n",
    "print(\"All test functions are registered successfully.\")"
   ]
  },
  {
   "cell_type": "code",
   "execution_count": 8,
   "metadata": {},
   "outputs": [],
   "source": [
    "test_func_batch = fxc.create_batch()\n",
    "\n",
    "for ep_key in aps_alcf_endpoints:\n",
    "    ep_uuid = aps_alcf_endpoints[ep_key]\n",
    "    for fx_test_key in test_funcs:\n",
    "        fx_test_uuid = test_funcs[fx_test_key]\n",
    "        test_func_batch.add(endpoint_id=ep_uuid, function_id=fx_test_uuid)\n",
    "\n",
    "# Initiate test functions' batch run and receive task ids\n",
    "batch_task_ids = fxc.batch_run(test_func_batch)\n",
    "\n",
    "batch_task_status = fxc.get_batch_result(batch_task_ids)"
   ]
  },
  {
   "cell_type": "code",
   "execution_count": 9,
   "metadata": {},
   "outputs": [
    {
     "name": "stdout",
     "output_type": "stream",
     "text": [
      "Tasks are still running: ['c7e83867-c0ab-4a67-b8bf-c7da9b17a760', 'fa92ee32-7473-4eb7-8b20-cfac6d7d12b4', '6b88e6d2-c9b9-448a-a0f6-68838df28731']\n",
      "Tasks are still running: ['c7e83867-c0ab-4a67-b8bf-c7da9b17a760', 'fa92ee32-7473-4eb7-8b20-cfac6d7d12b4', '6b88e6d2-c9b9-448a-a0f6-68838df28731']\n",
      "Tasks are still running: ['c7e83867-c0ab-4a67-b8bf-c7da9b17a760', 'fa92ee32-7473-4eb7-8b20-cfac6d7d12b4', '6b88e6d2-c9b9-448a-a0f6-68838df28731']\n",
      "Tasks are still running: ['c7e83867-c0ab-4a67-b8bf-c7da9b17a760', 'fa92ee32-7473-4eb7-8b20-cfac6d7d12b4', '6b88e6d2-c9b9-448a-a0f6-68838df28731']\n",
      "Tasks are still running: ['c7e83867-c0ab-4a67-b8bf-c7da9b17a760', 'fa92ee32-7473-4eb7-8b20-cfac6d7d12b4']\n",
      "Tasks are still running: ['c7e83867-c0ab-4a67-b8bf-c7da9b17a760', 'fa92ee32-7473-4eb7-8b20-cfac6d7d12b4']\n",
      "Tasks are still running: ['c7e83867-c0ab-4a67-b8bf-c7da9b17a760', 'fa92ee32-7473-4eb7-8b20-cfac6d7d12b4']\n",
      "Tasks are still running: ['c7e83867-c0ab-4a67-b8bf-c7da9b17a760', 'fa92ee32-7473-4eb7-8b20-cfac6d7d12b4']\n",
      "Tasks are still running: ['c7e83867-c0ab-4a67-b8bf-c7da9b17a760', 'fa92ee32-7473-4eb7-8b20-cfac6d7d12b4']\n",
      "Tasks are still running: ['c7e83867-c0ab-4a67-b8bf-c7da9b17a760', 'fa92ee32-7473-4eb7-8b20-cfac6d7d12b4']\n",
      "Tasks are still running: ['c7e83867-c0ab-4a67-b8bf-c7da9b17a760', 'fa92ee32-7473-4eb7-8b20-cfac6d7d12b4']\n",
      "Tasks are still running: ['c7e83867-c0ab-4a67-b8bf-c7da9b17a760', 'fa92ee32-7473-4eb7-8b20-cfac6d7d12b4']\n",
      "Tasks are still running: ['fa92ee32-7473-4eb7-8b20-cfac6d7d12b4']\n",
      "Tasks are still running: ['fa92ee32-7473-4eb7-8b20-cfac6d7d12b4']\n",
      "Tasks are still running: ['fa92ee32-7473-4eb7-8b20-cfac6d7d12b4']\n",
      "All tasks are completed successfully.\n"
     ]
    }
   ],
   "source": [
    "# Get the initial status of the tasks\n",
    "while True: \n",
    "    batch_task_status = fxc.get_batch_result(batch_task_ids)\n",
    "    running_tasks = [ s for s in batch_task_status if batch_task_status[s]['status'] != 'success']\n",
    "    if running_tasks: print(f\"Tasks are still running: {running_tasks}\")\n",
    "    else: \n",
    "        #for task_id in batch_task_status: print(f\"task id: {task_id}; result: {batch_task_status[task_id]['result']}\")\n",
    "        break\n",
    "    time.sleep(2)  # Sleep 2 seconds\n",
    "print(\"All tasks are completed successfully.\")\n"
   ]
  },
  {
   "cell_type": "code",
   "execution_count": null,
   "metadata": {},
   "outputs": [],
   "source": []
  }
 ],
 "metadata": {
  "interpreter": {
   "hash": "7efeec6673c774a2a626f2eb672a580f4df8c4e9a2106edeabd014e144a74aed"
  },
  "kernelspec": {
   "display_name": "Python 3.9.6 64-bit ('workflow': conda)",
   "language": "python",
   "name": "python3"
  },
  "language_info": {
   "codemirror_mode": {
    "name": "ipython",
    "version": 3
   },
   "file_extension": ".py",
   "mimetype": "text/x-python",
   "name": "python",
   "nbconvert_exporter": "python",
   "pygments_lexer": "ipython3",
   "version": "3.9.6"
  },
  "orig_nbformat": 4
 },
 "nbformat": 4,
 "nbformat_minor": 2
}
