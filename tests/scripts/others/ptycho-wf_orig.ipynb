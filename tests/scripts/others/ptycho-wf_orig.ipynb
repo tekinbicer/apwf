{
 "cells": [
  {
   "cell_type": "markdown",
   "metadata": {},
   "source": [
    "# Analysis Flow\n",
    "\n",
    "This notebook demonstrates how an Automate Flow can be used to perform analysis. \n",
    "We use a flow that combines Globus Transfer and funcX to move data and then execute an analysis code on the data."
   ]
  },
  {
   "cell_type": "code",
   "execution_count": 1,
   "metadata": {},
   "outputs": [],
   "source": [
    "from globus_automate_client import (create_flows_client, graphviz_format, state_colors_for_log,\n",
    "                                    create_action_client, \n",
    "                                    create_flows_client)\n",
    "\n",
    "import time\n",
    "import json\n",
    "import sys\n",
    "import os\n",
    "\n",
    "from funcx.sdk.client import FuncXClient\n",
    "\n",
    "CLIENT_ID = \"e6c75d97-532a-4c88-b031-8584a319fa3e\""
   ]
  },
  {
   "cell_type": "markdown",
   "metadata": {},
   "source": [
    "## Create an analysis function\n",
    "\n",
    "Use funcX to register a simple analysis function."
   ]
  },
  {
   "cell_type": "code",
   "execution_count": 2,
   "metadata": {},
   "outputs": [],
   "source": [
    "fxc = FuncXClient()"
   ]
  },
  {
   "cell_type": "code",
   "execution_count": 58,
   "metadata": {},
   "outputs": [
    {
     "name": "stdout",
     "output_type": "stream",
     "text": [
      "f373ae25-5beb-418c-baa1-abbd8acbe706\n"
     ]
    }
   ],
   "source": [
    "def ptycho(data):\n",
    "    \"\"\"Test the ptycho tool\"\"\"\n",
    "    import os\n",
    "    import subprocess\n",
    "    from subprocess import PIPE\n",
    "\n",
    "    os.chdir('/lus/theta-fs0/projects/ExaLearn/rchard/test_ptycho')\n",
    "    python_path = \"/home/rchard/.anaconda3/envs/ptycho/bin/python\"\n",
    "    \n",
    "    \n",
    "    output_dir = data.get(\"output_dir\", \"/lus/theta-fs0/projects/ExaLearn/rchard/test_ptycho/output/recons/01/\")\n",
    "    pathname = data.get(\"pathname\", \"/lus/theta-fs0/projects/ExaLearn/rchard/test_ptycho/extracted_scan350.h5\")\n",
    "    try:\n",
    "        os.mkdir(output_dir)\n",
    "    except:\n",
    "        pass\n",
    "    \n",
    "    cmd = f\"{python_path} mpi_tike-recon.py catalyst cgrad 8 --update-positions --input='{pathname}' --folder='{output_dir}'\"\n",
    "\n",
    "    try:\n",
    "        res = subprocess.run(cmd, stdout=PIPE, stderr=PIPE,\n",
    "                             shell=True, executable='/bin/bash')\n",
    "    except:\n",
    "        pass\n",
    "    return str(res.stdout)\n",
    "    \n",
    "func_uuid = fxc.register_function(ptycho)\n",
    "print(func_uuid)"
   ]
  },
  {
   "cell_type": "code",
   "execution_count": 53,
   "metadata": {},
   "outputs": [
    {
     "name": "stdout",
     "output_type": "stream",
     "text": [
      "301e4a2d-eb7a-47c3-a79f-71062c464165\n"
     ]
    }
   ],
   "source": [
    "payload = {'pathname': '/lus/theta-fs0/projects/ExaLearn/rchard/test_ptycho/extracted_scan350.h5',\n",
    "           'output_dir': '/lus/theta-fs0/projects/ExaLearn/rchard/test_ptycho/output/recons/06/'}\n",
    "tutorial_endpoint = '2eb0d751-46f4-4547-be1a-5d7150084623' # Public tutorial endpoint\n",
    "res = fxc.run(payload, endpoint_id=tutorial_endpoint, function_id=func_uuid)\n",
    "print(res)"
   ]
  },
  {
   "cell_type": "code",
   "execution_count": 55,
   "metadata": {},
   "outputs": [
    {
     "data": {
      "text/plain": [
       "\"/home/rchard/.anaconda3/envs/ptycho/bin/python mpi_tike-recon.py catalyst cgrad 8 --update-positions --input='/lus/theta-fs0/projects/ExaLearn/rchard/test_ptycho/extracted_scan350.h5' --folder='/lus/theta-fs0/projects/ExaLearn/rchard/test_ptycho/output/recons/06/'\""
      ]
     },
     "execution_count": 55,
     "metadata": {},
     "output_type": "execute_result"
    }
   ],
   "source": [
    "fxc.get_result(res)"
   ]
  },
  {
   "cell_type": "markdown",
   "metadata": {},
   "source": [
    "## Create the flow"
   ]
  },
  {
   "cell_type": "code",
   "execution_count": 56,
   "metadata": {},
   "outputs": [],
   "source": [
    "flow_definition = {\n",
    "  \"Comment\": \"An analysis flow\",\n",
    "  \"StartAt\": \"Transfer\",\n",
    "  \"States\": {\n",
    "    \"Transfer\": {\n",
    "      \"Comment\": \"Initial transfer\",\n",
    "      \"Type\": \"Action\",\n",
    "      \"ActionUrl\": \"https://actions.automate.globus.org/transfer/transfer\",\n",
    "      \"ActionScope\": \"https://auth.globus.org/scopes/actions.globus.org/transfer/transfer\",\n",
    "      \"Parameters\": {\n",
    "        \"source_endpoint_id.$\": \"$.input.source_endpoint\", \n",
    "        \"destination_endpoint_id.$\": \"$.input.dest_endpoint\",\n",
    "        \"transfer_items\": [\n",
    "          {\n",
    "            \"source_path.$\": \"$.input.source_path\",\n",
    "            \"destination_path.$\": \"$.input.dest_path\",\n",
    "            \"recursive\": False\n",
    "          }\n",
    "        ]\n",
    "      },\n",
    "      \"ResultPath\": \"$.Transfer1Result\",\n",
    "      \"WaitTime\": 600,\n",
    "      \"Next\": \"Analyze\"\n",
    "    },\n",
    "    \"Analyze\": {\n",
    "      \"Comment\": \"Run a funcX function\",\n",
    "      \"Type\": \"Action\",\n",
    "      \"ActionUrl\": \"https://api.funcx.org/automate\",\n",
    "      \"ActionScope\": \"https://auth.globus.org/scopes/facd7ccc-c5f4-42aa-916b-a0e270e2c2a9/automate2\",\n",
    "      \"Parameters\": {\n",
    "          \"tasks\": [{\n",
    "            \"endpoint.$\": \"$.input.fx_ep\",\n",
    "            \"func.$\": \"$.input.fx_id\",\n",
    "            \"payload.$\": \"$.input\"\n",
    "        }]\n",
    "      },\n",
    "      \"ResultPath\": \"$.AnalyzeResult\",\n",
    "      \"WaitTime\": 1800,\n",
    "      \"Next\": \"Transfer2\"\n",
    "    },\n",
    "    \"Transfer2\": {\n",
    "      \"Comment\": \"Return transfer\",\n",
    "      \"Type\": \"Action\",\n",
    "      \"ActionUrl\": \"https://actions.automate.globus.org/transfer/transfer\",\n",
    "      \"ActionScope\": \"https://auth.globus.org/scopes/actions.globus.org/transfer/transfer\",\n",
    "      \"Parameters\": {\n",
    "        \"source_endpoint_id.$\": \"$.input.dest_endpoint\", \n",
    "        \"destination_endpoint_id.$\": \"$.input.source_endpoint\",\n",
    "        \"transfer_items\": [\n",
    "          {\n",
    "            \"source_path.$\": \"$.input.dest_path\",\n",
    "            \"destination_path.$\": \"$.input.result_path\",\n",
    "            \"recursive\": False\n",
    "          }\n",
    "        ]\n",
    "      },\n",
    "      \"ResultPath\": \"$.Transfer2Result\",\n",
    "      \"WaitTime\": 600,\n",
    "      \"End\": True\n",
    "    },\n",
    "  }\n",
    "}\n"
   ]
  },
  {
   "cell_type": "markdown",
   "metadata": {},
   "source": [
    "Register the flow"
   ]
  },
  {
   "cell_type": "code",
   "execution_count": 57,
   "metadata": {
    "scrolled": true
   },
   "outputs": [
    {
     "name": "stdout",
     "output_type": "stream",
     "text": [
      "GlobusHTTPResponse({'action_url': 'https://flows.globus.org/flows/c929c6da-8882-4f42-b71d-f39a9dac7caf', 'administered_by': [], 'api_version': '1.0', 'definition': {'Comment': 'An analysis flow', 'StartAt': 'Transfer', 'States': {'Analyze': {'ActionScope': 'https://auth.globus.org/scopes/facd7ccc-c5f4-42aa-916b-a0e270e2c2a9/automate2', 'ActionUrl': 'https://api.funcx.org/automate', 'Comment': 'Run a funcX function', 'Next': 'Transfer2', 'Parameters': {'tasks': [{'endpoint.$': '$.input.fx_ep', 'func.$': '$.input.fx_id', 'payload.$': '$.input'}]}, 'ResultPath': '$.AnalyzeResult', 'Type': 'Action', 'WaitTime': 1800}, 'Transfer': {'ActionScope': 'https://auth.globus.org/scopes/actions.globus.org/transfer/transfer', 'ActionUrl': 'https://actions.automate.globus.org/transfer/transfer', 'Comment': 'Initial transfer', 'Next': 'Analyze', 'Parameters': {'destination_endpoint_id.$': '$.input.dest_endpoint', 'source_endpoint_id.$': '$.input.source_endpoint', 'transfer_items': [{'destination_path.$': '$.input.dest_path', 'recursive': False, 'source_path.$': '$.input.source_path'}]}, 'ResultPath': '$.Transfer1Result', 'Type': 'Action', 'WaitTime': 600}, 'Transfer2': {'ActionScope': 'https://auth.globus.org/scopes/actions.globus.org/transfer/transfer', 'ActionUrl': 'https://actions.automate.globus.org/transfer/transfer', 'Comment': 'Return transfer', 'End': True, 'Parameters': {'destination_endpoint_id.$': '$.input.source_endpoint', 'source_endpoint_id.$': '$.input.dest_endpoint', 'transfer_items': [{'destination_path.$': '$.input.result_path', 'recursive': False, 'source_path.$': '$.input.dest_path'}]}, 'ResultPath': '$.Transfer2Result', 'Type': 'Action', 'WaitTime': 600}}}, 'description': '', 'globus_auth_scope': 'https://auth.globus.org/scopes/c929c6da-8882-4f42-b71d-f39a9dac7caf/flow_c929c6da_8882_4f42_b71d_f39a9dac7caf_user', 'globus_auth_username': 'c929c6da-8882-4f42-b71d-f39a9dac7caf@clients.auth.globus.org', 'id': 'c929c6da-8882-4f42-b71d-f39a9dac7caf', 'keywords': [], 'log_supported': True, 'principal_urn': 'urn:globus:auth:identity:c929c6da-8882-4f42-b71d-f39a9dac7caf', 'runnable_by': [], 'subtitle': '', 'synchronous': False, 'title': 'Stills process workflow', 'types': ['Action'], 'visible_to': []})\n",
      "Newly created flow with id:\n",
      "c929c6da-8882-4f42-b71d-f39a9dac7caf\n",
      "and scope:\n",
      "https://auth.globus.org/scopes/c929c6da-8882-4f42-b71d-f39a9dac7caf/flow_c929c6da_8882_4f42_b71d_f39a9dac7caf_user\n"
     ]
    }
   ],
   "source": [
    "flows_client = create_flows_client(CLIENT_ID)\n",
    "flow = flows_client.deploy_flow(flow_definition, title=\"Stills process workflow\")\n",
    "flow_id = flow['id']\n",
    "print(flow)\n",
    "flow_scope = flow['globus_auth_scope']\n",
    "print(f'Newly created flow with id:\\n{flow_id}\\nand scope:\\n{flow_scope}')"
   ]
  },
  {
   "cell_type": "code",
   "execution_count": 59,
   "metadata": {},
   "outputs": [],
   "source": [
    "src_ep = 'ddb59aef-6d04-11e5-ba46-22000b92c6ec' # EP1\n",
    "dest_ep = 'ddb59af0-6d04-11e5-ba46-22000b92c6ec' # EP2\n",
    "filename = 'test.txt'\n",
    "\n",
    "flow_input = {\n",
    "    \"input\": {\n",
    "        \"source_endpoint\": src_ep,\n",
    "        \"source_path\": f\"/~/{filename}\",\n",
    "        \"dest_endpoint\": dest_ep,\n",
    "        \"dest_path\": f\"/~/{filename}\",\n",
    "        \"result_path\": f\"/~/out_{filename}\",\n",
    "        \"fx_id\": func_uuid,\n",
    "        \"fx_ep\": tutorial_endpoint,\n",
    "        'pathname': '/lus/theta-fs0/projects/ExaLearn/rchard/test_ptycho/extracted_scan350.h5',\n",
    "        'output_dir': '/lus/theta-fs0/projects/ExaLearn/rchard/test_ptycho/output/recons/06/'\n",
    "    }\n",
    "}"
   ]
  },
  {
   "cell_type": "markdown",
   "metadata": {},
   "source": [
    "Run the flow and wait for it to complete\n",
    "\n",
    "Note: This will try to transfer a file called \"test.txt\" from your Globus Tutorial Endpoint 1."
   ]
  },
  {
   "cell_type": "code",
   "execution_count": 60,
   "metadata": {},
   "outputs": [
    {
     "name": "stdout",
     "output_type": "stream",
     "text": [
      "Starting login with Globus Auth, press ^C to cancel.\n",
      "GlobusHTTPResponse({'action_id': '03d8d694-dc87-458d-8ba2-73980be567cf', 'completion_time': 'None', 'created_by': 'urn:globus:auth:identity:c4765424-d274-11e5-b894-cb4139f74ecf', 'details': {'code': 'ActionStarted', 'description': 'State Transfer of type Action started', 'details': {'input': {'destination_endpoint_id': 'ddb59af0-6d04-11e5-ba46-22000b92c6ec', 'source_endpoint_id': 'ddb59aef-6d04-11e5-ba46-22000b92c6ec', 'transfer_items': [{'destination_path': '/~/test.txt', 'recursive': False, 'source_path': '/~/test.txt'}]}, 'state_name': 'Transfer', 'state_type': 'Action'}, 'time': '2021-01-29T18:23:06.945000+00:00'}, 'start_time': '2021-01-29T18:23:06.908000+00:00', 'status': 'ACTIVE'})\n",
      "Flow action started with id: 03d8d694-dc87-458d-8ba2-73980be567cf\n",
      "Flow status: ACTIVE\n",
      "Flow status: ACTIVE\n",
      "Flow status: ACTIVE\n",
      "Flow status: ACTIVE\n",
      "Flow status: SUCCEEDED\n"
     ]
    }
   ],
   "source": [
    "flow_action = flows_client.run_flow(flow_id, flow_scope, flow_input)\n",
    "print(flow_action)\n",
    "flow_action_id = flow_action['action_id']\n",
    "flow_status = flow_action['status']\n",
    "print(f'Flow action started with id: {flow_action_id}')\n",
    "while flow_status == 'ACTIVE':\n",
    "    time.sleep(10)\n",
    "    flow_action = flows_client.flow_action_status(flow_id, flow_scope, flow_action_id)\n",
    "    flow_status = flow_action['status']\n",
    "    print(f'Flow status: {flow_status}')"
   ]
  },
  {
   "cell_type": "markdown",
   "metadata": {},
   "source": [
    "Check the result of the analysis function"
   ]
  },
  {
   "cell_type": "code",
   "execution_count": 61,
   "metadata": {},
   "outputs": [
    {
     "data": {
      "text/plain": [
       "{'action_id': '063df6ab-a369-47d6-a668-4b5b37b6de92',\n",
       " 'details': {'completion_t': '1611944624.2015426',\n",
       "  'exception': None,\n",
       "  'result': \"b'[1611944620.646435] [thetagpu13:49012:0]    ucp_context.c:1028 UCX  ERROR exceeded transports/devices limit (70 requested, up to 64 are supported)\\\\n'\",\n",
       "  'status': 'SUCCEEDED',\n",
       "  'task_id': '063df6ab-a369-47d6-a668-4b5b37b6de92'},\n",
       " 'release_after': 'P30D',\n",
       " 'state_name': 'Analyze',\n",
       " 'status': 'SUCCEEDED'}"
      ]
     },
     "execution_count": 61,
     "metadata": {},
     "output_type": "execute_result"
    }
   ],
   "source": [
    "flow_action['details']['output']['AnalyzeResult']"
   ]
  },
  {
   "cell_type": "code",
   "execution_count": null,
   "metadata": {},
   "outputs": [],
   "source": []
  }
 ],
 "metadata": {
  "kernelspec": {
   "display_name": "Python 3",
   "language": "python",
   "name": "python3"
  },
  "language_info": {
   "codemirror_mode": {
    "name": "ipython",
    "version": 3
   },
   "file_extension": ".py",
   "mimetype": "text/x-python",
   "name": "python",
   "nbconvert_exporter": "python",
   "pygments_lexer": "ipython3",
   "version": "3.8.5"
  }
 },
 "nbformat": 4,
 "nbformat_minor": 4
}
