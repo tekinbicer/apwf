{
 "cells": [
  {
   "cell_type": "markdown",
   "metadata": {},
   "source": [
    "# Automate and funcX"
   ]
  },
  {
   "cell_type": "code",
   "execution_count": 3,
   "metadata": {},
   "outputs": [],
   "source": [
    "from globus_automate_client import (create_flows_client, graphviz_format, state_colors_for_log,\n",
    "                                    #get_access_token_for_scope, \n",
    "                                    create_action_client, create_flows_client)\n",
    "from IPython.display import display, display_svg, clear_output\n",
    "#from ipywidgets import widgets\n",
    "import time\n",
    "import json\n",
    "import sys\n",
    "import os\n",
    "\n",
    "from funcx.sdk.client import FuncXClient\n",
    "\n",
    "\n",
    "sys.path.append(\".\")\n",
    "os.environ['JUPYTER_PATH'] = '.'\n",
    "CLIENT_ID = \"e6c75d97-532a-4c88-b031-8584a319fa3e\""
   ]
  },
  {
   "cell_type": "markdown",
   "metadata": {},
   "source": [
    "## funcX\n",
    "\n",
    "This is an example of using funcX. This defines a simple hello-world function, registers it with funcX, then calls it.\n"
   ]
  },
  {
   "cell_type": "code",
   "execution_count": 4,
   "metadata": {},
   "outputs": [],
   "source": [
    "fxc = FuncXClient()"
   ]
  },
  {
   "cell_type": "code",
   "execution_count": 5,
   "metadata": {},
   "outputs": [
    {
     "name": "stdout",
     "output_type": "stream",
     "text": [
      "2de2a152-3a71-4b5a-8247-ecda241ce2bd\n"
     ]
    }
   ],
   "source": [
    "def funcx_hello(event):\n",
    "    import time\n",
    "#     time.sleep(20)\n",
    "    name = event['name']\n",
    "    return f\"Hello, {name}\"\n",
    "\n",
    "func_uuid = fxc.register_function(funcx_hello,\n",
    "                                  description=\"A hello dict function\")\n",
    "print(func_uuid)"
   ]
  },
  {
   "cell_type": "markdown",
   "metadata": {},
   "source": [
    "### Test the funcX function"
   ]
  },
  {
   "cell_type": "code",
   "execution_count": 6,
   "metadata": {},
   "outputs": [],
   "source": [
    "payload = {'name': \"Ryan\"}\n",
    "\n",
    "endpoint_uuid = '4b116d3c-1703-4f8f-9f6f-39921e5864df'"
   ]
  },
  {
   "cell_type": "code",
   "execution_count": 7,
   "metadata": {},
   "outputs": [
    {
     "name": "stdout",
     "output_type": "stream",
     "text": [
      "033e1249-bc5e-480a-bb4f-bbf95b23e180\n"
     ]
    }
   ],
   "source": [
    "res = fxc.run(payload, endpoint_id=endpoint_uuid, function_id=func_uuid)\n",
    "print(res)"
   ]
  },
  {
   "cell_type": "code",
   "execution_count": 8,
   "metadata": {},
   "outputs": [
    {
     "data": {
      "text/plain": [
       "'Hello, Ryan'"
      ]
     },
     "execution_count": 8,
     "metadata": {},
     "output_type": "execute_result"
    }
   ],
   "source": [
    "fxc.get_result(res)"
   ]
  },
  {
   "cell_type": "markdown",
   "metadata": {},
   "source": [
    "### Now create a one step flow using funcx"
   ]
  },
  {
   "cell_type": "code",
   "execution_count": 9,
   "metadata": {},
   "outputs": [],
   "source": [
    "flow_definition = {\n",
    "  \"Comment\": \"Automate funcX\",\n",
    "  \"StartAt\": \"funcx\",\n",
    "  \"States\": {\n",
    "    \"funcx\": {\n",
    "      \"Comment\": \"run funcX\",\n",
    "      \"Type\": \"Action\",\n",
    "      \"ActionUrl\": \"https://api.funcx.org/automate\",\n",
    "      \"ActionScope\": \"https://auth.globus.org/scopes/facd7ccc-c5f4-42aa-916b-a0e270e2c2a9/automate2\",\n",
    "      \"InputPath\": \"$.Exec1Input\",\n",
    "      \"ResultPath\": \"$.Exec1Result\",\n",
    "      \"WaitTime\": 1000,\n",
    "      \"End\": True\n",
    "    }\n",
    "  }\n",
    "}"
   ]
  },
  {
   "cell_type": "code",
   "execution_count": 10,
   "metadata": {},
   "outputs": [
    {
     "name": "stdout",
     "output_type": "stream",
     "text": [
      "GlobusHTTPResponse({'action_url': 'https://flows.globus.org/flows/6313ba4c-45d6-4327-af14-fab275bd2cea', 'administered_by': [], 'api_version': '1.0', 'definition': {'Comment': 'Automate funcX', 'StartAt': 'funcx', 'States': {'funcx': {'ActionScope': 'https://auth.globus.org/scopes/facd7ccc-c5f4-42aa-916b-a0e270e2c2a9/automate2', 'ActionUrl': 'https://api.funcx.org/automate', 'Comment': 'run funcX', 'End': True, 'InputPath': '$.Exec1Input', 'ResultPath': '$.Exec1Result', 'Type': 'Action', 'WaitTime': 1000}}}, 'description': '', 'globus_auth_scope': 'https://auth.globus.org/scopes/6313ba4c-45d6-4327-af14-fab275bd2cea/flow_6313ba4c_45d6_4327_af14_fab275bd2cea_user', 'globus_auth_username': '6313ba4c-45d6-4327-af14-fab275bd2cea@clients.auth.globus.org', 'id': '6313ba4c-45d6-4327-af14-fab275bd2cea', 'keywords': [], 'log_supported': True, 'principal_urn': 'urn:globus:auth:identity:6313ba4c-45d6-4327-af14-fab275bd2cea', 'runnable_by': [], 'subtitle': '', 'synchronous': False, 'title': 'test funcx', 'types': ['Action'], 'visible_to': []})\n",
      "Newly created flow with id:\n",
      "6313ba4c-45d6-4327-af14-fab275bd2cea\n",
      "and scope:\n",
      "https://auth.globus.org/scopes/6313ba4c-45d6-4327-af14-fab275bd2cea/flow_6313ba4c_45d6_4327_af14_fab275bd2cea_user\n"
     ]
    }
   ],
   "source": [
    "flows_client = create_flows_client(CLIENT_ID)\n",
    "flow = flows_client.deploy_flow(flow_definition, title=\"test funcx\")\n",
    "flow_id = flow['id']\n",
    "print(flow)\n",
    "flow_scope = flow['globus_auth_scope']\n",
    "print(f'Newly created flow with id:\\n{flow_id}\\nand scope:\\n{flow_scope}')"
   ]
  },
  {
   "cell_type": "code",
   "execution_count": 11,
   "metadata": {},
   "outputs": [
    {
     "data": {
      "image/svg+xml": [
       "<?xml version=\"1.0\" encoding=\"UTF-8\" standalone=\"no\"?>\n",
       "<!DOCTYPE svg PUBLIC \"-//W3C//DTD SVG 1.1//EN\"\n",
       " \"http://www.w3.org/Graphics/SVG/1.1/DTD/svg11.dtd\">\n",
       "<!-- Generated by graphviz version 2.30.1 (20200304.1809)\n",
       " -->\n",
       "<!-- Title: %3 Pages: 1 -->\n",
       "<svg width=\"158pt\" height=\"46pt\"\n",
       " viewBox=\"0.00 0.00 158.00 46.00\" xmlns=\"http://www.w3.org/2000/svg\" xmlns:xlink=\"http://www.w3.org/1999/xlink\">\n",
       "<g id=\"graph0\" class=\"graph\" transform=\"scale(1 1) rotate(0) translate(4 42)\">\n",
       "<title>%3</title>\n",
       "<polygon fill=\"white\" stroke=\"white\" points=\"-4,5 -4,-42 155,-42 155,5 -4,5\"/>\n",
       "<!-- funcx -->\n",
       "<g id=\"node1\" class=\"node\"><title>funcx</title>\n",
       "<polygon fill=\"none\" stroke=\"black\" points=\"150,-37.5 0,-37.5 0,-0.5 150,-0.5 150,-37.5\"/>\n",
       "<text text-anchor=\"start\" x=\"59.5\" y=\"-23.3\" font-family=\"Times,serif\" font-size=\"14.00\">funcx</text>\n",
       "<text text-anchor=\"start\" x=\"8\" y=\"-9.3\" font-family=\"Times,serif\" font-size=\"14.00\">InputPath: $.Exec1Input</text>\n",
       "</g>\n",
       "</g>\n",
       "</svg>\n"
      ],
      "text/plain": [
       "<graphviz.dot.Digraph at 0x7f5a2a707df0>"
      ]
     },
     "metadata": {},
     "output_type": "display_data"
    }
   ],
   "source": [
    "get_resp = flows_client.get_flow(flow_id)\n",
    "flow_def = get_resp.data['definition']\n",
    "flow_graph = graphviz_format(flow_def)\n",
    "display(flow_graph)"
   ]
  },
  {
   "cell_type": "code",
   "execution_count": 12,
   "metadata": {},
   "outputs": [],
   "source": [
    "payload = {'name':'Hello'}"
   ]
  },
  {
   "cell_type": "code",
   "execution_count": 13,
   "metadata": {},
   "outputs": [],
   "source": [
    "flow_input = {\n",
    "  \"Exec1Input\": {\n",
    "      \"tasks\": [{\n",
    "         \"endpoint\": endpoint_uuid,\n",
    "         \"func\": func_uuid,\n",
    "         \"payload\": payload}],\n",
    "  }\n",
    "}\n"
   ]
  },
  {
   "cell_type": "code",
   "execution_count": 14,
   "metadata": {},
   "outputs": [
    {
     "name": "stdout",
     "output_type": "stream",
     "text": [
      "{'Exec1Input': {'tasks': [{'endpoint': '4b116d3c-1703-4f8f-9f6f-39921e5864df', 'func': '2de2a152-3a71-4b5a-8247-ecda241ce2bd', 'payload': {'name': 'Hello'}}]}}\n"
     ]
    }
   ],
   "source": [
    "print(flow_input)"
   ]
  },
  {
   "cell_type": "code",
   "execution_count": 15,
   "metadata": {},
   "outputs": [
    {
     "name": "stdout",
     "output_type": "stream",
     "text": [
      "Starting login with Globus Auth, press ^C to cancel.\n",
      "GlobusHTTPResponse({'action_id': 'e4bf56d2-d7bb-4e10-b463-a682b240eafa', 'completion_time': 'None', 'created_by': 'urn:globus:auth:identity:a478e9c0-d274-11e5-9901-63aaec352b80', 'details': {'code': 'ActionStarted', 'description': 'State funcx of type Action started', 'details': {'input': {'tasks': [{'endpoint': '4b116d3c-1703-4f8f-9f6f-39921e5864df', 'func': '2de2a152-3a71-4b5a-8247-ecda241ce2bd', 'payload': {'name': 'Hello'}}]}, 'state_name': 'funcx', 'state_type': 'Action'}, 'time': '2021-02-04T15:44:16.386000+00:00'}, 'start_time': '2021-02-04T15:44:16.347000+00:00', 'status': 'ACTIVE'})\n",
      "Flow action started with id: e4bf56d2-d7bb-4e10-b463-a682b240eafa\n",
      "Flow status: SUCCEEDED\n"
     ]
    }
   ],
   "source": [
    "flow_action = flows_client.run_flow(flow_id, flow_scope, flow_input)\n",
    "print(flow_action)\n",
    "flow_action_id = flow_action['action_id']\n",
    "flow_status = flow_action['status']\n",
    "print(f'Flow action started with id: {flow_action_id}')\n",
    "while flow_status == 'ACTIVE':\n",
    "    time.sleep(10)\n",
    "    flow_action = flows_client.flow_action_status(flow_id, flow_scope, flow_action_id)\n",
    "    flow_status = flow_action['status']\n",
    "    print(f'Flow status: {flow_status}')"
   ]
  },
  {
   "cell_type": "code",
   "execution_count": 16,
   "metadata": {},
   "outputs": [
    {
     "data": {
      "text/plain": [
       "GlobusHTTPResponse({'action_id': 'e4bf56d2-d7bb-4e10-b463-a682b240eafa', 'completion_time': '2021-02-04T15:44:23.374000+00:00', 'created_by': 'urn:globus:auth:identity:a478e9c0-d274-11e5-9901-63aaec352b80', 'details': {'output': {'Exec1Input': {'tasks': [{'endpoint': '4b116d3c-1703-4f8f-9f6f-39921e5864df', 'func': '2de2a152-3a71-4b5a-8247-ecda241ce2bd', 'payload': {'name': 'Hello'}}]}, 'Exec1Result': {'action_id': 'ab57bc14-bf3c-4a5a-b954-44351b3550e1', 'details': {'completion_t': '1612453462.8109565', 'exception': None, 'result': 'Hello, Hello', 'status': 'SUCCEEDED', 'task_id': 'ab57bc14-bf3c-4a5a-b954-44351b3550e1'}, 'release_after': 'P30D', 'state_name': 'funcx', 'status': 'SUCCEEDED'}}}, 'start_time': '2021-02-04T15:44:16.347000+00:00', 'status': 'SUCCEEDED'})"
      ]
     },
     "execution_count": 16,
     "metadata": {},
     "output_type": "execute_result"
    }
   ],
   "source": [
    "flow_action"
   ]
  },
  {
   "cell_type": "code",
   "execution_count": 17,
   "metadata": {},
   "outputs": [
    {
     "data": {
      "text/plain": [
       "{'Exec1Input': {'tasks': [{'endpoint': '4b116d3c-1703-4f8f-9f6f-39921e5864df',\n",
       "    'func': '2de2a152-3a71-4b5a-8247-ecda241ce2bd',\n",
       "    'payload': {'name': 'Hello'}}]},\n",
       " 'Exec1Result': {'action_id': 'ab57bc14-bf3c-4a5a-b954-44351b3550e1',\n",
       "  'details': {'completion_t': '1612453462.8109565',\n",
       "   'exception': None,\n",
       "   'result': 'Hello, Hello',\n",
       "   'status': 'SUCCEEDED',\n",
       "   'task_id': 'ab57bc14-bf3c-4a5a-b954-44351b3550e1'},\n",
       "  'release_after': 'P30D',\n",
       "  'state_name': 'funcx',\n",
       "  'status': 'SUCCEEDED'}}"
      ]
     },
     "execution_count": 17,
     "metadata": {},
     "output_type": "execute_result"
    }
   ],
   "source": [
    "flow_action['details']['output']#['Exec1Result']['details']['result']"
   ]
  },
  {
   "cell_type": "code",
   "execution_count": 18,
   "metadata": {},
   "outputs": [],
   "source": [
    "import globus_automate_client"
   ]
  },
  {
   "cell_type": "code",
   "execution_count": 19,
   "metadata": {},
   "outputs": [
    {
     "data": {
      "text/plain": [
       "'0.10.5'"
      ]
     },
     "execution_count": 19,
     "metadata": {},
     "output_type": "execute_result"
    }
   ],
   "source": [
    "globus_automate_client.__version__"
   ]
  },
  {
   "cell_type": "code",
   "execution_count": null,
   "metadata": {},
   "outputs": [],
   "source": []
  }
 ],
 "metadata": {
  "celltoolbar": "Attachments",
  "kernelspec": {
   "display_name": "Python 3",
   "language": "python",
   "name": "python3"
  },
  "language_info": {
   "codemirror_mode": {
    "name": "ipython",
    "version": 3
   },
   "file_extension": ".py",
   "mimetype": "text/x-python",
   "name": "python",
   "nbconvert_exporter": "python",
   "pygments_lexer": "ipython3",
   "version": "3.8.5"
  }
 },
 "nbformat": 4,
 "nbformat_minor": 2
}
