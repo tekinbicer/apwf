{
 "cells": [
  {
   "cell_type": "code",
   "execution_count": 1,
   "metadata": {},
   "outputs": [],
   "source": [
    "# coding: utf-8\n",
    "from funcx.sdk.client import FuncXClient\n",
    "import sys\n",
    "import time"
   ]
  },
  {
   "cell_type": "code",
   "execution_count": 2,
   "metadata": {},
   "outputs": [],
   "source": [
    "fxc = FuncXClient()"
   ]
  },
  {
   "cell_type": "code",
   "execution_count": 3,
   "metadata": {},
   "outputs": [],
   "source": [
    "def pi(num_points):\n",
    "    from random import random\n",
    "    inside = 0\n",
    "    for i in range(num_points):\n",
    "        x, y = random(), random()  # Drop a random point in the box.\n",
    "        if x**2 + y**2 < 1:        # Count points within the circle.\n",
    "            inside += 1\n",
    "    return (inside*4 / num_points)\n",
    "\n",
    "def hworld():\n",
    "    std = \"hello world\"\n",
    "    print(std)\n",
    "    return std"
   ]
  },
  {
   "cell_type": "code",
   "execution_count": 4,
   "metadata": {},
   "outputs": [],
   "source": [
    "#theta_ptych_endpoint = 'f765db7a-038c-47ea-9176-d81de31c054f'\n",
    "theta_default_endpoint = '11067a74-98cc-409c-9339-af7c2938fa62'#'7f42390d-849a-42a7-905c-db6b22af28f7'\n",
    "theta_knl_endpoint = '2feb2ed7-32ec-426f-9d0c-f85f2ef324a2'\n",
    "theta_gpu_endpoint = '5b5de98e-7701-4484-b03c-619a557c5fe6'\n",
    "mona_ptycho_endpoint = '37766683-85e2-49df-a1a7-6a070f566022'#'da281398-ac3b-4a22-9859-00880a99ac4b' #'4bf59543-3398-42d2-9416-c628e9f5635f' #prisma_endpoint\n",
    "mona2_ptycho_endpoint = '190dfdbd-4d4f-40fa-a0b1-63237042f989'\n",
    "polaris_gpu_endpoint = 'ef62df54-6d3c-43ff-8f84-c334f3ab3000'"
   ]
  },
  {
   "cell_type": "code",
   "execution_count": 5,
   "metadata": {},
   "outputs": [
    {
     "name": "stdout",
     "output_type": "stream",
     "text": [
      "c4f85035-1ccf-4436-95ef-abe44030dd33\n"
     ]
    }
   ],
   "source": [
    "pi_function = fxc.register_function(pi)\n",
    "hw_function = fxc.register_function(hworld)\n",
    "print(pi_function)"
   ]
  },
  {
   "cell_type": "code",
   "execution_count": 6,
   "metadata": {},
   "outputs": [],
   "source": [
    "# mona-ptycho-endpoint\n",
    "#res = fxc.run(10**8, endpoint_id=mona2_ptycho_endpoint, function_id=pi_function)\n",
    "#res = fxc.run(endpoint_id=mona_ptycho_endpoint, function_id=hw_function)\n",
    "\n",
    "# theta-default_endpoint\n",
    "#res = fxc.run(10**8, endpoint_id=theta_default_endpoint, function_id=pi_function)\n",
    "#res = fxc.run(endpoint_id=theta_default_endpoint, function_id=hw_function)\n",
    "\n",
    "# theta-knl-endpoint\n",
    "res = fxc.run(10**8, endpoint_id=theta_knl_endpoint, function_id=pi_function)\n",
    "#res = fxc.run(endpoint_id=theta_default_endpoint, function_id=hw_function)\n",
    "\n",
    "\n",
    "# theta-gpu-endpoint\n",
    "#res = fxc.run(10**7, endpoint_id=theta_gpu_endpoint, function_id=pi_function)\n",
    "#res = fxc.run(endpoint_id=theta_gpu_endpoint, function_id=hw_function)\n",
    "\n",
    "# polaris-gpu-endpoint\n",
    "#res = fxc.run(10**8, endpoint_id=polaris_gpu_endpoint, function_id=pi_function)\n",
    "#res = fxc.run(endpoint_id=polaris_gpu_endpoint, function_id=hw_function)"
   ]
  },
  {
   "cell_type": "code",
   "execution_count": 14,
   "metadata": {},
   "outputs": [],
   "source": [
    "pi_res = fxc.get_result(res)"
   ]
  },
  {
   "cell_type": "code",
   "execution_count": 15,
   "metadata": {},
   "outputs": [
    {
     "name": "stdout",
     "output_type": "stream",
     "text": [
      "3.14134988\n"
     ]
    }
   ],
   "source": [
    "print(pi_res)"
   ]
  },
  {
   "cell_type": "code",
   "execution_count": 13,
   "metadata": {},
   "outputs": [],
   "source": [
    "import funcx"
   ]
  },
  {
   "cell_type": "code",
   "execution_count": null,
   "metadata": {},
   "outputs": [],
   "source": [
    "funcx.__version__"
   ]
  },
  {
   "cell_type": "code",
   "execution_count": null,
   "metadata": {},
   "outputs": [],
   "source": [
    "while True:\n",
    "    pi_res = \"\"\n",
    "    try:\n",
    "        time.sleep(30)\n",
    "        pi_res = fxc.get_result(res)\n",
    "    except KeyboardInterrupt:\n",
    "        break\n",
    "    except:\n",
    "        print(\"Result is not ready:{}: {}\".format(sys.exc_info()[0], pi_res))\n",
    "        continue\n",
    "    break\n",
    "print(pi_res)"
   ]
  },
  {
   "cell_type": "code",
   "execution_count": null,
   "metadata": {},
   "outputs": [],
   "source": [
    "def get_file_paths(path):\n",
    "    import glob\n",
    "    import re\n",
    "    \n",
    "    return sorted(glob.glob(path, recursive=True),\n",
    "                key = lambda v : int(re.search(r\"(\\d+)\" , v[len(v)-\"\".join((reversed(v))).index('/'):v.index('.')]).group(0)))"
   ]
  },
  {
   "cell_type": "code",
   "execution_count": null,
   "metadata": {},
   "outputs": [],
   "source": [
    "prisma_fx_endpoint = '4bf59543-3398-42d2-9416-c628e9f5635f'"
   ]
  },
  {
   "cell_type": "code",
   "execution_count": null,
   "metadata": {},
   "outputs": [],
   "source": [
    "get_file_paths_fx_func = fxc.register_function(get_file_paths)"
   ]
  },
  {
   "cell_type": "code",
   "execution_count": null,
   "metadata": {},
   "outputs": [],
   "source": [
    "src_filepath = '/prisma-data1/bicer/workflow/input_all/*.h5'\n",
    "all_filepath_cid = fxc.run(src_filepath, endpoint_id=prisma_fx_endpoint, function_id=get_file_paths_fx_func)\n",
    "all_filepaths = fxc.get_result(all_filepath_cid)\n",
    "\n",
    "for path in all_filepaths:\n",
    "    print(path)"
   ]
  },
  {
   "cell_type": "code",
   "execution_count": null,
   "metadata": {},
   "outputs": [],
   "source": [
    "import re\n",
    "for path in all_filepaths:\n",
    "    ids = re.findall(r'\\d+', path)\n",
    "    dest_fpath = f\"/prisma-data1/bicer/workflow/input/scan{ids[-2]}/\"\n",
    "    #os.makedirs(os.path.dirname(dest_fpath), exist_ok=True)\n",
    "    #shutil.copy(path, dest_fpath)\n"
   ]
  },
  {
   "cell_type": "code",
   "execution_count": null,
   "metadata": {},
   "outputs": [],
   "source": [
    "from funcx.serialize import FuncXSerializer\n",
    "fxs = FuncXSerializer() # (de)serialize the funcx codes\n",
    "val =  fxs.deserialize(b'2743\\n04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\\nLnN0ZG91dH0iCiAgICByZXR1cm4gb3V0c3RyCpSGlC4=\\n810\\n01\\ngAN9cQAoWAYAAABpZnBhdGhxAVhCAAAAL2dyYW5kL2hwLXB0eWNoby9iaWNlci9wdHljaG8vY29t\\nbV8zM0lERC9nbG9idXNfYXV0b21hdGUvaW5wdXQvMzAwcQJYBgAAAG9mcGF0aHEDWEQAAAAvZ3Jh\\nbmQvaHAtcHR5Y2hvL2JpY2VyL3B0eWNoby9jb21tXzMzSUREL2dsb2J1c19hdXRvbWF0ZS9vdXRw\\ndXQvMzAwL3EEWAsAAABzY3JpcHRfcGF0aHEFWDYAAAAvaG9tZS9iaWNlci9wcm9qZWN0cy90aWtl\\nL3NjcmlwdHMvdGlrZS1wdHljaG8tcmVjb24ucHlxBlgLAAAAcHl0aG9uX3BhdGhxB1glAAAAL2hv\\nbWUvYmljZXIvcHJvamVjdHMvdHlsZXIvYmluL3B5dGhvbnEIWAcAAAByZWNfYWxncQlYBQAAAGNn\\ncmFkcQpYCgAAAHJlY19ubW9kZXNxC0sIWAsAAAByZWNfdXBkX3Bvc3EMiVgJAAAAcmVjX25pdGVy\\ncQ1LHlgPAAAAcmVjX291dHB1dF9mcmVxcQ5LBVgPAAAAcmVjX3JlY292ZXJfcHNpcQ+IWBEAAABy\\nZWNfcmVjb3Zlcl9wcm9iZXEQiFgVAAAAcmVjX3JlY292ZXJfcG9zaXRpb25zcRGJWAkAAAByZWNf\\nbW9kZWxxElgIAAAAZ2F1c3NpYW5xE1gIAAAAcmVjX25ncHVxFEsBWAsAAAByZWNfdXNlX21waXEV\\niVgNAAAAcmVjX292ZXJ3cml0ZXEWiHWFcRcu\\n12\\n01\\ngAN9cQAu\\n')\n",
    "print(val)"
   ]
  },
  {
   "cell_type": "code",
   "execution_count": null,
   "metadata": {},
   "outputs": [],
   "source": [
    "import csv\n",
    "import datetime"
   ]
  },
  {
   "cell_type": "code",
   "execution_count": null,
   "metadata": {},
   "outputs": [],
   "source": [
    "def append_activated_iids(data, csv_path='/home/beams2/TBICER/logs/some.csv'):\n",
    "    with open('/home/beams2/TBICER/logs/some.csv', 'a', newline='') as f:\n",
    "        writer = csv.writer(f)\n",
    "        for row in data:\n",
    "            writer.writerow([row, datetime.datetime.now()])"
   ]
  },
  {
   "cell_type": "code",
   "execution_count": null,
   "metadata": {},
   "outputs": [],
   "source": [
    "def read_activated_iids(csv_path='/home/beams2/TBICER/logs/some.csv'):\n",
    "    vals = []\n",
    "    with open(csv_path, newline='') as f:\n",
    "        reader = csv.reader(f)\n",
    "        for row in reader:\n",
    "            vals.append(row)\n",
    "    return vals"
   ]
  },
  {
   "cell_type": "code",
   "execution_count": null,
   "metadata": {},
   "outputs": [],
   "source": [
    "t0 = '001'\n",
    "t1 = '002'\n",
    "data = [t0, t1]\n",
    "\n",
    "append_activated_iids(data)\n",
    "vals = read_activated_iids()\n",
    "\n",
    "iids_only = []\n",
    "for val in vals:\n",
    "    iids_only.append(val[0])\n",
    "\n",
    "print('003' in iids_only)"
   ]
  },
  {
   "cell_type": "code",
   "execution_count": null,
   "metadata": {},
   "outputs": [],
   "source": [
    "vals[0][1]"
   ]
  },
  {
   "cell_type": "code",
   "execution_count": null,
   "metadata": {},
   "outputs": [],
   "source": []
  }
 ],
 "metadata": {
  "kernelspec": {
   "display_name": "Python 3 (ipykernel)",
   "language": "python",
   "name": "python3"
  },
  "language_info": {
   "codemirror_mode": {
    "name": "ipython",
    "version": 3
   },
   "file_extension": ".py",
   "mimetype": "text/x-python",
   "name": "python",
   "nbconvert_exporter": "python",
   "pygments_lexer": "ipython3",
   "version": "3.9.6"
  }
 },
 "nbformat": 4,
 "nbformat_minor": 4
}
