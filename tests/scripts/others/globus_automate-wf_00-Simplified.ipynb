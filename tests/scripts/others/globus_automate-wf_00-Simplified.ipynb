{
 "cells": [
  {
   "cell_type": "code",
   "execution_count": 1,
   "metadata": {},
   "outputs": [],
   "source": [
    "import time\n",
    "import json\n",
    "import sys\n",
    "import os\n",
    "\n",
    "from globus_automate_client import (create_flows_client, graphviz_format, state_colors_for_log,\n",
    "                                    create_action_client, \n",
    "                                    create_flows_client)"
   ]
  },
  {
   "cell_type": "code",
   "execution_count": 2,
   "metadata": {},
   "outputs": [],
   "source": [
    "CLIENT_ID = \"e6c75d97-532a-4c88-b031-8584a319fa3e\""
   ]
  },
  {
   "cell_type": "code",
   "execution_count": 3,
   "metadata": {},
   "outputs": [],
   "source": [
    "flow_definition = {\n",
    "  \"Comment\": \"An analysis flow\",\n",
    "  \"StartAt\": \"Transfer\",\n",
    "  \"States\": {\n",
    "    \"Transfer\": {\n",
    "      \"Comment\": \"Initial transfer\",\n",
    "      \"Type\": \"Action\",\n",
    "      \"ActionUrl\": \"https://actions.automate.globus.org/transfer/transfer\",\n",
    "      \"ActionScope\": \"https://auth.globus.org/scopes/actions.globus.org/transfer/transfer\",\n",
    "      \"Parameters\": {\n",
    "        \"source_endpoint_id.$\": \"$.input.source_endpoint\", \n",
    "        \"destination_endpoint_id.$\": \"$.input.dest_endpoint\",\n",
    "        \"transfer_items\": [\n",
    "          {\n",
    "            \"source_path.$\": \"$.input.source_path\",\n",
    "            \"destination_path.$\": \"$.input.dest_path\",\n",
    "            \"recursive\": False\n",
    "          }\n",
    "        ]\n",
    "      },\n",
    "      \"ResultPath\": \"$.Transfer1Result\",\n",
    "      \"WaitTime\": 600,\n",
    "      \"End\": True\n",
    "    },\n",
    "  }\n",
    "}"
   ]
  },
  {
   "cell_type": "code",
   "execution_count": 4,
   "metadata": {},
   "outputs": [
    {
     "name": "stdout",
     "output_type": "stream",
     "text": [
      "GlobusHTTPResponse({'action_url': 'https://flows.globus.org/flows/b4692aa2-6e4a-431d-bec1-8ec0354461e3', 'administered_by': [], 'api_version': '1.0', 'definition': {'Comment': 'An analysis flow', 'StartAt': 'Transfer', 'States': {'Transfer': {'ActionScope': 'https://auth.globus.org/scopes/actions.globus.org/transfer/transfer', 'ActionUrl': 'https://actions.automate.globus.org/transfer/transfer', 'Comment': 'Initial transfer', 'End': True, 'Parameters': {'destination_endpoint_id.$': '$.input.dest_endpoint', 'source_endpoint_id.$': '$.input.source_endpoint', 'transfer_items': [{'destination_path.$': '$.input.dest_path', 'recursive': False, 'source_path.$': '$.input.source_path'}]}, 'ResultPath': '$.Transfer1Result', 'Type': 'Action', 'WaitTime': 600}}}, 'description': '', 'globus_auth_scope': 'https://auth.globus.org/scopes/b4692aa2-6e4a-431d-bec1-8ec0354461e3/flow_b4692aa2_6e4a_431d_bec1_8ec0354461e3_user', 'globus_auth_username': 'b4692aa2-6e4a-431d-bec1-8ec0354461e3@clients.auth.globus.org', 'id': 'b4692aa2-6e4a-431d-bec1-8ec0354461e3', 'keywords': [], 'log_supported': True, 'principal_urn': 'urn:globus:auth:identity:b4692aa2-6e4a-431d-bec1-8ec0354461e3', 'runnable_by': [], 'subtitle': '', 'synchronous': False, 'title': 'Simple data transfer', 'types': ['Action'], 'visible_to': []})\n",
      "Newly created flow with id:\n",
      "b4692aa2-6e4a-431d-bec1-8ec0354461e3\n",
      "and scope:\n",
      "https://auth.globus.org/scopes/b4692aa2-6e4a-431d-bec1-8ec0354461e3/flow_b4692aa2_6e4a_431d_bec1_8ec0354461e3_user\n"
     ]
    }
   ],
   "source": [
    "flows_client = create_flows_client(CLIENT_ID)\n",
    "flow = flows_client.deploy_flow(flow_definition, title=\"Simple data transfer\")\n",
    "flow_id = flow['id']\n",
    "\n",
    "print(flow)\n",
    "\n",
    "flow_scope = flow['globus_auth_scope']\n",
    "\n",
    "print(f'Newly created flow with id:\\n{flow_id}\\nand scope:\\n{flow_scope}')"
   ]
  },
  {
   "cell_type": "code",
   "execution_count": 11,
   "metadata": {},
   "outputs": [
    {
     "name": "stdout",
     "output_type": "stream",
     "text": [
      "transfer file from 9c9cb97e-de86-11e6-9d15-22000a1e3b52#/gdata/RAVEN/bicer/2020-1/comm_33IDD/extracted_tekin/extracted_scan213.h5 to 08925f04-569f-11e7-bef8-22000b9a448b#/lus/grand/projects/hp-ptycho/bicer/ptycho/comm_33IDD/globus_automate/transferred/\n"
     ]
    }
   ],
   "source": [
    "theta_fx_endpoint = 'f765db7a-038c-47ea-9176-d81de31c054f' #FuncX endpoint\n",
    "\n",
    "src_endpoint = '9c9cb97e-de86-11e6-9d15-22000a1e3b52' #'aps#data' # Voyager\n",
    "dest_endpoint = '08925f04-569f-11e7-bef8-22000b9a448b' #'alcf#dtn_theta' # Theta DTN\n",
    "\n",
    "src_filepath = '/gdata/RAVEN/bicer/2020-1/comm_33IDD/extracted_tekin'\n",
    "src_filename = 'extracted_scan213.h5'\n",
    "src_result_path = '/gdata/RAVEN/bicer/2020-1/comm_33IDD/globus_automate_results'\n",
    "\n",
    "dest_filepath = '/lus/grand/projects/hp-ptycho/bicer/ptycho/comm_33IDD/globus_automate/transferred'\n",
    "dest_resultpath = '/lus/grand/projects/hp-ptycho/bicer/ptycho/comm_33IDD/globus_automate/result'\n",
    "\n",
    "flow_input = {\n",
    "    \"input\": {\n",
    "        \"source_endpoint\": f\"{src_endpoint}\",\n",
    "        \"source_path\": f\"{src_filepath}/{src_filename}\",\n",
    "        \"dest_endpoint\": dest_endpoint,\n",
    "        \"dest_path\": f\"{dest_filepath}/{src_filename}\",\n",
    "    }\n",
    "}\n",
    "\n",
    "print(f\"transfer file from {src_endpoint}#{src_filepath}/{src_filename} to {dest_endpoint}#{dest_filepath}/\")"
   ]
  },
  {
   "cell_type": "code",
   "execution_count": 12,
   "metadata": {},
   "outputs": [
    {
     "name": "stdout",
     "output_type": "stream",
     "text": [
      "GlobusHTTPResponse({'action_id': 'efa833ae-6610-41c1-8b73-3e7b35666929', 'completion_time': 'None', 'created_by': 'urn:globus:auth:identity:a478e9c0-d274-11e5-9901-63aaec352b80', 'details': {'code': 'ActionStarted', 'description': 'State Transfer of type Action started', 'details': {'input': {'destination_endpoint_id': '08925f04-569f-11e7-bef8-22000b9a448b', 'source_endpoint_id': '9c9cb97e-de86-11e6-9d15-22000a1e3b52', 'transfer_items': [{'destination_path': '/lus/grand/projects/hp-ptycho/bicer/ptycho/comm_33IDD/globus_automate/transferred/extracted_scan213.h5', 'recursive': False, 'source_path': '/gdata/RAVEN/bicer/2020-1/comm_33IDD/extracted_tekin/extracted_scan213.h5'}]}, 'state_name': 'Transfer', 'state_type': 'Action'}, 'time': '2021-02-03T19:04:08.966000+00:00'}, 'start_time': '2021-02-03T19:04:08.939000+00:00', 'status': 'ACTIVE'})\n",
      "Flow action started with id: efa833ae-6610-41c1-8b73-3e7b35666929\n",
      "Flow status: ACTIVE\n",
      "Flow status: SUCCEEDED\n"
     ]
    }
   ],
   "source": [
    "flow_action = flows_client.run_flow(flow_id, flow_scope, flow_input)\n",
    "print(flow_action)\n",
    "\n",
    "flow_action_id = flow_action['action_id']\n",
    "\n",
    "flow_status = flow_action['status']\n",
    "print(f'Flow action started with id: {flow_action_id}')\n",
    "\n",
    "\n",
    "while flow_status == 'ACTIVE':\n",
    "    time.sleep(10)\n",
    "    flow_action = flows_client.flow_action_status(flow_id, flow_scope, flow_action_id)\n",
    "    flow_status = flow_action['status']\n",
    "    print(f'Flow status: {flow_status}')"
   ]
  },
  {
   "cell_type": "code",
   "execution_count": 13,
   "metadata": {},
   "outputs": [
    {
     "data": {
      "text/plain": [
       "GlobusHTTPResponse({'action_id': 'efa833ae-6610-41c1-8b73-3e7b35666929', 'completion_time': '2021-02-03T19:04:29.662000+00:00', 'created_by': 'urn:globus:auth:identity:a478e9c0-d274-11e5-9901-63aaec352b80', 'details': {'output': {'Transfer1Result': {'action_id': '1R2DY8jrQYDee', 'completion_time': '2021-02-03T19:04:29.455344+00:00', 'creator_id': 'urn:globus:auth:identity:a478e9c0-d274-11e5-9901-63aaec352b80', 'details': {'bytes_checksummed': 0, 'bytes_transferred': 123438064, 'canceled_by_admin': None, 'canceled_by_admin_message': None, 'command': 'API 0.10', 'completion_time': '2021-02-03T19:04:22+00:00', 'deadline': '2021-02-04T19:04:13+00:00', 'delete_destination_extra': False, 'destination_endpoint': 'alcf#08925f04-569f-11e7-bef8-22000b9a448b', 'destination_endpoint_display_name': 'alcf#dtn_theta', 'destination_endpoint_id': '08925f04-569f-11e7-bef8-22000b9a448b', 'directories': 0, 'effective_bytes_per_second': 12918862, 'encrypt_data': False, 'event_list': [{'DATA_TYPE': 'event', 'code': 'SUCCEEDED', 'description': 'succeeded', 'details': {'files_succeeded': 1}, 'is_error': False, 'time': '2021-02-03T19:04:22+00:00'}, {'DATA_TYPE': 'event', 'code': 'PROGRESS', 'description': 'progress', 'details': {'bytes_transferred': 123438064, 'duration': 7.53, 'mbps': 131.13}, 'is_error': False, 'time': '2021-02-03T19:04:22+00:00'}, {'DATA_TYPE': 'event', 'code': 'STARTED', 'description': 'started', 'details': {'concurrency': 8, 'parallelism': 4, 'pipelining': 20, 'type': 'GridFTP Transfer'}, 'is_error': False, 'time': '2021-02-03T19:04:15+00:00'}], 'fail_on_quota_errors': False, 'fatal_error': None, 'faults': 0, 'files': 1, 'files_skipped': 0, 'files_transferred': 1, 'history_deleted': False, 'is_ok': None, 'is_paused': False, 'key': 'complete,2021-02-03T19:04:22.354322', 'label': 'For Action id 1R2DY8jrQYDee', 'nice_status': None, 'nice_status_details': None, 'nice_status_expires_in': None, 'nice_status_short_description': None, 'owner_id': 'a478e9c0-d274-11e5-9901-63aaec352b80', 'preserve_timestamp': False, 'recursive_symlinks': 'ignore', 'request_time': '2021-02-03T19:04:13+00:00', 'skip_source_errors': False, 'source_endpoint': 'aps#data', 'source_endpoint_display_name': 'aps#data', 'source_endpoint_id': '9c9cb97e-de86-11e6-9d15-22000a1e3b52', 'status': 'SUCCEEDED', 'subtasks_canceled': 0, 'subtasks_expired': 0, 'subtasks_failed': 0, 'subtasks_pending': 0, 'subtasks_retrying': 0, 'subtasks_skipped_errors': 0, 'subtasks_succeeded': 2, 'subtasks_total': 2, 'symlinks': 0, 'sync_level': None, 'task_id': '9a48c214-6652-11eb-8282-0275e0cda761', 'type': 'TRANSFER', 'username': 'bicer', 'verify_checksum': False}, 'release_after': 2592000, 'start_time': '2021-02-03T19:04:10.922863+00:00', 'state_name': 'Transfer', 'status': 'SUCCEEDED'}, 'input': {'dest_endpoint': '08925f04-569f-11e7-bef8-22000b9a448b', 'dest_path': '/lus/grand/projects/hp-ptycho/bicer/ptycho/comm_33IDD/globus_automate/transferred/extracted_scan213.h5', 'source_endpoint': '9c9cb97e-de86-11e6-9d15-22000a1e3b52', 'source_path': '/gdata/RAVEN/bicer/2020-1/comm_33IDD/extracted_tekin/extracted_scan213.h5'}}}, 'start_time': '2021-02-03T19:04:08.939000+00:00', 'status': 'SUCCEEDED'})"
      ]
     },
     "execution_count": 13,
     "metadata": {},
     "output_type": "execute_result"
    }
   ],
   "source": [
    "flow_action"
   ]
  },
  {
   "cell_type": "code",
   "execution_count": null,
   "metadata": {},
   "outputs": [],
   "source": []
  }
 ],
 "metadata": {
  "kernelspec": {
   "display_name": "Python 3",
   "language": "python",
   "name": "python3"
  },
  "language_info": {
   "codemirror_mode": {
    "name": "ipython",
    "version": 3
   },
   "file_extension": ".py",
   "mimetype": "text/x-python",
   "name": "python",
   "nbconvert_exporter": "python",
   "pygments_lexer": "ipython3",
   "version": "3.8.5"
  }
 },
 "nbformat": 4,
 "nbformat_minor": 4
}
