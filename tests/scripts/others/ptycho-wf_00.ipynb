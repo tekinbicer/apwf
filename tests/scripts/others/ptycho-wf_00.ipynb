{
 "cells": [
  {
   "cell_type": "markdown",
   "metadata": {},
   "source": [
    "# Analysis Flow\n",
    "\n",
    "This notebook demonstrates how an Automate Flow can be used to perform analysis. \n",
    "We use a flow that combines Globus Transfer and funcX to move data and then execute an analysis code on the data."
   ]
  },
  {
   "cell_type": "code",
   "execution_count": 1,
   "metadata": {},
   "outputs": [],
   "source": [
    "from globus_automate_client import (create_flows_client, graphviz_format, state_colors_for_log,\n",
    "                                    create_action_client, \n",
    "                                    create_flows_client)\n",
    "\n",
    "import time\n",
    "import json\n",
    "import sys\n",
    "import os\n",
    "\n",
    "from funcx.sdk.client import FuncXClient\n",
    "\n",
    "CLIENT_ID = \"e6c75d97-532a-4c88-b031-8584a319fa3e\""
   ]
  },
  {
   "cell_type": "markdown",
   "metadata": {},
   "source": [
    "## Create an analysis function\n",
    "\n",
    "Use funcX to register a simple analysis function."
   ]
  },
  {
   "cell_type": "code",
   "execution_count": 2,
   "metadata": {},
   "outputs": [],
   "source": [
    "fxc = FuncXClient()"
   ]
  },
  {
   "cell_type": "code",
   "execution_count": 3,
   "metadata": {},
   "outputs": [
    {
     "name": "stdout",
     "output_type": "stream",
     "text": [
      "e68fff47-a540-4af0-aa61-fb7756a74c73\n"
     ]
    }
   ],
   "source": [
    "def ptycho(data):\n",
    "    \"\"\"Test the ptycho tool\"\"\"\n",
    "    import os\n",
    "    import subprocess\n",
    "    from subprocess import PIPE\n",
    "    \n",
    "    python_path = data['python_path']\n",
    "    script_path = data['script_path']\n",
    "    \n",
    "    #convert below params similar to rec_upd_pos\n",
    "    ifpath = data['ifpath']\n",
    "    ofpath = data['ofpath']\n",
    "    rec_alg = data['rec_alg']\n",
    "    rec_nmodes = data['rec_nmodes']\n",
    "    \n",
    "    rec_niter = data['rec_niter']\n",
    "    rec_output_freq = data['rec_output_freq']\n",
    "    rec_recover_psi = '--recover-psi' if (('rec_recover_psi' in data) and data['rec_recover_psi']) else ''\n",
    "    rec_recover_probe = '--recover-probe' if (('rec_recover_probe' in data) and data['rec_recover_probe']) else ''\n",
    "    rec_recover_positions = '--recover-positions' if (('rec_recover_positions' in data) and data['rec_recover_positions']) else ''\n",
    "    rec_model = data['rec_model']\n",
    "    rec_ngpu = data['rec_ngpu']\n",
    "    rec_use_mpi = '--use-mpi' if (('rec_use_mpi' in data) and data['rec_use_mpi']) else ''\n",
    "    \n",
    "    try:\n",
    "        os.mkdir(ofpath)\n",
    "    except:\n",
    "        pass\n",
    "    \n",
    "    cmd = f\"{python_path} {script_path} --algorithm={rec_alg} --nmodes={rec_nmodes} --niter={rec_niter} --output-freq={rec_output_freq} {rec_recover_psi} {rec_recover_probe} {rec_recover_positions} --model={rec_model} --ngpu={rec_ngpu} {rec_use_mpi} --ifile='{ifpath}' --folder='{ofpath}'\"\n",
    "    \n",
    "    try:\n",
    "        res = subprocess.run(cmd, stdout=PIPE, stderr=PIPE,\n",
    "                             shell=True, executable='/bin/bash')\n",
    "    except:\n",
    "        pass\n",
    "    outstr = f\"{res.stdout}\"\n",
    "    return outstr\n",
    "    \n",
    "func_uuid = fxc.register_function(ptycho)\n",
    "print(func_uuid)"
   ]
  },
  {
   "cell_type": "code",
   "execution_count": 4,
   "metadata": {},
   "outputs": [
    {
     "name": "stdout",
     "output_type": "stream",
     "text": [
      "f7f022d6-7c1b-49de-86fe-f7db9de4b7f9\n"
     ]
    }
   ],
   "source": [
    "ifpath = '/lus/grand/projects/hp-ptycho/bicer/ptycho/comm_33IDD/extracted_tekin/extracted_scan350.h5'\n",
    "ofpath = '/lus/grand/projects/hp-ptycho/bicer/ptycho/comm_33IDD/recons/funcx/01/'\n",
    "script_path = '/home/bicer/projects/tike/scripts/mpi_tike-recon.py'\n",
    "python_path = \"/home/bicer/miniconda3/envs/ptycho/bin/python\"\n",
    "\n",
    "rec_alg = 'cgrad'\n",
    "rec_nmodes = 8\n",
    "rec_upd_pos = False\n",
    "rec_niter = 30\n",
    "rec_output_freq = 10\n",
    "rec_recover_psi = True\n",
    "rec_recover_probe= True\n",
    "rec_recover_positions = False\n",
    "rec_model = 'gaussian'\n",
    "rec_ngpu = 8\n",
    "rec_use_mpi = True\n",
    "\n",
    "params = {'ifpath': ifpath,\n",
    "          'ofpath': ofpath,\n",
    "          'script_path': script_path,\n",
    "          'python_path': python_path,\n",
    "          'rec_alg': rec_alg,\n",
    "          'rec_nmodes': rec_nmodes,\n",
    "          'rec_upd_pos': rec_upd_pos,\n",
    "         'rec_niter': rec_niter,\n",
    "         'rec_output_freq': rec_output_freq,\n",
    "         'rec_recover_psi': rec_recover_psi,\n",
    "         'rec_recover_probe': rec_recover_probe,\n",
    "         'rec_recover_positions': rec_recover_positions,\n",
    "         'rec_model': rec_model,\n",
    "         'rec_ngpu': rec_ngpu,\n",
    "         'rec_use_mpi': rec_use_mpi}\n",
    "\n",
    "theta_endpoint = 'f765db7a-038c-47ea-9176-d81de31c054f'\n",
    "res = fxc.run(params, endpoint_id=theta_endpoint, function_id=func_uuid)\n",
    "print(res)"
   ]
  },
  {
   "cell_type": "code",
   "execution_count": 5,
   "metadata": {},
   "outputs": [
    {
     "name": "stdout",
     "output_type": "stream",
     "text": [
      "waiting-for-ep\n",
      "waiting-for-ep\n",
      "waiting-for-ep\n",
      "waiting-for-ep\n",
      "waiting-for-ep\n",
      "waiting-for-launch\n",
      "waiting-for-launch\n",
      "waiting-for-launch\n",
      "waiting-for-launch\n",
      "waiting-for-launch\n",
      "waiting-for-launch\n",
      "waiting-for-launch\n",
      "waiting-for-launch\n",
      "waiting-for-launch\n",
      "running\n",
      "running\n",
      "running\n",
      "running\n",
      "running\n",
      "running\n",
      "running\n",
      "running\n",
      "running\n",
      "running\n",
      "running\n",
      "running\n",
      "running\n",
      "running\n",
      "running\n",
      "running\n",
      "running\n",
      "running\n",
      "running\n",
      "running\n",
      "running\n",
      "running\n",
      "running\n",
      "running\n",
      "running\n",
      "running\n",
      "running\n",
      "running\n",
      "running\n",
      "running\n",
      "running\n",
      "running\n",
      "running\n",
      "running\n",
      "running\n",
      "running\n",
      "running\n",
      "running\n",
      "running\n",
      "running\n",
      "running\n",
      "running\n",
      "running\n",
      "running\n",
      "running\n",
      "running\n",
      "running\n",
      "running\n",
      "running\n"
     ]
    }
   ],
   "source": [
    "while True:\n",
    "    try:\n",
    "        time.sleep(3) #3 secs\n",
    "        mres = fxc.get_result(res)\n",
    "        break\n",
    "    except Exception as e:\n",
    "        print(e)"
   ]
  },
  {
   "cell_type": "code",
   "execution_count": 6,
   "metadata": {},
   "outputs": [
    {
     "name": "stdout",
     "output_type": "stream",
     "text": [
      "b'scan range is (0, 648.7589111328125), (0, 1137.08203125).\\nscan positions are (1, 1847, 2), float32\\ndata is (1, 1847, 128, 128), float32\\nprobe is (1, 1, 1, 7, 128, 128), complex64\\n'\n"
     ]
    }
   ],
   "source": [
    "print(mres)"
   ]
  },
  {
   "cell_type": "code",
   "execution_count": null,
   "metadata": {},
   "outputs": [],
   "source": []
  }
 ],
 "metadata": {
  "kernelspec": {
   "display_name": "Python 3",
   "language": "python",
   "name": "python3"
  },
  "language_info": {
   "codemirror_mode": {
    "name": "ipython",
    "version": 3
   },
   "file_extension": ".py",
   "mimetype": "text/x-python",
   "name": "python",
   "nbconvert_exporter": "python",
   "pygments_lexer": "ipython3",
   "version": "3.8.5"
  }
 },
 "nbformat": 4,
 "nbformat_minor": 4
}
